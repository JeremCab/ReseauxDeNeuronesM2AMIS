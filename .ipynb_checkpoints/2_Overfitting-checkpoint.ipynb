{
 "cells": [
  {
   "cell_type": "markdown",
   "id": "1f0aba1c",
   "metadata": {},
   "source": [
    "# Overfitting"
   ]
  },
  {
   "cell_type": "markdown",
   "id": "749fdda8",
   "metadata": {},
   "source": [
    "## Libraries"
   ]
  },
  {
   "cell_type": "code",
   "execution_count": 1,
   "id": "b2a4b4b5",
   "metadata": {},
   "outputs": [],
   "source": [
    "import torch\n",
    "import matplotlib.pyplot as plt"
   ]
  },
  {
   "cell_type": "markdown",
   "id": "c9e5e456",
   "metadata": {},
   "source": [
    "## Exercice 1"
   ]
  },
  {
   "cell_type": "markdown",
   "id": "2b555137",
   "metadata": {},
   "source": [
    "Draw $N = 20$ points $(x_i, y_i),~i=1,\\dots,N$ according to the function:\n",
    "\n",
    "$$\n",
    "f_{\\epsilon}(x) = \\frac{1}{2}\\ +\\ \\frac{1}{100}\\exp\\left(3x\\right) + \\epsilon,~~~x \\in [-2, 2]\n",
    "$$\n",
    "\n",
    "where $\\epsilon \\sim \\mathcal{N}(\\mu=0, \\sigma=0.3)$ is some normal noise with mean $0$.\n",
    "\n",
    "Let `x_train` be the tensor of all $x_i$'s.<br>\n",
    "Let `y_train` be the tensor of all $y_i$'s.<br>\n",
    "The tensors `x_train` and `y_train` form the **train set**.\n",
    "\n",
    "*Indications:*\n",
    "- For the $x_i$'s:\n",
    "    - create a tensor `x` of $N$ equidistant points inside $[-2, 2]$ (`torch.arange(...)`);\n",
    "- For the $y_i$'s:\n",
    "    - create tensor `y_train` by applying the original function\n",
    "    $$f(x) = \\frac{1}{2}\\ +\\ \\frac{1}{100}\\exp\\left(3x\\right)$$\n",
    "    to `x_train`;\n",
    "    - generate a tensor of noise ``epsilon`` drawn from the normal distribution $\\mathcal{N}(0, \\frac{1}{2})$;\n",
    "    - add `y_train` and `epsilon`."
   ]
  },
  {
   "cell_type": "code",
   "execution_count": null,
   "id": "0c3ab37b",
   "metadata": {},
   "outputs": [],
   "source": []
  },
  {
   "cell_type": "code",
   "execution_count": null,
   "id": "77daa470",
   "metadata": {},
   "outputs": [],
   "source": []
  },
  {
   "cell_type": "code",
   "execution_count": null,
   "id": "85c10e5a",
   "metadata": {},
   "outputs": [],
   "source": []
  },
  {
   "cell_type": "markdown",
   "id": "76a1b755",
   "metadata": {},
   "source": [
    "Exactly as before, draw 20 other points $(x_i, y_i),~i=1,\\dots,N$ according to the function:\n",
    "\n",
    "$$\n",
    "f(x) = \\frac{1}{2}\\ +\\ \\frac{1}{100}\\exp\\left(3x\\right) + \\epsilon,~~~x \\in [0, 2]\n",
    "$$\n",
    "\n",
    "The tensors of $x_i$'s and $y_i$'s are called `x_test` and `y_test`, respectively. <br>\n",
    "The tensors `x_test` and `y_test` form the **test set**."
   ]
  },
  {
   "cell_type": "code",
   "execution_count": null,
   "id": "0eccd911",
   "metadata": {},
   "outputs": [],
   "source": []
  },
  {
   "cell_type": "code",
   "execution_count": null,
   "id": "d6c3ad9c",
   "metadata": {},
   "outputs": [],
   "source": []
  },
  {
   "cell_type": "code",
   "execution_count": null,
   "id": "c9709d76",
   "metadata": {},
   "outputs": [],
   "source": []
  },
  {
   "cell_type": "markdown",
   "id": "2d2830ea",
   "metadata": {},
   "source": [
    "Plot the points $(x_i, y_i),~i=1,\\dots,N$ of the **train set** together with the \"un-noised\" fuction below on the same graph\n",
    "$$\n",
    "f(x) = \\frac{1}{2}\\ +\\ \\frac{1}{100}\\exp\\left(3x\\right)\n",
    "$$\n",
    "\n",
    "(use `matplotlib`)."
   ]
  },
  {
   "cell_type": "markdown",
   "id": "9bdd78a6",
   "metadata": {},
   "source": [
    "Plot the points $(x_i, y_i),~i=1,\\dots,N$ of the **test set** together with the \"un-noised\" fuction below on the same graph\n",
    "$$\n",
    "f(x) = \\frac{1}{2}\\ +\\ \\frac{1}{100}\\exp\\left(3x\\right)\n",
    "$$\n",
    "\n",
    "(use `matplotlib`)."
   ]
  },
  {
   "cell_type": "code",
   "execution_count": null,
   "id": "5a2ae203",
   "metadata": {},
   "outputs": [],
   "source": []
  },
  {
   "cell_type": "code",
   "execution_count": null,
   "id": "d243e4d8",
   "metadata": {},
   "outputs": [],
   "source": []
  },
  {
   "cell_type": "code",
   "execution_count": null,
   "id": "d3cb364c",
   "metadata": {},
   "outputs": [],
   "source": []
  },
  {
   "cell_type": "markdown",
   "id": "66843779",
   "metadata": {},
   "source": [
    "<div class=\"alert alert-block alert-info\">\n",
    "\n",
    "Now, consider the **polynomial model**:\n",
    "$$\n",
    "\\hat f(\\alpha; x) = \\sum_{d=0}^D \\alpha_d x^d\n",
    "$$\n",
    "where $\\alpha = (\\alpha_0,\\dots,\\alpha_D)$ are the parameters of the model.\n",
    "\n",
    "For instance, for $D = 3$, one has:\n",
    "$\n",
    "\\hat f(\\alpha; x) = \\alpha_0 + \\alpha_1 x + \\alpha_2 x^2 + \\alpha_3 x^3\n",
    "$.\n",
    "</div>"
   ]
  },
  {
   "cell_type": "markdown",
   "id": "ea2d0d55",
   "metadata": {},
   "source": [
    "Implement a function `f_hat(alpha, x)` which computes $\\hat f(\\alpha; x_i)$, where:\n",
    "- `alpha` is a tuple of $D$ parameters;.\n",
    "- `x` is a single value."
   ]
  },
  {
   "cell_type": "code",
   "execution_count": null,
   "id": "e251863d",
   "metadata": {},
   "outputs": [],
   "source": []
  },
  {
   "cell_type": "code",
   "execution_count": null,
   "id": "213ce56c",
   "metadata": {},
   "outputs": [],
   "source": []
  },
  {
   "cell_type": "code",
   "execution_count": null,
   "id": "075d8c49",
   "metadata": {},
   "outputs": [],
   "source": []
  },
  {
   "cell_type": "markdown",
   "id": "e9fb0f05",
   "metadata": {},
   "source": [
    "<div class=\"alert alert-block alert-info\">\n",
    "\n",
    "Consider also the following **loss function** to measure the ability of a model $\\hat f(\\alpha; x)$ to fit a set of points $\\{ (x_i, y_i): i=1,\\dots,N \\}$ (sum of squared errors between the predictions and the true values):\n",
    "\\begin{align*}\n",
    "\\mathcal{L} \\left( \\alpha \\right) & = \\sum_{i=1}^N \\left( \\hat f(\\alpha; x_i)  - y_i \\right)^2 \\\\\n",
    "& = \\sum_{i=1}^N \\left( \\sum_{d=0}^D \\alpha_d x_i^d - y_i \\right)^2 \\\\\n",
    "& = \n",
    "\\left\\|~\n",
    "\\left(\n",
    "\\begin{matrix}\n",
    "x_1^0 & \\cdots & x_1^D \\\\\n",
    "\\vdots &  & \\vdots \\\\\n",
    "x_N^0 & \\cdots & x_N^D\n",
    "\\end{matrix}\n",
    "\\right)\n",
    "\\left(\n",
    "\\begin{matrix}\n",
    "\\alpha_0 \\\\\n",
    "\\vdots \\\\\n",
    "\\alpha_D\n",
    "\\end{matrix}\n",
    "\\right)\n",
    "-\n",
    "\\left(\n",
    "\\begin{matrix}\n",
    "y_1 \\\\\n",
    "\\vdots \\\\\n",
    "y_N\n",
    "\\end{matrix}\n",
    "\\right)~\n",
    "\\right\\|_{2}\n",
    "\\end{align*}\n",
    "</div>"
   ]
  },
  {
   "cell_type": "markdown",
   "id": "da1cf34c",
   "metadata": {},
   "source": [
    "Implement the function `loss(alpha, x_t, y_t)` which computes $\\mathcal{L} \\left( \\alpha \\right)$, where:\n",
    "- `alpha` is a tuple of $D$ parameters;\n",
    "- `x_t` is a tensor of $N$ values $x_1, \\dots, x_N$;\n",
    "- `y_t` is a tensor of $N$ values $y_1, \\dots, y_N$.\n",
    "\n",
    "Take `\\alpha = (0.1, 0.2, 0.3)` and compute the loss of the train set given by `x_train` and `y_train` and the loss of the test set given by `x_test` and `y_test`."
   ]
  },
  {
   "cell_type": "code",
   "execution_count": null,
   "id": "4e945e3a",
   "metadata": {},
   "outputs": [],
   "source": []
  },
  {
   "cell_type": "code",
   "execution_count": null,
   "id": "5b62b181",
   "metadata": {},
   "outputs": [],
   "source": []
  },
  {
   "cell_type": "code",
   "execution_count": null,
   "id": "09f1264d",
   "metadata": {},
   "outputs": [],
   "source": []
  },
  {
   "cell_type": "markdown",
   "id": "51bceb1b",
   "metadata": {},
   "source": [
    "<div class=\"alert alert-block alert-info\">\n",
    "\n",
    "The **best model** is the one that minimizes the loss $\\mathcal{L} \\left( \\alpha \\right)$ on the train set\n",
    "\n",
    "$$\n",
    "\\left\\{ (x_{train_i}, y_{train_i}) : i=1,\\dots,N \\right\\}\n",
    "$$\n",
    "    \n",
    "i.e., it is the model\n",
    "\n",
    "$$\\hat f(\\alpha^*; x)$$\n",
    "where\n",
    "\\begin{align}\n",
    "\\alpha^* = (\\alpha^*_0, \\dots ,\\alpha^*_D) & = \\arg \\min_{\\alpha} \\mathcal{L} \\left( \\alpha \\right) \\\\\n",
    "& = \\arg \\min_{\\alpha}\n",
    "\\left\\|~\n",
    "\\left(\n",
    "\\begin{matrix}\n",
    "x_{train_1}^0 & \\cdots & x_{train_1}^D \\\\\n",
    "\\vdots &  & \\vdots \\\\\n",
    "x_{train_N}^0 & \\cdots & x_{train_N}^D\n",
    "\\end{matrix}\n",
    "\\right)\n",
    "\\left(\n",
    "\\begin{matrix}\n",
    "\\alpha_0 \\\\\n",
    "\\vdots \\\\\n",
    "\\alpha_D\n",
    "\\end{matrix}\n",
    "\\right)\n",
    "-\n",
    "\\left(\n",
    "\\begin{matrix}\n",
    "y_{train_1} \\\\\n",
    "\\vdots \\\\\n",
    "y_{train_N}\n",
    "\\end{matrix}\n",
    "\\right)~\n",
    "\\right\\|_{2}\n",
    "\\end{align}\n",
    "</div>"
   ]
  },
  {
   "cell_type": "markdown",
   "id": "feec8156",
   "metadata": {},
   "source": [
    "Define a function `create_features(D, x_t)` which computes the matrix\n",
    "\n",
    "$$\n",
    "X =\n",
    "\\left(\n",
    "\\begin{matrix}\n",
    "x_1^0 & \\cdots & x_1^D \\\\\n",
    "\\vdots &  & \\vdots \\\\\n",
    "x_N^0 & \\cdots & x_N^D\n",
    "\\end{matrix}\n",
    "\\right)\n",
    "$$\n",
    "where:\n",
    "- `D` is an integer representing the maximal degree of the polynomial;\n",
    "- `x_t` is a tensor of $N$ values $x_1, \\dots, x_N$;\n",
    "\n",
    "Compute the feature matrix $X$ for `x_t = x_train` and `D = 3`."
   ]
  },
  {
   "cell_type": "code",
   "execution_count": null,
   "id": "fb46f8de",
   "metadata": {},
   "outputs": [],
   "source": []
  },
  {
   "cell_type": "code",
   "execution_count": null,
   "id": "ff07bb83",
   "metadata": {},
   "outputs": [],
   "source": []
  },
  {
   "cell_type": "code",
   "execution_count": null,
   "id": "a0c25b74",
   "metadata": {},
   "outputs": [],
   "source": []
  },
  {
   "cell_type": "markdown",
   "id": "9e5e56fc",
   "metadata": {},
   "source": [
    "The **least squares optimization problem (1)** can be solved using the function:<br>\n",
    "`torch.linalg.lstsq(X, y_t).solution` where:\n",
    "- `X` is the feature matrix associated with $x_1,\\dots,x_N$;\n",
    "- `y_t` is the tensor of values $y_1,\\dots,y_N$.<br>\n",
    "https://pytorch.org/docs/stable/generated/torch.linalg.lstsq.html\n",
    "\n",
    "Solve the optimization problem (1) for the **training set** given by `x_train` and `y_train`."
   ]
  },
  {
   "cell_type": "code",
   "execution_count": null,
   "id": "0ddadd36",
   "metadata": {},
   "outputs": [],
   "source": []
  },
  {
   "cell_type": "code",
   "execution_count": null,
   "id": "f3f0df3a",
   "metadata": {},
   "outputs": [],
   "source": []
  },
  {
   "cell_type": "code",
   "execution_count": null,
   "id": "0772af3b",
   "metadata": {},
   "outputs": [],
   "source": []
  },
  {
   "cell_type": "markdown",
   "id": "1bf0504d",
   "metadata": {},
   "source": [
    "Recompute the train and test losses associated to the solution $\\alpha^*$ of problem (1).\n",
    "\n",
    "The losses should be really smaller than before."
   ]
  },
  {
   "cell_type": "code",
   "execution_count": null,
   "id": "fccbf4cf",
   "metadata": {},
   "outputs": [],
   "source": []
  },
  {
   "cell_type": "code",
   "execution_count": null,
   "id": "9a5e04fd",
   "metadata": {},
   "outputs": [],
   "source": []
  },
  {
   "cell_type": "code",
   "execution_count": null,
   "id": "281ab8e6",
   "metadata": {},
   "outputs": [],
   "source": []
  },
  {
   "cell_type": "markdown",
   "id": "29fa1743",
   "metadata": {},
   "source": [
    "Using the solution $\\alpha^*$ of problem (1), Implement **best model** $\\hat f(\\alpha^*; x)$."
   ]
  },
  {
   "cell_type": "code",
   "execution_count": null,
   "id": "7844e10c",
   "metadata": {},
   "outputs": [],
   "source": []
  },
  {
   "cell_type": "code",
   "execution_count": null,
   "id": "3a821f7d",
   "metadata": {},
   "outputs": [],
   "source": []
  },
  {
   "cell_type": "code",
   "execution_count": null,
   "id": "173325a0",
   "metadata": {},
   "outputs": [],
   "source": []
  },
  {
   "cell_type": "markdown",
   "id": "f07453ef",
   "metadata": {},
   "source": [
    "Plot the points of the **train set**\n",
    "$$\n",
    "(x_i, y_i),~i=1,\\dots,N,\n",
    "$$\n",
    "the **best model**\n",
    "$$\n",
    "\\hat f(\\alpha^*; x) = \\sum_{d=0}^D \\alpha^*_d x^d\n",
    "$$\n",
    "and the **original \"un-noised\" function**\n",
    "$$\n",
    "f(x) = \\frac{1}{2}\\ +\\ \\frac{1}{10}\\exp\\left(x\\right).\n",
    "$$"
   ]
  },
  {
   "cell_type": "code",
   "execution_count": null,
   "id": "06b90d32",
   "metadata": {},
   "outputs": [],
   "source": []
  },
  {
   "cell_type": "code",
   "execution_count": null,
   "id": "ccaf0428",
   "metadata": {},
   "outputs": [],
   "source": []
  },
  {
   "cell_type": "code",
   "execution_count": null,
   "id": "06c52bee",
   "metadata": {},
   "outputs": [],
   "source": []
  },
  {
   "cell_type": "markdown",
   "id": "2fa63b87",
   "metadata": {},
   "source": [
    "**We see that our best model approximates very well the original function.**"
   ]
  },
  {
   "cell_type": "markdown",
   "id": "f6584cfd",
   "metadata": {},
   "source": [
    "Re-execute your cells with `D = 15` and notice how your model overfits the data..."
   ]
  },
  {
   "cell_type": "markdown",
   "id": "6582b7b1",
   "metadata": {},
   "source": [
    "## Exercice 2"
   ]
  },
  {
   "cell_type": "markdown",
   "id": "8a6dd3a6",
   "metadata": {},
   "source": [
    "Based on your previous code, implement a **wrapper function** `fit(D, x_train, y_train, x_test, y_test)` which:\n",
    "- fits a ploynomial model $\\hat f_D(\\alpha^*; x)$ of degree $D$ on the train set `x_train`, `y_train`;\n",
    "- computes and returns the train and test losses."
   ]
  },
  {
   "cell_type": "code",
   "execution_count": null,
   "id": "0f81d4fb",
   "metadata": {},
   "outputs": [],
   "source": []
  },
  {
   "cell_type": "code",
   "execution_count": null,
   "id": "05c2a9df",
   "metadata": {},
   "outputs": [],
   "source": []
  },
  {
   "cell_type": "code",
   "execution_count": null,
   "id": "7b598010",
   "metadata": {},
   "outputs": [],
   "source": []
  },
  {
   "cell_type": "markdown",
   "id": "6c095d30",
   "metadata": {},
   "source": [
    "Print the train and test losses for $D = 0,1,\\dots,15$ ($D$ on the x-axis, losses on the y-axis).\n",
    "\n",
    "You shoud see that the **underfitting** and **overfitting** regions. Mode precisely, the models of low and high complexities underfit and overfit the test data, respectively."
   ]
  },
  {
   "cell_type": "code",
   "execution_count": null,
   "id": "5ae44acc",
   "metadata": {},
   "outputs": [],
   "source": []
  },
  {
   "cell_type": "code",
   "execution_count": null,
   "id": "5c6fafaa",
   "metadata": {},
   "outputs": [],
   "source": []
  },
  {
   "cell_type": "code",
   "execution_count": null,
   "id": "61e9173d",
   "metadata": {},
   "outputs": [],
   "source": []
  }
 ],
 "metadata": {
  "kernelspec": {
   "display_name": "Python 3 (ipykernel)",
   "language": "python",
   "name": "python3"
  },
  "language_info": {
   "codemirror_mode": {
    "name": "ipython",
    "version": 3
   },
   "file_extension": ".py",
   "mimetype": "text/x-python",
   "name": "python",
   "nbconvert_exporter": "python",
   "pygments_lexer": "ipython3",
   "version": "3.9.5"
  }
 },
 "nbformat": 4,
 "nbformat_minor": 5
}
