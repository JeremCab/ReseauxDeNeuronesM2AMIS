{
 "cells": [
  {
   "cell_type": "markdown",
   "metadata": {},
   "source": [
    "# Linear Regression"
   ]
  },
  {
   "cell_type": "markdown",
   "metadata": {},
   "source": [
    "<img src=\"files/figures/LinReg.jpg\" width=\"450px\"/>\n",
    "\n",
    "Image taken from: \n",
    "https://www.statstest.com/multiple-linear-regression/"
   ]
  },
  {
   "cell_type": "markdown",
   "metadata": {},
   "source": [
    "<div class=\"alert alert-block alert-info\">\n",
    "    \n",
    "Consider the following **training set** composed of $N$ observations:\n",
    "\n",
    "$$\n",
    "S_{\\rm train} = \\left\\{ \\left( \\boldsymbol{x_1}, y_1 \\right), \\dots, \\left( \\boldsymbol{x_N}, y_N \\right) \\right\\}.\n",
    "$$\n",
    "\n",
    "We define the feature matrix $\\boldsymbol{X}$ and target vector $\\boldsymbol{y}$ as follows:\n",
    "\n",
    "$$\n",
    "\\boldsymbol{X} =\n",
    "\\begin{pmatrix}\n",
    "1 & \\boldsymbol{x_1}^T \\\\\n",
    "\\vdots & \\vdots \\\\\n",
    "1 & \\boldsymbol{x_N}^T \n",
    "\\end{pmatrix}\n",
    "=\n",
    "\\begin{pmatrix}\n",
    "1 & x_{11} & \\cdots & x_{1p} \\\\\n",
    "\\vdots & \\vdots & \\ddots & \\vdots \\\\\n",
    "1 & x_{N1} &\\cdots & x_{Np}\n",
    "\\end{pmatrix}\n",
    "\\text{ and }\n",
    "\\boldsymbol{y} =\n",
    "\\begin{pmatrix}\n",
    "y_1 \\\\\n",
    "\\vdots \\\\\n",
    "y_N \n",
    "\\end{pmatrix}\n",
    "$$\n",
    "\n",
    "\n",
    "The solution of the **linear regression (LR)** is the vector\n",
    "$$\\boldsymbol{\\hat \\beta} = (\\hat \\beta_0, \\dots, \\hat \\beta_p)$$ which minimizes the **residual sum of squares (RSS)** (distances between predictions et target):\n",
    "\n",
    "$$\n",
    "\\mathrm{RSS(\\boldsymbol{\\beta})} \n",
    ":= \\sum_{i=1}^N \\big(\\boldsymbol{x_i}^T \\boldsymbol{\\beta} - y_i \\big)^2 \n",
    "= \\| \\boldsymbol{X} \\boldsymbol{\\beta} - \\boldsymbol{y} \\|^2\n",
    "$$\n",
    "\n",
    "We have (cf. course):\n",
    "\n",
    "$$\n",
    "\\boldsymbol{\\hat{\\beta}} \n",
    "= \\underset{\\boldsymbol{\\beta}}{\\arg \\min} \\left\\| \\boldsymbol{X} \\boldsymbol{\\beta} - \\boldsymbol{y} \\right\\|^2 \n",
    "= (\\boldsymbol{X}^T \\boldsymbol{X})^{-1} \\boldsymbol{X}^T \\boldsymbol{y}\n",
    "$$\n",
    "    \n",
    "</div>"
   ]
  },
  {
   "cell_type": "markdown",
   "metadata": {},
   "source": [
    "## Libraries"
   ]
  },
  {
   "cell_type": "code",
   "execution_count": 1,
   "metadata": {
    "execution": {
     "iopub.execute_input": "2022-09-04T03:35:46.145173Z",
     "iopub.status.busy": "2022-09-04T03:35:46.144726Z",
     "iopub.status.idle": "2022-09-04T03:35:46.151485Z",
     "shell.execute_reply": "2022-09-04T03:35:46.150106Z",
     "shell.execute_reply.started": "2022-09-04T03:35:46.145134Z"
    }
   },
   "outputs": [],
   "source": [
    "import pandas as pd\n",
    "import numpy as np\n",
    "from sklearn.model_selection import train_test_split\n",
    "\n",
    "import seaborn as sns\n",
    "from matplotlib import pyplot as plt\n",
    "\n",
    "%matplotlib inline\n",
    "sns.set_theme()"
   ]
  },
  {
   "cell_type": "markdown",
   "metadata": {},
   "source": [
    "## Data"
   ]
  },
  {
   "cell_type": "markdown",
   "metadata": {},
   "source": [
    "- Download the **Bottle Database** (csv file) from the **California Cooperative Oceanic Fisheries Investigations (CalOFI)** portal:<br>\n",
    "download: https://www.kaggle.com/datasets/sohier/calcofi<br>\n",
    "    info: https://calcofi.org/data/oceanographic-data/bottle-database/\n",
    "- Import the data and look at them with `pandas`.\n",
    "- Select only the following colunms of the dataset:<br>\n",
    "``columns = [\"T_degC\", \"O2Sat\", \"O2ml_L\", \"STheta\", \"Salnty\"]``\n",
    "- Remove lines that contain empty values.<br>\n",
    "`data = data[data[columns].notnull().all(1)]`"
   ]
  },
  {
   "cell_type": "code",
   "execution_count": 2,
   "metadata": {
    "execution": {
     "iopub.execute_input": "2022-09-04T03:35:46.157406Z",
     "iopub.status.busy": "2022-09-04T03:35:46.156766Z",
     "iopub.status.idle": "2022-09-04T03:35:56.345479Z",
     "shell.execute_reply": "2022-09-04T03:35:56.344092Z",
     "shell.execute_reply.started": "2022-09-04T03:35:46.157369Z"
    }
   },
   "outputs": [],
   "source": [
    "# Load data\n",
    "data = pd.read_csv('../z_data/bottle.csv', delimiter=',', low_memory=False)"
   ]
  },
  {
   "cell_type": "code",
   "execution_count": 3,
   "metadata": {
    "execution": {
     "iopub.execute_input": "2022-09-04T03:35:56.348620Z",
     "iopub.status.busy": "2022-09-04T03:35:56.348094Z",
     "iopub.status.idle": "2022-09-04T03:35:56.381834Z",
     "shell.execute_reply": "2022-09-04T03:35:56.380884Z",
     "shell.execute_reply.started": "2022-09-04T03:35:56.348567Z"
    }
   },
   "outputs": [
    {
     "data": {
      "text/html": [
       "<div>\n",
       "<style scoped>\n",
       "    .dataframe tbody tr th:only-of-type {\n",
       "        vertical-align: middle;\n",
       "    }\n",
       "\n",
       "    .dataframe tbody tr th {\n",
       "        vertical-align: top;\n",
       "    }\n",
       "\n",
       "    .dataframe thead th {\n",
       "        text-align: right;\n",
       "    }\n",
       "</style>\n",
       "<table border=\"1\" class=\"dataframe\">\n",
       "  <thead>\n",
       "    <tr style=\"text-align: right;\">\n",
       "      <th></th>\n",
       "      <th>Cst_Cnt</th>\n",
       "      <th>Btl_Cnt</th>\n",
       "      <th>Sta_ID</th>\n",
       "      <th>Depth_ID</th>\n",
       "      <th>Depthm</th>\n",
       "      <th>T_degC</th>\n",
       "      <th>Salnty</th>\n",
       "      <th>O2ml_L</th>\n",
       "      <th>STheta</th>\n",
       "      <th>O2Sat</th>\n",
       "      <th>...</th>\n",
       "      <th>R_PHAEO</th>\n",
       "      <th>R_PRES</th>\n",
       "      <th>R_SAMP</th>\n",
       "      <th>DIC1</th>\n",
       "      <th>DIC2</th>\n",
       "      <th>TA1</th>\n",
       "      <th>TA2</th>\n",
       "      <th>pH2</th>\n",
       "      <th>pH1</th>\n",
       "      <th>DIC Quality Comment</th>\n",
       "    </tr>\n",
       "  </thead>\n",
       "  <tbody>\n",
       "    <tr>\n",
       "      <th>0</th>\n",
       "      <td>1</td>\n",
       "      <td>1</td>\n",
       "      <td>054.0 056.0</td>\n",
       "      <td>19-4903CR-HY-060-0930-05400560-0000A-3</td>\n",
       "      <td>0</td>\n",
       "      <td>10.50</td>\n",
       "      <td>33.440</td>\n",
       "      <td>NaN</td>\n",
       "      <td>25.649</td>\n",
       "      <td>NaN</td>\n",
       "      <td>...</td>\n",
       "      <td>NaN</td>\n",
       "      <td>0</td>\n",
       "      <td>NaN</td>\n",
       "      <td>NaN</td>\n",
       "      <td>NaN</td>\n",
       "      <td>NaN</td>\n",
       "      <td>NaN</td>\n",
       "      <td>NaN</td>\n",
       "      <td>NaN</td>\n",
       "      <td>NaN</td>\n",
       "    </tr>\n",
       "    <tr>\n",
       "      <th>1</th>\n",
       "      <td>1</td>\n",
       "      <td>2</td>\n",
       "      <td>054.0 056.0</td>\n",
       "      <td>19-4903CR-HY-060-0930-05400560-0008A-3</td>\n",
       "      <td>8</td>\n",
       "      <td>10.46</td>\n",
       "      <td>33.440</td>\n",
       "      <td>NaN</td>\n",
       "      <td>25.656</td>\n",
       "      <td>NaN</td>\n",
       "      <td>...</td>\n",
       "      <td>NaN</td>\n",
       "      <td>8</td>\n",
       "      <td>NaN</td>\n",
       "      <td>NaN</td>\n",
       "      <td>NaN</td>\n",
       "      <td>NaN</td>\n",
       "      <td>NaN</td>\n",
       "      <td>NaN</td>\n",
       "      <td>NaN</td>\n",
       "      <td>NaN</td>\n",
       "    </tr>\n",
       "    <tr>\n",
       "      <th>2</th>\n",
       "      <td>1</td>\n",
       "      <td>3</td>\n",
       "      <td>054.0 056.0</td>\n",
       "      <td>19-4903CR-HY-060-0930-05400560-0010A-7</td>\n",
       "      <td>10</td>\n",
       "      <td>10.46</td>\n",
       "      <td>33.437</td>\n",
       "      <td>NaN</td>\n",
       "      <td>25.654</td>\n",
       "      <td>NaN</td>\n",
       "      <td>...</td>\n",
       "      <td>NaN</td>\n",
       "      <td>10</td>\n",
       "      <td>NaN</td>\n",
       "      <td>NaN</td>\n",
       "      <td>NaN</td>\n",
       "      <td>NaN</td>\n",
       "      <td>NaN</td>\n",
       "      <td>NaN</td>\n",
       "      <td>NaN</td>\n",
       "      <td>NaN</td>\n",
       "    </tr>\n",
       "    <tr>\n",
       "      <th>3</th>\n",
       "      <td>1</td>\n",
       "      <td>4</td>\n",
       "      <td>054.0 056.0</td>\n",
       "      <td>19-4903CR-HY-060-0930-05400560-0019A-3</td>\n",
       "      <td>19</td>\n",
       "      <td>10.45</td>\n",
       "      <td>33.420</td>\n",
       "      <td>NaN</td>\n",
       "      <td>25.643</td>\n",
       "      <td>NaN</td>\n",
       "      <td>...</td>\n",
       "      <td>NaN</td>\n",
       "      <td>19</td>\n",
       "      <td>NaN</td>\n",
       "      <td>NaN</td>\n",
       "      <td>NaN</td>\n",
       "      <td>NaN</td>\n",
       "      <td>NaN</td>\n",
       "      <td>NaN</td>\n",
       "      <td>NaN</td>\n",
       "      <td>NaN</td>\n",
       "    </tr>\n",
       "    <tr>\n",
       "      <th>4</th>\n",
       "      <td>1</td>\n",
       "      <td>5</td>\n",
       "      <td>054.0 056.0</td>\n",
       "      <td>19-4903CR-HY-060-0930-05400560-0020A-7</td>\n",
       "      <td>20</td>\n",
       "      <td>10.45</td>\n",
       "      <td>33.421</td>\n",
       "      <td>NaN</td>\n",
       "      <td>25.643</td>\n",
       "      <td>NaN</td>\n",
       "      <td>...</td>\n",
       "      <td>NaN</td>\n",
       "      <td>20</td>\n",
       "      <td>NaN</td>\n",
       "      <td>NaN</td>\n",
       "      <td>NaN</td>\n",
       "      <td>NaN</td>\n",
       "      <td>NaN</td>\n",
       "      <td>NaN</td>\n",
       "      <td>NaN</td>\n",
       "      <td>NaN</td>\n",
       "    </tr>\n",
       "  </tbody>\n",
       "</table>\n",
       "<p>5 rows × 74 columns</p>\n",
       "</div>"
      ],
      "text/plain": [
       "   Cst_Cnt  Btl_Cnt       Sta_ID                                Depth_ID  \\\n",
       "0        1        1  054.0 056.0  19-4903CR-HY-060-0930-05400560-0000A-3   \n",
       "1        1        2  054.0 056.0  19-4903CR-HY-060-0930-05400560-0008A-3   \n",
       "2        1        3  054.0 056.0  19-4903CR-HY-060-0930-05400560-0010A-7   \n",
       "3        1        4  054.0 056.0  19-4903CR-HY-060-0930-05400560-0019A-3   \n",
       "4        1        5  054.0 056.0  19-4903CR-HY-060-0930-05400560-0020A-7   \n",
       "\n",
       "   Depthm  T_degC  Salnty  O2ml_L  STheta  O2Sat  ...  R_PHAEO  R_PRES  \\\n",
       "0       0   10.50  33.440     NaN  25.649    NaN  ...      NaN       0   \n",
       "1       8   10.46  33.440     NaN  25.656    NaN  ...      NaN       8   \n",
       "2      10   10.46  33.437     NaN  25.654    NaN  ...      NaN      10   \n",
       "3      19   10.45  33.420     NaN  25.643    NaN  ...      NaN      19   \n",
       "4      20   10.45  33.421     NaN  25.643    NaN  ...      NaN      20   \n",
       "\n",
       "   R_SAMP  DIC1  DIC2  TA1  TA2  pH2  pH1  DIC Quality Comment  \n",
       "0     NaN   NaN   NaN  NaN  NaN  NaN  NaN                  NaN  \n",
       "1     NaN   NaN   NaN  NaN  NaN  NaN  NaN                  NaN  \n",
       "2     NaN   NaN   NaN  NaN  NaN  NaN  NaN                  NaN  \n",
       "3     NaN   NaN   NaN  NaN  NaN  NaN  NaN                  NaN  \n",
       "4     NaN   NaN   NaN  NaN  NaN  NaN  NaN                  NaN  \n",
       "\n",
       "[5 rows x 74 columns]"
      ]
     },
     "execution_count": 3,
     "metadata": {},
     "output_type": "execute_result"
    }
   ],
   "source": [
    "data.head(5)"
   ]
  },
  {
   "cell_type": "code",
   "execution_count": 4,
   "metadata": {},
   "outputs": [
    {
     "data": {
      "text/plain": [
       "864863"
      ]
     },
     "execution_count": 4,
     "metadata": {},
     "output_type": "execute_result"
    }
   ],
   "source": [
    "len(data)"
   ]
  },
  {
   "cell_type": "code",
   "execution_count": 1,
   "metadata": {},
   "outputs": [],
   "source": [
    "columns = [\"T_degC\", \"O2Sat\", \"O2ml_L\", \"STheta\", \"Salnty\"]"
   ]
  },
  {
   "cell_type": "code",
   "execution_count": 6,
   "metadata": {},
   "outputs": [],
   "source": [
    "data = data[columns]"
   ]
  },
  {
   "cell_type": "code",
   "execution_count": 7,
   "metadata": {
    "execution": {
     "iopub.execute_input": "2022-09-04T03:35:56.383803Z",
     "iopub.status.busy": "2022-09-04T03:35:56.383216Z",
     "iopub.status.idle": "2022-09-04T03:35:56.726286Z",
     "shell.execute_reply": "2022-09-04T03:35:56.724845Z",
     "shell.execute_reply.started": "2022-09-04T03:35:56.383764Z"
    }
   },
   "outputs": [],
   "source": [
    "# Remove nan values.\n",
    "data = data[data[columns].notnull().all(1)]"
   ]
  },
  {
   "cell_type": "code",
   "execution_count": 8,
   "metadata": {},
   "outputs": [
    {
     "data": {
      "text/plain": [
       "661268"
      ]
     },
     "execution_count": 8,
     "metadata": {},
     "output_type": "execute_result"
    }
   ],
   "source": [
    "len(data)"
   ]
  },
  {
   "cell_type": "markdown",
   "metadata": {},
   "source": [
    "## Linear Regression (LR)"
   ]
  },
  {
   "cell_type": "markdown",
   "metadata": {},
   "source": [
    "The **feature variables** are `\"O2Sat\", \"O2ml_L\", \"STheta\", \"Salnty\"`.\n",
    "\n",
    "The **target variable** is `\"Salnty\"`.\n",
    "\n",
    "We want to predict the **target** using the **features**."
   ]
  },
  {
   "cell_type": "markdown",
   "metadata": {},
   "source": [
    "- Create the feature tensor $\\boldsymbol{X}$ (2D) and the target tensor $\\boldsymbol{y}$ (1D).<br>\n",
    "Don't forget to add a column of $1$'s in your features $\\boldsymbol{X}$.\n",
    "- Shuffle the data and split them into train and test sets:<br>\n",
    "(80% train / 20% test, use `train_test_split(...)`)\n",
    "- **Implement in `numpy` the LR solution $\\boldsymbol{\\hat \\beta}$ using the train dataset.**<br>\n",
    "(use `np.linalg.pinv()` for matrix inversion)\n",
    "- Compute the predictions $\\boldsymbol{\\hat y}$ on the train and test sets.\n",
    "- Plot the true values $\\boldsymbol{y}$ vs predictions $\\boldsymbol{\\hat y}$ for the train and test sets: if the predictions are good, the graph should look diagonal (why?)."
   ]
  },
  {
   "cell_type": "code",
   "execution_count": 14,
   "metadata": {},
   "outputs": [
    {
     "data": {
      "text/plain": [
       "(['T_degC', 'O2Sat', 'O2ml_L', 'STheta', 'O2Sat'], ['Salnty'])"
      ]
     },
     "execution_count": 14,
     "metadata": {},
     "output_type": "execute_result"
    }
   ],
   "source": [
    "features = columns[:-1]\n",
    "response = [columns[-1]]\n",
    "\n",
    "features, response"
   ]
  },
  {
   "cell_type": "code",
   "execution_count": 27,
   "metadata": {},
   "outputs": [],
   "source": [
    "X = data[features]\n",
    "y = data[response]"
   ]
  },
  {
   "cell_type": "code",
   "execution_count": 28,
   "metadata": {},
   "outputs": [
    {
     "data": {
      "text/html": [
       "<div>\n",
       "<style scoped>\n",
       "    .dataframe tbody tr th:only-of-type {\n",
       "        vertical-align: middle;\n",
       "    }\n",
       "\n",
       "    .dataframe tbody tr th {\n",
       "        vertical-align: top;\n",
       "    }\n",
       "\n",
       "    .dataframe thead th {\n",
       "        text-align: right;\n",
       "    }\n",
       "</style>\n",
       "<table border=\"1\" class=\"dataframe\">\n",
       "  <thead>\n",
       "    <tr style=\"text-align: right;\">\n",
       "      <th></th>\n",
       "      <th>T_degC</th>\n",
       "      <th>O2Sat</th>\n",
       "      <th>O2Sat</th>\n",
       "      <th>O2ml_L</th>\n",
       "      <th>STheta</th>\n",
       "      <th>O2Sat</th>\n",
       "      <th>O2Sat</th>\n",
       "    </tr>\n",
       "  </thead>\n",
       "  <tbody>\n",
       "    <tr>\n",
       "      <th>2160</th>\n",
       "      <td>10.30</td>\n",
       "      <td>92.8</td>\n",
       "      <td>92.8</td>\n",
       "      <td>5.90</td>\n",
       "      <td>25.364</td>\n",
       "      <td>92.8</td>\n",
       "      <td>92.8</td>\n",
       "    </tr>\n",
       "    <tr>\n",
       "      <th>2161</th>\n",
       "      <td>18.46</td>\n",
       "      <td>111.8</td>\n",
       "      <td>111.8</td>\n",
       "      <td>6.02</td>\n",
       "      <td>23.568</td>\n",
       "      <td>111.8</td>\n",
       "      <td>111.8</td>\n",
       "    </tr>\n",
       "    <tr>\n",
       "      <th>2162</th>\n",
       "      <td>10.29</td>\n",
       "      <td>95.0</td>\n",
       "      <td>95.0</td>\n",
       "      <td>6.04</td>\n",
       "      <td>25.304</td>\n",
       "      <td>95.0</td>\n",
       "      <td>95.0</td>\n",
       "    </tr>\n",
       "    <tr>\n",
       "      <th>2163</th>\n",
       "      <td>10.29</td>\n",
       "      <td>95.3</td>\n",
       "      <td>95.3</td>\n",
       "      <td>6.06</td>\n",
       "      <td>25.335</td>\n",
       "      <td>95.3</td>\n",
       "      <td>95.3</td>\n",
       "    </tr>\n",
       "    <tr>\n",
       "      <th>2164</th>\n",
       "      <td>10.33</td>\n",
       "      <td>95.1</td>\n",
       "      <td>95.1</td>\n",
       "      <td>6.04</td>\n",
       "      <td>25.339</td>\n",
       "      <td>95.1</td>\n",
       "      <td>95.1</td>\n",
       "    </tr>\n",
       "  </tbody>\n",
       "</table>\n",
       "</div>"
      ],
      "text/plain": [
       "      T_degC  O2Sat  O2Sat  O2ml_L  STheta  O2Sat  O2Sat\n",
       "2160   10.30   92.8   92.8    5.90  25.364   92.8   92.8\n",
       "2161   18.46  111.8  111.8    6.02  23.568  111.8  111.8\n",
       "2162   10.29   95.0   95.0    6.04  25.304   95.0   95.0\n",
       "2163   10.29   95.3   95.3    6.06  25.335   95.3   95.3\n",
       "2164   10.33   95.1   95.1    6.04  25.339   95.1   95.1"
      ]
     },
     "execution_count": 28,
     "metadata": {},
     "output_type": "execute_result"
    }
   ],
   "source": [
    "X.head()"
   ]
  },
  {
   "cell_type": "code",
   "execution_count": 29,
   "metadata": {},
   "outputs": [
    {
     "data": {
      "text/html": [
       "<div>\n",
       "<style scoped>\n",
       "    .dataframe tbody tr th:only-of-type {\n",
       "        vertical-align: middle;\n",
       "    }\n",
       "\n",
       "    .dataframe tbody tr th {\n",
       "        vertical-align: top;\n",
       "    }\n",
       "\n",
       "    .dataframe thead th {\n",
       "        text-align: right;\n",
       "    }\n",
       "</style>\n",
       "<table border=\"1\" class=\"dataframe\">\n",
       "  <thead>\n",
       "    <tr style=\"text-align: right;\">\n",
       "      <th></th>\n",
       "      <th>Salnty</th>\n",
       "    </tr>\n",
       "  </thead>\n",
       "  <tbody>\n",
       "    <tr>\n",
       "      <th>2160</th>\n",
       "      <td>33.030</td>\n",
       "    </tr>\n",
       "    <tr>\n",
       "      <th>2161</th>\n",
       "      <td>32.920</td>\n",
       "    </tr>\n",
       "    <tr>\n",
       "      <th>2162</th>\n",
       "      <td>32.951</td>\n",
       "    </tr>\n",
       "    <tr>\n",
       "      <th>2163</th>\n",
       "      <td>32.990</td>\n",
       "    </tr>\n",
       "    <tr>\n",
       "      <th>2164</th>\n",
       "      <td>33.005</td>\n",
       "    </tr>\n",
       "  </tbody>\n",
       "</table>\n",
       "</div>"
      ],
      "text/plain": [
       "      Salnty\n",
       "2160  33.030\n",
       "2161  32.920\n",
       "2162  32.951\n",
       "2163  32.990\n",
       "2164  33.005"
      ]
     },
     "execution_count": 29,
     "metadata": {},
     "output_type": "execute_result"
    }
   ],
   "source": [
    "y.head()"
   ]
  },
  {
   "cell_type": "code",
   "execution_count": 30,
   "metadata": {
    "execution": {
     "iopub.execute_input": "2022-09-04T03:35:56.729032Z",
     "iopub.status.busy": "2022-09-04T03:35:56.728643Z",
     "iopub.status.idle": "2022-09-04T03:36:02.333301Z",
     "shell.execute_reply": "2022-09-04T03:36:02.332065Z",
     "shell.execute_reply.started": "2022-09-04T03:35:56.728987Z"
    }
   },
   "outputs": [
    {
     "data": {
      "text/plain": [
       "((661268, 8), (661268, 1))"
      ]
     },
     "execution_count": 30,
     "metadata": {},
     "output_type": "execute_result"
    }
   ],
   "source": [
    "# Converting into numpy arrays\n",
    "X = np.array(X)\n",
    "ones = np.ones(shape=(X.shape[0],1))\n",
    "X = np.concatenate([ones, X], axis=1)\n",
    "y = np.array(y)\n",
    "\n",
    "X.shape, y.shape"
   ]
  },
  {
   "cell_type": "code",
   "execution_count": 31,
   "metadata": {},
   "outputs": [],
   "source": [
    "# Train test split\n",
    "X_train, X_test, y_train, y_test = train_test_split(X, y, test_size=0.2, random_state=42)"
   ]
  },
  {
   "cell_type": "code",
   "execution_count": 32,
   "metadata": {},
   "outputs": [
    {
     "data": {
      "text/plain": [
       "((529014, 8), (529014, 1))"
      ]
     },
     "execution_count": 32,
     "metadata": {},
     "output_type": "execute_result"
    }
   ],
   "source": [
    "X_train.shape, y_train.shape"
   ]
  },
  {
   "cell_type": "code",
   "execution_count": 33,
   "metadata": {},
   "outputs": [
    {
     "data": {
      "text/plain": [
       "((132254, 8), (132254, 1))"
      ]
     },
     "execution_count": 33,
     "metadata": {},
     "output_type": "execute_result"
    }
   ],
   "source": [
    "X_test.shape, y_test.shape"
   ]
  },
  {
   "cell_type": "markdown",
   "metadata": {},
   "source": [
    "#### Closed-form solution"
   ]
  },
  {
   "cell_type": "code",
   "execution_count": 34,
   "metadata": {},
   "outputs": [],
   "source": [
    "# Compute solution of LR\n",
    "\n",
    "beta_hat = np.matmul(X_train.T, X_train)\n",
    "beta_hat = np.linalg.pinv(beta_hat)\n",
    "beta_hat = np.matmul(beta_hat, X_train.T)\n",
    "beta_hat = np.matmul(beta_hat, y_train)"
   ]
  },
  {
   "cell_type": "code",
   "execution_count": 35,
   "metadata": {},
   "outputs": [
    {
     "data": {
      "text/plain": [
       "array([[-1.37142613],\n",
       "       [ 0.19686966],\n",
       "       [ 0.01050068],\n",
       "       [ 0.01050073],\n",
       "       [-0.69527984],\n",
       "       [ 1.2803964 ],\n",
       "       [ 0.01050072],\n",
       "       [ 0.01050072]])"
      ]
     },
     "execution_count": 35,
     "metadata": {},
     "output_type": "execute_result"
    }
   ],
   "source": [
    "beta_hat"
   ]
  },
  {
   "cell_type": "code",
   "execution_count": 36,
   "metadata": {},
   "outputs": [
    {
     "data": {
      "text/plain": [
       "((529014, 1), (132254, 1))"
      ]
     },
     "execution_count": 36,
     "metadata": {},
     "output_type": "execute_result"
    }
   ],
   "source": [
    "y_train_preds = np.matmul(X_train, beta_hat)\n",
    "y_test_preds = np.matmul(X_test, beta_hat)\n",
    "\n",
    "y_train_preds.shape, y_test_preds.shape"
   ]
  },
  {
   "cell_type": "code",
   "execution_count": 37,
   "metadata": {},
   "outputs": [
    {
     "data": {
      "text/plain": [
       "<matplotlib.collections.PathCollection at 0x7f99b46e12b0>"
      ]
     },
     "execution_count": 37,
     "metadata": {},
     "output_type": "execute_result"
    },
    {
     "data": {
      "image/png": "[encoded data removed]",
      "text/plain": [
       "<Figure size 360x360 with 1 Axes>"
      ]
     },
     "metadata": {},
     "output_type": "display_data"
    }
   ],
   "source": [
    "plt.figure(figsize=(5, 5))\n",
    "\n",
    "plt.xlabel(\"train predictions\")\n",
    "plt.ylabel(\"train true\")\n",
    "plt.title(\"True values vs predictions\")\n",
    "plt.scatter(y_train_preds, y_train)"
   ]
  },
  {
   "cell_type": "code",
   "execution_count": 38,
   "metadata": {},
   "outputs": [
    {
     "data": {
      "text/plain": [
       "<matplotlib.collections.PathCollection at 0x7f99b3c77f40>"
      ]
     },
     "execution_count": 38,
     "metadata": {},
     "output_type": "execute_result"
    },
    {
     "data": {
      "image/png": "[encoded data removed]",
      "text/plain": [
       "<Figure size 360x360 with 1 Axes>"
      ]
     },
     "metadata": {},
     "output_type": "display_data"
    }
   ],
   "source": [
    "plt.figure(figsize=(5, 5))\n",
    "\n",
    "plt.xlabel(\"test predictions\")\n",
    "plt.ylabel(\"test true\")\n",
    "plt.title(\"True values vs predictions\")\n",
    "plt.scatter(y_test_preds, y_test)"
   ]
  },
  {
   "cell_type": "markdown",
   "metadata": {},
   "source": [
    "**Conclusion:** Normally, we would do a more complex data analyis - investigate feature correlations, etc. - and then use a dedicated ML library to implement the model.\n",
    "\n",
    "Here, at least once in your life, you implemented the **linear regression** by yourself."
   ]
  }
 ],
 "metadata": {
  "kernelspec": {
   "display_name": "Python 3 (ipykernel)",
   "language": "python",
   "name": "python3"
  },
  "language_info": {
   "codemirror_mode": {
    "name": "ipython",
    "version": 3
   },
   "file_extension": ".py",
   "mimetype": "text/x-python",
   "name": "python",
   "nbconvert_exporter": "python",
   "pygments_lexer": "ipython3",
   "version": "3.9.5"
  }
 },
 "nbformat": 4,
 "nbformat_minor": 4
}
