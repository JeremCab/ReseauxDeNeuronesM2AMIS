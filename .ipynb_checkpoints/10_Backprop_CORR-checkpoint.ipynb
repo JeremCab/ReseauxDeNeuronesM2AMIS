{
 "cells": [
  {
   "cell_type": "markdown",
   "id": "326d77b0",
   "metadata": {},
   "source": [
    "# Backpropagation (BP)"
   ]
  },
  {
   "cell_type": "markdown",
   "id": "c4941630",
   "metadata": {},
   "source": [
    "## Libraries"
   ]
  },
  {
   "cell_type": "code",
   "execution_count": 1,
   "id": "03b340ef",
   "metadata": {},
   "outputs": [],
   "source": [
    "import torch\n",
    "import torch.nn.functional as F\n",
    "import torchvision.datasets as datasets\n",
    "from torchvision.transforms import ToTensor\n",
    "from sklearn.metrics import classification_report\n",
    "import matplotlib.pyplot as plt"
   ]
  },
  {
   "cell_type": "markdown",
   "id": "a50e5997",
   "metadata": {},
   "source": [
    "## Backpropagation"
   ]
  },
  {
   "cell_type": "markdown",
   "id": "569c8082",
   "metadata": {},
   "source": [
    "<div class=\"alert alert-block alert-info\">\n",
    "    \n",
    "The **backpropagation algorithm (BP)** is an efficient implementation of (mini-batch) stochastic gradient descent for neural networks.\n",
    "    \n",
    "In short, the algorithm consists of:\n",
    "1. a **forward pass**: computation of the activations;\n",
    "2. a **backward pass**: computation of the gradients;\n",
    "3. an **updating step**: updating of the weights and biases using gradients.\n",
    "\n",
    "<img src=\"figures/backprop.png\" width=\"800px\"/>\n",
    "    \n",
    "We will use the following **sigmoid activation function**\n",
    "    $$\n",
    "    \\sigma(z) = \\frac{1}{1 + \\exp(-z)}\n",
    "    $$\n",
    "whose derivative is given by\n",
    "    $$\n",
    "    \\sigma'(z) = \\sigma(z) \\cdot \\left( 1 - \\sigma(z) \\right).\n",
    "    $$\n",
    "\n",
    "Furthermore, we will use the following **quadratic loss function**\n",
    "    $$\n",
    "    \\mathcal{L_k} \\left( \\Theta \\right) := \\mathcal{L_k} \\left( \\Theta, \\boldsymbol{a_k^{[L]}}, \\boldsymbol{y_k} \\right) = \\frac{1}{2} \\left\\| \\boldsymbol{a_k^{[L]}} - \\boldsymbol{y_k} \\right\\|^{2}\n",
    "    $$\n",
    "whose gradient with respect to $\\boldsymbol{a_k^{[L]}}$ is given by\n",
    "    $$\n",
    "    \\nabla_{\\boldsymbol{a_k^{[L]}}} \\mathcal{L_k} \\left( \\Theta \\right) = \\boldsymbol{a_k^{[L]}} - \\boldsymbol{y_k}.\n",
    "    $$\n",
    "</div>"
   ]
  },
  {
   "cell_type": "markdown",
   "id": "48445972",
   "metadata": {},
   "source": [
    "**Step 1**\n",
    "- Implement the activation functions ``sigma(z)`` and its derivative ``sigma_prime(z)``.\n",
    "- Implement the loss function ``loss(a_k, y_k)`` and gradient ``loss_gradient(a_k, y_k)``."
   ]
  },
  {
   "cell_type": "code",
   "execution_count": 2,
   "id": "4f1bc8c6",
   "metadata": {},
   "outputs": [],
   "source": [
    "def sigmoid(z):\n",
    "    \"\"\"The sigmoid function\"\"\"\n",
    "    return 1.0 / (1.0 + torch.exp(-z))\n",
    "\n",
    "def sigmoid_prime(z):\n",
    "    \"\"\"Derivative of the sigmoid function\"\"\"\n",
    "    return sigmoid(z) * (1 - sigmoid(z))"
   ]
  },
  {
   "cell_type": "code",
   "execution_count": 3,
   "id": "275bb6ee",
   "metadata": {},
   "outputs": [],
   "source": [
    "X = torch.rand(3,4)"
   ]
  },
  {
   "cell_type": "code",
   "execution_count": 4,
   "id": "6155d6fd",
   "metadata": {},
   "outputs": [
    {
     "data": {
      "text/plain": [
       "tensor([[0.5872, 0.7295, 0.6800, 0.6185],\n",
       "        [0.5353, 0.5750, 0.6754, 0.5974],\n",
       "        [0.6966, 0.6936, 0.7082, 0.6467]])"
      ]
     },
     "execution_count": 4,
     "metadata": {},
     "output_type": "execute_result"
    }
   ],
   "source": [
    "sigmoid(X)"
   ]
  },
  {
   "cell_type": "code",
   "execution_count": 5,
   "id": "77e170d1",
   "metadata": {},
   "outputs": [
    {
     "data": {
      "text/plain": [
       "tensor([[0.2424, 0.1973, 0.2176, 0.2360],\n",
       "        [0.2488, 0.2444, 0.2192, 0.2405],\n",
       "        [0.2114, 0.2125, 0.2066, 0.2285]])"
      ]
     },
     "execution_count": 5,
     "metadata": {},
     "output_type": "execute_result"
    }
   ],
   "source": [
    "sigmoid_prime(X)"
   ]
  },
  {
   "cell_type": "code",
   "execution_count": 6,
   "id": "a1e15485",
   "metadata": {},
   "outputs": [],
   "source": [
    "def loss(a_k, y_k):\n",
    "    \"\"\"Loss function\"\"\"\n",
    "    return 1/2 * torch.norm(torch.square(a_k - y_k), dim=0) # dim=0 enables batch parallelization\n",
    "\n",
    "def loss_gradient(a_k, y_k):\n",
    "    \"\"\"Gradient of the loss w.r.t a^L_k\"\"\"\n",
    "    return a_k - y_k"
   ]
  },
  {
   "cell_type": "code",
   "execution_count": 7,
   "id": "e943a029",
   "metadata": {},
   "outputs": [],
   "source": [
    "a_k = torch.rand(10)\n",
    "y_k = torch.rand(10)"
   ]
  },
  {
   "cell_type": "code",
   "execution_count": 8,
   "id": "ee114e61",
   "metadata": {},
   "outputs": [
    {
     "data": {
      "text/plain": [
       "tensor(0.6222)"
      ]
     },
     "execution_count": 8,
     "metadata": {},
     "output_type": "execute_result"
    }
   ],
   "source": [
    "loss(a_k, y_k) # scalar"
   ]
  },
  {
   "cell_type": "code",
   "execution_count": 9,
   "id": "7ddc53f5",
   "metadata": {},
   "outputs": [
    {
     "data": {
      "text/plain": [
       "tensor([-0.6781,  0.7698, -0.3296, -0.8301, -0.0537,  0.0857, -0.2895,  0.7413,\n",
       "        -0.1979,  0.6593])"
      ]
     },
     "execution_count": 9,
     "metadata": {},
     "output_type": "execute_result"
    }
   ],
   "source": [
    "loss_gradient(a_k, y_k) # vector"
   ]
  },
  {
   "cell_type": "markdown",
   "id": "03370880",
   "metadata": {},
   "source": [
    "**Step 2**\n",
    "- Create a class `Network()` which takes a list `[n0, n2, ..., nL]` as parameter and creates an MLP with $L+1$ layers of $n_i$ neurons each, for $i= 0, \\dots, L$.\n",
    "- Initializes the weights matrices $\\boldsymbol{W^{[l]}}$ and the bias vectors $\\boldsymbol{b^{[l]}}$ randomly from a normal distribution $\\mathcal{N}(0, 1)$ (`torch.normal()`), for $l = 0, \\dots, L-1$.<br>\n",
    "(Note that according to our notation, for $L+1$ layers, there are $L$ weights and $L$ biases.)\n",
    "- The first layer is the input layer and thus has no biases."
   ]
  },
  {
   "cell_type": "markdown",
   "id": "1abe1490",
   "metadata": {},
   "source": [
    "**Step 3**\n",
    "- Implement a method ``forward_pass(self, X)`` which:\n",
    "    - takes as inputs a batch of data $\\boldsymbol{X}$ (2D tensor)\n",
    "    - returns as outputs:\n",
    "        - the list of pre-activations ``Z_l`` = $\\left[ \\boldsymbol{Z}^{[0]}, \\boldsymbol{Z}^{[1]}, \\dots, \\boldsymbol{Z}^{[L]} \\right]$ associated to $\\boldsymbol{X}$ (list of 2D tensors).\n",
    "        - the list of activations ``A_l`` = $\\left[ \\boldsymbol{A}^{[0]}, \\boldsymbol{A}^{[1]}, \\dots, \\boldsymbol{A}^{[L]} \\right]$ associated to $\\boldsymbol{X}$ (list of 2D tensors)."
   ]
  },
  {
   "cell_type": "markdown",
   "id": "6e518fb2",
   "metadata": {},
   "source": [
    "**Step 4**\n",
    "- Implement a method ``backward_pass(self, Z_l, A_l, Y, eta)`` which:\n",
    "    - takes as inputs:\n",
    "        - the list of pre-activations ``Z_l`` = $\\left[ \\boldsymbol{Z}^{[0]}, \\boldsymbol{Z}^{[1]}, \\dots, \\boldsymbol{Z}^{[L]} \\right]$ (list of 2D tensors).\n",
    "        - the list of activations ``A_l`` = $\\left[ \\boldsymbol{A}^{[0]}, \\boldsymbol{A}^{[1]}, \\dots, \\boldsymbol{A}^{[L]} \\right]$ (list of 2D tensors).\n",
    "        - the batch of targets ``Y`` (2D tensor);\n",
    "        - the learning rate ``eta`` (float).\n",
    "    - updates the attributes ``self.weights`` and ``self.biases`` according to the backward pass.\n",
    "    \n",
    "**Remark:** note that ``Z_l`` and ``A_l`` contain one more element that ``self.weights``. Accordingly, indices might get confusing. The following picture clarifies the situation:<br>\n",
    "```\n",
    "In algo: z^[0]                z^[1]                z^[2]                 ...\n",
    "In code: Z_l[0]               Z_l[1]               Z_l[2]                ...\n",
    "In algo: a^[0]                a^[1]                a^[2]                 ...\n",
    "In code: A_l[0]               A_l[1]               A_l[2]                ...\n",
    "In algo:            W^[1]                W^[2]                W^[3]      ...\n",
    "In code:       self.weights[0]      self.weights[1]      self.weights[2] ...\n",
    "```"
   ]
  },
  {
   "cell_type": "code",
   "execution_count": 10,
   "id": "ef4acbaa",
   "metadata": {},
   "outputs": [],
   "source": [
    "class Network(object):\n",
    "\n",
    "    def __init__(self, sizes):\n",
    "        \"\"\"Constructor\"\"\"\n",
    "        \n",
    "        # for W and b, there are len(sizes) - 1 layers\n",
    "        self.num_layers = len(sizes) - 1\n",
    "        self.sizes = sizes\n",
    "        self.biases = [torch.normal(0, 1, size=(n, 1)) \n",
    "                       for n in sizes[1:]]\n",
    "        self.weights = [torch.normal(0, 1, size=(n2, n1)) \n",
    "                        for n1, n2 in zip(sizes[:-1], sizes[1:])]\n",
    "        \n",
    "    def forward_pass(self, X):\n",
    "        \"\"\"\n",
    "        Forward pass\n",
    "        \n",
    "        Parameters\n",
    "        ----------\n",
    "        X : torch.Tensor\n",
    "            batch of inputs : each column is an input (imput_dim x batch_size)\n",
    "            \n",
    "        Returns\n",
    "        -------\n",
    "        Z_l, A_l : tuple\n",
    "            Z_l : list of pre-activations Z_l's (2D tensors)\n",
    "            A_l : list of activations A_l's (2D tensors)\n",
    "        \"\"\"\n",
    "        \n",
    "        Z_l = [X]\n",
    "        A_l = [X]\n",
    "        \n",
    "        if X.shape[0] != self.sizes[0]:\n",
    "            raise ValueError(\"incorrect input dimension\")\n",
    "            \n",
    "        A = X\n",
    "        for W, b in zip(self.weights, self.biases):\n",
    "            Z = torch.mm(W, A) + b\n",
    "            A = sigmoid(Z)\n",
    "            Z_l.append(Z)\n",
    "            A_l.append(A)\n",
    "            \n",
    "        return Z_l, A_l\n",
    "    \n",
    "    \n",
    "    def backward_pass(self, Z_l, A_l, Y, eta=0.1):\n",
    "        \"\"\"\n",
    "        Backward pass\n",
    "        \n",
    "        Parameters\n",
    "        ----------\n",
    "        weights, biases, Z_l, A_l, Y : tuple\n",
    "            Z_l : list of pre-activations Z_l's (list of 2D tensors)\n",
    "            A_l : list of activations A_l's (list of 2D tensors)\n",
    "            Y : batch of targets, where each column is an target (imput_dim x batch_size)\n",
    "        \"\"\"\n",
    "        \n",
    "        delta_last = None\n",
    "        \n",
    "        # Remark: layers are numbered from 0 to self.num_layers-1 (included)\n",
    "        for l in range(self.num_layers-1, -1, -1):\n",
    "            \n",
    "            if l == self.num_layers-1:\n",
    "                # Remark: A_l[l+1] is $a^[l]$ and Z_l[l+1] is $z^[l]$!\n",
    "                delta = loss_gradient(A_l[l+1], Y) * sigmoid_prime(Z_l[l+1])\n",
    "                delta_last = delta.clone() # update last error\n",
    "            else:\n",
    "                # Remark: self.weights[l+1] is $W^[l+1]$ but Z_l[l+1] is $z^[l]$\n",
    "                delta = torch.mm(self.weights[l+1].T, delta_last) * sigmoid_prime(Z_l[l+1])\n",
    "                delta_last = delta.clone() # update last error\n",
    "            \n",
    "            # compute gradients\n",
    "            # before mean, grad_W is a 3D tensors (batch_size x n2 x n1)\n",
    "            # before mean, grad_b is a 2D tensors (n2 x batch_size)\n",
    "            delta_batched = delta.unsqueeze(dim=0).transpose(0, 2)\n",
    "            A_l_batched_T = A_l[l].unsqueeze(dim=0).transpose(0, 2).transpose(1, 2)\n",
    "            grad_W = torch.bmm(delta_batched, A_l_batched_T)\n",
    "            grad_W = torch.mean(grad_W, 0)              # mean along batch dim\n",
    "            grad_b = delta\n",
    "            grad_b = torch.mean(delta, 1, keepdim=True) # mean along batch dim + keep dim to save extra dim\n",
    "            \n",
    "            # update gradients\n",
    "            self.weights[l] = self.weights[l] - eta*grad_W\n",
    "            self.biases[l] = self.biases[l] - eta*grad_b"
   ]
  },
  {
   "cell_type": "markdown",
   "id": "217fabcd",
   "metadata": {},
   "source": [
    "**Step 5**\n",
    "- Using your class ``Network``, initialize a network as follows:<br>\n",
    "    ``net = Network([100, 200, 300, 150, 5])``\n",
    "- Implement a forward pass on a random tensor ``X`` of size $100 \\times 32$.\n",
    "- Implement a backward pass using a random tensor ``Y`` of size $5 \\times 32$."
   ]
  },
  {
   "cell_type": "code",
   "execution_count": 11,
   "id": "95f097dd",
   "metadata": {},
   "outputs": [],
   "source": [
    "# initialize network\n",
    "net = Network([100, 200, 300, 150, 5])"
   ]
  },
  {
   "cell_type": "code",
   "execution_count": 12,
   "id": "88458f82",
   "metadata": {},
   "outputs": [
    {
     "name": "stdout",
     "output_type": "stream",
     "text": [
      "weight dim:\t torch.Size([200, 100])\n",
      "bias dim:\t torch.Size([200, 1]) \n",
      "\n",
      "weight dim:\t torch.Size([300, 200])\n",
      "bias dim:\t torch.Size([300, 1]) \n",
      "\n",
      "weight dim:\t torch.Size([150, 300])\n",
      "bias dim:\t torch.Size([150, 1]) \n",
      "\n",
      "weight dim:\t torch.Size([5, 150])\n",
      "bias dim:\t torch.Size([5, 1]) \n",
      "\n"
     ]
    }
   ],
   "source": [
    "for W, b in zip(net.weights, net.biases):\n",
    "    print(\"weight dim:\\t\", W.shape)\n",
    "    print(\"bias dim:\\t\", b.shape, \"\\n\")"
   ]
  },
  {
   "cell_type": "code",
   "execution_count": 34,
   "id": "20057a66",
   "metadata": {},
   "outputs": [
    {
     "name": "stdout",
     "output_type": "stream",
     "text": [
      "Layer: 1\n",
      "\tDim of Z^l: torch.Size([100, 32])\n",
      "\tDim of A^l: torch.Size([100, 32])\n",
      "Layer: 2\n",
      "\tDim of Z^l: torch.Size([200, 32])\n",
      "\tDim of A^l: torch.Size([200, 32])\n",
      "Layer: 3\n",
      "\tDim of Z^l: torch.Size([300, 32])\n",
      "\tDim of A^l: torch.Size([300, 32])\n",
      "Layer: 4\n",
      "\tDim of Z^l: torch.Size([150, 32])\n",
      "\tDim of A^l: torch.Size([150, 32])\n",
      "Layer: 5\n",
      "\tDim of Z^l: torch.Size([5, 32])\n",
      "\tDim of A^l: torch.Size([5, 32])\n"
     ]
    }
   ],
   "source": [
    "# forward pass\n",
    "X = torch.rand(100, 32)\n",
    "Y = torch.rand(5, 32)\n",
    "\n",
    "Z_l, A_l = net.forward_pass(X)\n",
    "\n",
    "layer = 1\n",
    "for Z, A in zip(Z_l, A_l):\n",
    "    print(\"Layer:\", layer)\n",
    "    print(\"\\tDim of Z^l:\", Z.shape)\n",
    "    print(\"\\tDim of A^l:\", A.shape)\n",
    "    layer += 1"
   ]
  },
  {
   "cell_type": "code",
   "execution_count": 35,
   "id": "05655397",
   "metadata": {},
   "outputs": [
    {
     "name": "stdout",
     "output_type": "stream",
     "text": [
      "losses:\t\t torch.Size([32])\n",
      "loss gradients:\t torch.Size([5, 32])\n"
     ]
    }
   ],
   "source": [
    "# losses\n",
    "losses = loss(A_l[-1], Y)\n",
    "print(\"losses:\\t\\t\", losses.shape)\n",
    "\n",
    "loss_gradients = loss_gradient(A_l[-1], Y)\n",
    "print(\"loss gradients:\\t\", loss_gradients.shape)"
   ]
  },
  {
   "cell_type": "code",
   "execution_count": 36,
   "id": "887e26aa",
   "metadata": {},
   "outputs": [
    {
     "name": "stdout",
     "output_type": "stream",
     "text": [
      "weight dim:\t torch.Size([200, 100]) torch.Size([200, 100]) tensor(True)\n",
      "bias dim:\t torch.Size([200, 1]) torch.Size([200, 1]) tensor(True) \n",
      "\n",
      "weight dim:\t torch.Size([300, 200]) torch.Size([300, 200]) tensor(True)\n",
      "bias dim:\t torch.Size([300, 1]) torch.Size([300, 1]) tensor(True) \n",
      "\n",
      "weight dim:\t torch.Size([150, 300]) torch.Size([150, 300]) tensor(True)\n",
      "bias dim:\t torch.Size([150, 1]) torch.Size([150, 1]) tensor(True) \n",
      "\n",
      "weight dim:\t torch.Size([5, 150]) torch.Size([5, 150]) tensor(True)\n",
      "bias dim:\t torch.Size([5, 1]) torch.Size([5, 1]) tensor(True) \n",
      "\n"
     ]
    }
   ],
   "source": [
    "# copy weights and biases\n",
    "weights = [x.detach().clone() for x in net.weights]\n",
    "biases = [x.detach().clone() for x in net.biases]\n",
    "\n",
    "for W1, W2, b1, b2 in zip(net.weights, weights, net.biases, biases):\n",
    "    print(\"weight dim:\\t\", W1.shape, W2.shape, (W1==W2).all())\n",
    "    print(\"bias dim:\\t\", b1.shape, b2.shape, (b1==b2).all(), \"\\n\")"
   ]
  },
  {
   "cell_type": "code",
   "execution_count": 37,
   "id": "7197809c",
   "metadata": {},
   "outputs": [],
   "source": [
    "# backward pass\n",
    "net.backward_pass(Z_l, A_l, Y, eta=0.1)"
   ]
  },
  {
   "cell_type": "code",
   "execution_count": 38,
   "id": "94e6802d",
   "metadata": {},
   "outputs": [
    {
     "name": "stdout",
     "output_type": "stream",
     "text": [
      "weight dim:\t torch.Size([200, 100]) torch.Size([200, 100]) tensor(False)\n",
      "bias dim:\t torch.Size([200, 1]) torch.Size([200, 1]) tensor(False) \n",
      "\n",
      "weight dim:\t torch.Size([300, 200]) torch.Size([300, 200]) tensor(False)\n",
      "bias dim:\t torch.Size([300, 1]) torch.Size([300, 1]) tensor(False) \n",
      "\n",
      "weight dim:\t torch.Size([150, 300]) torch.Size([150, 300]) tensor(False)\n",
      "bias dim:\t torch.Size([150, 1]) torch.Size([150, 1]) tensor(False) \n",
      "\n",
      "weight dim:\t torch.Size([5, 150]) torch.Size([5, 150]) tensor(False)\n",
      "bias dim:\t torch.Size([5, 1]) torch.Size([5, 1]) tensor(False) \n",
      "\n"
     ]
    }
   ],
   "source": [
    "for W1, W2, b1, b2 in zip(net.weights, weights, net.biases, biases):\n",
    "    print(\"weight dim:\\t\", W1.shape, W2.shape, (W1==W2).all())\n",
    "    print(\"bias dim:\\t\", b1.shape, b2.shape, (b1==b2).all(), \"\\n\")"
   ]
  },
  {
   "cell_type": "markdown",
   "id": "1edac4cd",
   "metadata": {},
   "source": [
    "# Application to the MNIST Dataset"
   ]
  },
  {
   "cell_type": "markdown",
   "id": "f293f4a4",
   "metadata": {},
   "source": [
    "The **MNIST dataset** consists of handwritten digits. The MNIST classification problem consists in predicting the correct digit represented on an image.\n",
    "\n",
    "<img src=\"files/figures/mnist.png\" width=\"600px\"/>\n",
    "\n",
    "- Load the train and test MNIST datasets using the following commands:\n",
    "```\n",
    "train = datasets.MNIST(root='./data', train=True, download=True, transform=ToTensor())\n",
    "test = datasets.MNIST(root='./data', train=False, download=True, transform=ToTensor())\n",
    "```\n",
    "Each sample consists of a tensor (the image encoded in black and white), and a label (the digit that it represents).\n",
    "- Examine the train and test sets.\n",
    "- Visualize some data samples (tensors) using `plt.imshow()`."
   ]
  },
  {
   "cell_type": "code",
   "execution_count": 72,
   "id": "1950affb",
   "metadata": {},
   "outputs": [],
   "source": [
    "train_set = datasets.MNIST(root='./data', train=True, download=True, transform=ToTensor())\n",
    "test_set = datasets.MNIST(root='./data', train=False, download=True, transform=ToTensor())"
   ]
  },
  {
   "cell_type": "code",
   "execution_count": 73,
   "id": "1ec6f6e5",
   "metadata": {},
   "outputs": [
    {
     "data": {
      "text/plain": [
       "(60000, 10000)"
      ]
     },
     "execution_count": 73,
     "metadata": {},
     "output_type": "execute_result"
    }
   ],
   "source": [
    "len(train_set), len(test_set)"
   ]
  },
  {
   "cell_type": "markdown",
   "id": "e1b5b9e2",
   "metadata": {},
   "source": [
    "A **dataloader** creates batches of samples from a dataset so that they can be passed into a model.\n",
    "- Create a train and test dataloaders using the following commands:\n",
    "```\n",
    "train_loader = torch.utils.data.DataLoader(train_set, batch_size=32, shuffle=True)\n",
    "test_loader = torch.utils.data.DataLoader(test_set, batch_size=32, shuffle=True)\n",
    "```\n",
    "- Note that dataloaders are not subscriptable.\n",
    "- Try to catch one batch of the dataloader and examine it.\n",
    "- Write a function that reshapes a batch of size $32 \\times 1 \\times 28 \\times 28$ into a tensor of size $784 \\times 32$.<br>\n",
    "(use `torch.squeeze()`, `torch.reshape()`, `torch.flatten()`, `torch.transpose()`, etc.)"
   ]
  },
  {
   "cell_type": "code",
   "execution_count": 74,
   "id": "c1a49538",
   "metadata": {},
   "outputs": [],
   "source": [
    "train_loader = torch.utils.data.DataLoader(train_set, batch_size=32, shuffle=True)\n",
    "test_loader = torch.utils.data.DataLoader(test_set, batch_size=32, shuffle=True)"
   ]
  },
  {
   "cell_type": "code",
   "execution_count": 75,
   "id": "32ea03d8",
   "metadata": {},
   "outputs": [],
   "source": [
    "for b in train_loader:\n",
    "    break"
   ]
  },
  {
   "cell_type": "code",
   "execution_count": 76,
   "id": "7ea62b09",
   "metadata": {},
   "outputs": [],
   "source": [
    "def reshape_batch(b):\n",
    "    \"\"\"reshape batch of tensors\"\"\"\n",
    "    b = torch.squeeze(b)\n",
    "    b = torch.flatten(b, 1, 2).T\n",
    "    return b"
   ]
  },
  {
   "cell_type": "code",
   "execution_count": 77,
   "id": "31a13eba",
   "metadata": {},
   "outputs": [
    {
     "data": {
      "text/plain": [
       "torch.Size([784, 32])"
      ]
     },
     "execution_count": 77,
     "metadata": {},
     "output_type": "execute_result"
    }
   ],
   "source": [
    "b_reshaped = reshape_batch(b[0])\n",
    "b_reshaped.shape"
   ]
  },
  {
   "cell_type": "code",
   "execution_count": 78,
   "id": "f651fe02",
   "metadata": {},
   "outputs": [
    {
     "data": {
      "text/plain": [
       "torch.Size([9, 32])"
      ]
     },
     "execution_count": 78,
     "metadata": {},
     "output_type": "execute_result"
    }
   ],
   "source": [
    "F.one_hot(b[1] % 10).T.shape"
   ]
  },
  {
   "cell_type": "markdown",
   "id": "e4bbb26e",
   "metadata": {},
   "source": [
    "Instantiate a 4-layer MLP with the following characteristics:\n",
    "- Layer 1 (or input layer): size 784\n",
    "- Layer 2: size 128\n",
    "- Layer 3: size 128\n",
    "- Layer 4 (or output layer): size 10"
   ]
  },
  {
   "cell_type": "code",
   "execution_count": 79,
   "id": "c0d5719a",
   "metadata": {},
   "outputs": [],
   "source": [
    "mlp = Network([784, 128, 128, 10])"
   ]
  },
  {
   "cell_type": "markdown",
   "id": "a28a679d",
   "metadata": {},
   "source": [
    "- Train your network for 40 epochs with a learning rate of $0.1$.\n",
    "- Write a ``train()``function that uses your methods ``forward_pass()`` and ``backward_pass()``.\n",
    "- Compute and store the loss after each batch processing:<br>\n",
    "    You can one-hot encode the targets and use your function ``loss()``.<br>\n",
    "    https://pytorch.org/docs/stable/generated/torch.nn.functional.one_hot.html\n",
    "- Print the loss."
   ]
  },
  {
   "cell_type": "code",
   "execution_count": 80,
   "id": "0e7df52c",
   "metadata": {},
   "outputs": [],
   "source": [
    "def train(dataloader, network, nb_epochs=1, lr=0.1):\n",
    "    \"\"\"\n",
    "    Train a network on a dataloader \n",
    "    during a certain number of epochs \n",
    "    and with a certain learning rate.\n",
    "    \"\"\"\n",
    "\n",
    "    loss_l = []\n",
    "\n",
    "    for e in range(nb_epochs):\n",
    "        \n",
    "        for i, b in enumerate(dataloader):\n",
    "            \n",
    "            # print a dot every 10 batches\n",
    "            if i % 100 == 0:\n",
    "                print(\".\", end='')\n",
    "\n",
    "            # samples and targets\n",
    "            samples = reshape_batch(b[0])                     # dim [784 x 32]\n",
    "            targets = F.one_hot(b[1] % 10, num_classes=10).T  # dim [10 x 32]\n",
    "\n",
    "            # forward pass\n",
    "            Z_l, A_l = network.forward_pass(samples)\n",
    "            \n",
    "            # compute batch loss\n",
    "            if i % 50 == 0:\n",
    "                current_loss = loss(A_l[-1], targets).mean()\n",
    "                loss_l.append(current_loss)\n",
    "            \n",
    "            # backward pass\n",
    "            network.backward_pass(Z_l, A_l, targets, eta=lr)\n",
    "            \n",
    "        print(f\" \\nEpoch {e+1} completed\")\n",
    "    \n",
    "    return network, loss_l"
   ]
  },
  {
   "cell_type": "code",
   "execution_count": 81,
   "id": "a5234f4f",
   "metadata": {
    "scrolled": true
   },
   "outputs": [
    {
     "name": "stdout",
     "output_type": "stream",
     "text": [
      "................... \n",
      "Epoch 1 completed\n",
      "................... \n",
      "Epoch 2 completed\n",
      "................... \n",
      "Epoch 3 completed\n",
      "................... \n",
      "Epoch 4 completed\n",
      "................... \n",
      "Epoch 5 completed\n",
      "................... \n",
      "Epoch 6 completed\n",
      "................... \n",
      "Epoch 7 completed\n",
      "................... \n",
      "Epoch 8 completed\n",
      "................... \n",
      "Epoch 9 completed\n",
      "................... \n",
      "Epoch 10 completed\n",
      "................... \n",
      "Epoch 11 completed\n",
      "................... \n",
      "Epoch 12 completed\n",
      "................... \n",
      "Epoch 13 completed\n",
      "................... \n",
      "Epoch 14 completed\n",
      "................... \n",
      "Epoch 15 completed\n",
      "................... \n",
      "Epoch 16 completed\n",
      "................... \n",
      "Epoch 17 completed\n",
      "................... \n",
      "Epoch 18 completed\n",
      "................... \n",
      "Epoch 19 completed\n",
      "................... \n",
      "Epoch 20 completed\n",
      "................... \n",
      "Epoch 21 completed\n",
      "................... \n",
      "Epoch 22 completed\n",
      "................... \n",
      "Epoch 23 completed\n",
      "................... \n",
      "Epoch 24 completed\n",
      "................... \n",
      "Epoch 25 completed\n",
      "................... \n",
      "Epoch 26 completed\n",
      "................... \n",
      "Epoch 27 completed\n",
      "................... \n",
      "Epoch 28 completed\n",
      "................... \n",
      "Epoch 29 completed\n",
      "................... \n",
      "Epoch 30 completed\n",
      "................... \n",
      "Epoch 31 completed\n",
      "................... \n",
      "Epoch 32 completed\n",
      "................... \n",
      "Epoch 33 completed\n",
      "................... \n",
      "Epoch 34 completed\n",
      "................... \n",
      "Epoch 35 completed\n",
      "................... \n",
      "Epoch 36 completed\n",
      "................... \n",
      "Epoch 37 completed\n",
      "................... \n",
      "Epoch 38 completed\n",
      "................... \n",
      "Epoch 39 completed\n",
      "................... \n",
      "Epoch 40 completed\n",
      "................... \n",
      "Epoch 41 completed\n",
      "................... \n",
      "Epoch 42 completed\n",
      "................... \n",
      "Epoch 43 completed\n",
      "................... \n",
      "Epoch 44 completed\n",
      "................... \n",
      "Epoch 45 completed\n",
      "................... \n",
      "Epoch 46 completed\n",
      "................... \n",
      "Epoch 47 completed\n",
      "................... \n",
      "Epoch 48 completed\n",
      "................... \n",
      "Epoch 49 completed\n",
      "................... \n",
      "Epoch 50 completed\n"
     ]
    }
   ],
   "source": [
    "mlp, train_loss = train(train_loader, mlp, nb_epochs=50, lr=0.1)"
   ]
  },
  {
   "cell_type": "markdown",
   "id": "8bf657e4",
   "metadata": {},
   "source": [
    "- Write a function ``predict(network, dataloader)`` that returns the targets and predictions of a dataset.\n",
    "- Compute the classification reports for the train and test sets:<br>\n",
    "https://scikit-learn.org/stable/modules/generated/sklearn.metrics.classification_report.html"
   ]
  },
  {
   "cell_type": "code",
   "execution_count": 82,
   "id": "a15aa350",
   "metadata": {},
   "outputs": [
    {
     "data": {
      "text/plain": [
       "<matplotlib.legend.Legend at 0x7ff0b4ee1760>"
      ]
     },
     "execution_count": 82,
     "metadata": {},
     "output_type": "execute_result"
    },
    {
     "data": {
      "image/png": "[encoded data removed]",
      "text/plain": [
       "<Figure size 432x288 with 1 Axes>"
      ]
     },
     "metadata": {
      "needs_background": "light"
     },
     "output_type": "display_data"
    }
   ],
   "source": [
    "# plot loss\n",
    "plt.plot(range(len(train_loss)), train_loss, linewidth=2.0, label='training loss')\n",
    "plt.xlabel(\"Steps (epochs)\", size=12)\n",
    "plt.ylabel(\"Loss\", size=12)\n",
    "plt.savefig(\"figures/loss.pdf\", bbox_inches='tight')\n",
    "plt.legend()"
   ]
  },
  {
   "cell_type": "code",
   "execution_count": 83,
   "id": "1b1166a0",
   "metadata": {},
   "outputs": [],
   "source": [
    "def predict(network, dataloader):\n",
    "    \"\"\"Compute network predictions for a dataloader\"\"\"\n",
    "    \n",
    "    preds_l = []\n",
    "    targets_l = []\n",
    "    \n",
    "    for i, b in enumerate(dataloader):\n",
    "        \n",
    "        # print a dot every 10 batches\n",
    "        if i % 100 == 0:\n",
    "            print(\".\", end='')\n",
    "\n",
    "        # samples and targets\n",
    "        samples = reshape_batch(b[0])\n",
    "        targets = b[1].tolist()\n",
    "        targets_l.extend(targets)\n",
    "\n",
    "        # forward pass\n",
    "        Z_l, A_l = network.forward_pass(samples)\n",
    "        \n",
    "        # predictions\n",
    "        preds = torch.argmax(A_l[-1], dim=0).tolist()\n",
    "        preds_l.extend(preds)\n",
    "    \n",
    "    print(\"\\nProcessing finished\")\n",
    "    \n",
    "    return preds_l, targets_l"
   ]
  },
  {
   "cell_type": "code",
   "execution_count": 84,
   "id": "0502f5d3",
   "metadata": {},
   "outputs": [
    {
     "name": "stdout",
     "output_type": "stream",
     "text": [
      "...................\n",
      "Processing finished\n"
     ]
    }
   ],
   "source": [
    "train_preds_l, train_targets_l = predict(mlp, train_loader)"
   ]
  },
  {
   "cell_type": "code",
   "execution_count": 85,
   "id": "709bef6d",
   "metadata": {},
   "outputs": [
    {
     "name": "stdout",
     "output_type": "stream",
     "text": [
      "Train results\n",
      "\n",
      "              precision    recall  f1-score   support\n",
      "\n",
      "           0       0.96      0.97      0.96      5923\n",
      "           1       0.97      0.97      0.97      6742\n",
      "           2       0.92      0.92      0.92      5958\n",
      "           3       0.91      0.89      0.90      6131\n",
      "           4       0.93      0.95      0.94      5842\n",
      "           5       0.90      0.89      0.89      5421\n",
      "           6       0.95      0.96      0.96      5918\n",
      "           7       0.94      0.95      0.94      6265\n",
      "           8       0.89      0.89      0.89      5851\n",
      "           9       0.93      0.90      0.91      5949\n",
      "\n",
      "    accuracy                           0.93     60000\n",
      "   macro avg       0.93      0.93      0.93     60000\n",
      "weighted avg       0.93      0.93      0.93     60000\n",
      "\n"
     ]
    }
   ],
   "source": [
    "print(\"Train results\\n\")\n",
    "print(classification_report(train_targets_l, train_preds_l))"
   ]
  },
  {
   "cell_type": "code",
   "execution_count": 86,
   "id": "58b609be",
   "metadata": {},
   "outputs": [
    {
     "name": "stdout",
     "output_type": "stream",
     "text": [
      "....\n",
      "Processing finished\n"
     ]
    }
   ],
   "source": [
    "test_preds_l, test_targets_l = predict(mlp, test_loader)"
   ]
  },
  {
   "cell_type": "code",
   "execution_count": 87,
   "id": "10081b34",
   "metadata": {},
   "outputs": [
    {
     "name": "stdout",
     "output_type": "stream",
     "text": [
      "Test results\n",
      "\n",
      "              precision    recall  f1-score   support\n",
      "\n",
      "           0       0.95      0.97      0.96       980\n",
      "           1       0.97      0.98      0.98      1135\n",
      "           2       0.92      0.89      0.90      1032\n",
      "           3       0.90      0.89      0.90      1010\n",
      "           4       0.92      0.93      0.92       982\n",
      "           5       0.87      0.89      0.88       892\n",
      "           6       0.93      0.93      0.93       958\n",
      "           7       0.93      0.93      0.93      1028\n",
      "           8       0.89      0.90      0.89       974\n",
      "           9       0.92      0.89      0.91      1009\n",
      "\n",
      "    accuracy                           0.92     10000\n",
      "   macro avg       0.92      0.92      0.92     10000\n",
      "weighted avg       0.92      0.92      0.92     10000\n",
      "\n"
     ]
    }
   ],
   "source": [
    "print(\"Test results\\n\")\n",
    "print(classification_report(test_targets_l, test_preds_l))"
   ]
  }
 ],
 "metadata": {
  "kernelspec": {
   "display_name": "Python 3 (ipykernel)",
   "language": "python",
   "name": "python3"
  },
  "language_info": {
   "codemirror_mode": {
    "name": "ipython",
    "version": 3
   },
   "file_extension": ".py",
   "mimetype": "text/x-python",
   "name": "python",
   "nbconvert_exporter": "python",
   "pygments_lexer": "ipython3",
   "version": "3.9.5"
  }
 },
 "nbformat": 4,
 "nbformat_minor": 5
}
