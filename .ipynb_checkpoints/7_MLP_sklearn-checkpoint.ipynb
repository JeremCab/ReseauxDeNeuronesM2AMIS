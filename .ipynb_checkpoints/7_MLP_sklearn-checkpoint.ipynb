{
 "cells": [
  {
   "cell_type": "markdown",
   "id": "326d77b0",
   "metadata": {},
   "source": [
    "# Multi Layer Percepron (MLP) with Scikit Learn"
   ]
  },
  {
   "cell_type": "markdown",
   "id": "c4941630",
   "metadata": {},
   "source": [
    "## Libraries"
   ]
  },
  {
   "cell_type": "code",
   "execution_count": 26,
   "id": "03b340ef",
   "metadata": {},
   "outputs": [],
   "source": [
    "from sklearn.metrics import classification_report\n",
    "from sklearn.datasets import fetch_openml\n",
    "from sklearn.neural_network import MLPClassifier\n",
    "from sklearn.model_selection import train_test_split\n",
    "\n",
    "import matplotlib.pyplot as plt"
   ]
  },
  {
   "cell_type": "markdown",
   "id": "a50e5997",
   "metadata": {},
   "source": [
    "## MLP"
   ]
  },
  {
   "cell_type": "markdown",
   "id": "569c8082",
   "metadata": {},
   "source": [
    "<div class=\"alert alert-block alert-info\">\n",
    "    \n",
    "The **multi layer perceptron (MLP)** is feedforward neural network composed of successive layers (cf. Figure below).\n",
    "\n",
    "<img src=\"files/figures/MLP.jpg\" width=\"600px\"/>\n",
    " \n",
    "The dynamics of an MLP is given by the following equations (sample and batch versions):\n",
    "\n",
    "$$\n",
    "\\begin{array}{ll}\n",
    "\\textbf{sample $\\boldsymbol{x}$} & \\textbf{batch $\\boldsymbol{X_i}$} \\\\\n",
    "\\begin{cases}\n",
    "\\boldsymbol{a^{[0]}} ~=~ \\boldsymbol{x} & \\\\\n",
    "\\boldsymbol{z^{[l]}} ~=~ \\boldsymbol{W^{[l]}} \\boldsymbol{a^{[l-1]}} + \\boldsymbol{b^{[l]}}, & l = 1, \\dots, L \\\\\n",
    "\\boldsymbol{a^{[l]}} ~=~ \\boldsymbol{\\sigma} \\left( \\boldsymbol{z^{[l]}} \\right), & l = 1, \\dots, L\n",
    "\\end{cases}\n",
    "~&~\n",
    "\\begin{cases}\n",
    "\\boldsymbol{A^{[0]}} ~=~ \\boldsymbol{X_i}\t\\\\\n",
    "\\boldsymbol{Z^{[l]}} ~=~ \\boldsymbol{W^{[l]}} \\boldsymbol{A^{[l-1]}} \\oplus \\boldsymbol{b^{[l]}}, & l = 1, \\dots, L \\\\\n",
    "\\boldsymbol{A^{[l]}} ~=~ \\boldsymbol{\\sigma} \\big( \\boldsymbol{Z^{[l]}} \\big), & l = 1, \\dots, L\n",
    "\\end{cases}\n",
    "\\end{array}\n",
    "$$\n",
    "\n",
    "</div>"
   ]
  },
  {
   "cell_type": "markdown",
   "id": "ab415f92",
   "metadata": {},
   "source": [
    "At this point, we still don't know how to train a neural network properly.<br>\n",
    "But we will use the `sklearn` library that does this for us..."
   ]
  },
  {
   "cell_type": "markdown",
   "id": "f293f4a4",
   "metadata": {},
   "source": [
    "The **MNIST dataset** consists of handwritten digits. The MNIST classification problem consists in predicting the correct digit represented on an image.\n",
    "\n",
    "<img src=\"files/figures/mnist.png\" width=\"600px\"/>\n",
    "\n",
    "- Load the MNIST dataset from from https://www.openml.org/d/554 using the following commands:\n",
    "\n",
    "```\n",
    "X, y = fetch_openml(\"mnist_784\", version=1, return_X_y=True, as_frame=False)\n",
    "X = X / 255.0  # rescale pixel values {0,...,255} -> [0, 1]\n",
    "```\n",
    "\n",
    "- Split data into train and test sets (80% train/ 20% test)^"
   ]
  },
  {
   "cell_type": "code",
   "execution_count": null,
   "id": "d6f81353",
   "metadata": {},
   "outputs": [],
   "source": []
  },
  {
   "cell_type": "code",
   "execution_count": null,
   "id": "76396612",
   "metadata": {},
   "outputs": [],
   "source": []
  },
  {
   "cell_type": "code",
   "execution_count": null,
   "id": "e6073a8a",
   "metadata": {},
   "outputs": [],
   "source": []
  },
  {
   "cell_type": "markdown",
   "id": "645f47a6",
   "metadata": {},
   "source": [
    "- Define a **multi-layer perceptron (MLP)** with the following parameters:\n",
    "    - 2 hidden layers of size 128 neurons<br>\n",
    "    `hidden_layer_sizes = (128, 128)`\n",
    "    - 40 epochs<br>\n",
    "    `max_iter = 40`\n",
    "    - as the solver, use a stochastic gradient descent (SGD)<br>\n",
    "    `solver = \"sgd\"`\n",
    "- Train your model on the train set.\n",
    "- Get the scores of your model the train and test sets.\n",
    "- Get the test predictions and labels and compute the classification report.\n",
    "\n",
    "    Check the documentation:<br>\n",
    "https://scikit-learn.org/stable/modules/generated/sklearn.neural_network.MLPClassifier.html#sklearn.neural_network.MLPClassifier"
   ]
  },
  {
   "cell_type": "code",
   "execution_count": null,
   "id": "bf9b18de",
   "metadata": {},
   "outputs": [],
   "source": []
  },
  {
   "cell_type": "code",
   "execution_count": null,
   "id": "2f69b3f0",
   "metadata": {},
   "outputs": [],
   "source": []
  },
  {
   "cell_type": "code",
   "execution_count": null,
   "id": "3eb4eda4",
   "metadata": {},
   "outputs": [],
   "source": []
  },
  {
   "cell_type": "markdown",
   "id": "b12c9448",
   "metadata": {},
   "source": [
    "**I'm very surprised by the training speed... Results are excellent!**"
   ]
  },
  {
   "cell_type": "markdown",
   "id": "399a3b75",
   "metadata": {},
   "source": [
    "- Using `plt.matshow()`, visualize the weights of each layer of your model.\n",
    "- **Note:** the weight of layer `i` is a numpy arrax given by `your_model.coefs_[0]`."
   ]
  },
  {
   "cell_type": "code",
   "execution_count": null,
   "id": "4330bd61",
   "metadata": {},
   "outputs": [],
   "source": []
  },
  {
   "cell_type": "code",
   "execution_count": null,
   "id": "08d9e9a2",
   "metadata": {},
   "outputs": [],
   "source": []
  },
  {
   "cell_type": "code",
   "execution_count": null,
   "id": "3c221917",
   "metadata": {},
   "outputs": [],
   "source": []
  }
 ],
 "metadata": {
  "kernelspec": {
   "display_name": "Python 3 (ipykernel)",
   "language": "python",
   "name": "python3"
  },
  "language_info": {
   "codemirror_mode": {
    "name": "ipython",
    "version": 3
   },
   "file_extension": ".py",
   "mimetype": "text/x-python",
   "name": "python",
   "nbconvert_exporter": "python",
   "pygments_lexer": "ipython3",
   "version": "3.9.5"
  }
 },
 "nbformat": 4,
 "nbformat_minor": 5
}
