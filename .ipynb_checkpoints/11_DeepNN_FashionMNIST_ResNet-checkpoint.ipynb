{
 "cells": [
  {
   "cell_type": "markdown",
   "id": "ac35021e",
   "metadata": {
    "id": "ac35021e"
   },
   "source": [
    "# Neural Networks in ``PyTorch``: transfer learning"
   ]
  },
  {
   "cell_type": "markdown",
   "id": "bcbe3b65",
   "metadata": {
    "id": "bcbe3b65"
   },
   "source": [
    "The **Fsshion MNIST dataset** consists of 60,000 images of clothes, where each image has size 28X28. There are 10 different classes of clothes:<br>\n",
    "0: T-shirt/top<br>\n",
    "1: Trouser<br>\n",
    "2: Pullover<br>\n",
    "3: Dress<br>\n",
    "4: Coat<br>\n",
    "5: Sandal<br>\n",
    "6: Shirt<br>\n",
    "7: Sneaker<br>\n",
    "8: Bag<br>\n",
    "9: Ankle boot\n",
    "\n",
    "<img src=\"files/figures/fashion_mnist.png\" width=\"500px\"/>\n",
    "\n",
    "Now, we will download a **convoultional neural network** called **ResNet** that has already been **pre-trained** on a large dataset of images. Next, we will **fine-tune** (i.e. re-train) ResNet on the Fashion MNIST dataset.\n",
    "\n",
    "During pre-training, ResNet has acquired knowledge that can be applied to the learning of the downstream task. This process, very important in Machine Learning, is referred to as **transfer learning (TL)**.\n",
    "\n",
    "MNIST dataset. This is a **classification problem**.<br>\n",
    "\n",
    "The definition and training of a neural network invoves the following steps:\n",
    "\n",
    "0. Import **librairies**;\n",
    "1. Get the **datasets** (train, validation and test);\n",
    "2. Define the **dataloaders** from the datasets (train and test);\n",
    "3. Define the **model**;\n",
    "4. Define the **loss function**;\n",
    "5. Define the **optimizer**;\n",
    "7. **Train** the model (training loop);\n",
    "8. Get the **results** (predict)."
   ]
  },
  {
   "cell_type": "markdown",
   "id": "933ac146",
   "metadata": {
    "id": "933ac146"
   },
   "source": [
    "## 0. Librairies"
   ]
  },
  {
   "cell_type": "code",
   "execution_count": 1,
   "id": "6235ff87",
   "metadata": {
    "id": "6235ff87",
    "scrolled": true
   },
   "outputs": [],
   "source": [
    "import os\n",
    "\n",
    "import torch\n",
    "import torch.nn as nn\n",
    "import torch.nn.functional as F\n",
    "\n",
    "from torch.utils.data import DataLoader, random_split\n",
    "import torchvision.models as models\n",
    "import torchvision.datasets as datasets\n",
    "from torchvision.transforms import ToTensor\n",
    "\n",
    "from sklearn.metrics import classification_report\n",
    "\n",
    "import matplotlib.pyplot as plt\n",
    "\n",
    "from tqdm.notebook import tqdm"
   ]
  },
  {
   "cell_type": "markdown",
   "id": "56800aaa",
   "metadata": {
    "id": "56800aaa"
   },
   "source": [
    "## 1. Datasets"
   ]
  },
  {
   "cell_type": "markdown",
   "id": "39072afb",
   "metadata": {
    "id": "39072afb"
   },
   "source": [
    "- Load the train and test Fashion MNIST datasets using the following commands:<br>\n",
    "```\n",
    "train_dataset = datasets.FashionMNIST(root='./data', train=True, download=True, transform=ToTensor())\n",
    "test_dataset = datasets.FashionMNIST(root='./data', train=False, download=True, transform=ToTensor())\n",
    "```\n",
    "Each sample consists of a tensor (the image encoded in black and white), and a label (the digit that it represents).\n",
    "\n",
    "- Examine the data (structure, dimension, etc).\n",
    "- Create a function to visualize some data as an image."
   ]
  },
  {
   "cell_type": "code",
   "execution_count": null,
   "id": "3cc7ed87",
   "metadata": {},
   "outputs": [],
   "source": []
  },
  {
   "cell_type": "code",
   "execution_count": null,
   "id": "bf47f1e2",
   "metadata": {},
   "outputs": [],
   "source": []
  },
  {
   "cell_type": "code",
   "execution_count": null,
   "id": "b34c2612",
   "metadata": {},
   "outputs": [],
   "source": []
  },
  {
   "cell_type": "markdown",
   "id": "0983f97c",
   "metadata": {
    "id": "0983f97c"
   },
   "source": [
    "## 2. Dataloaders"
   ]
  },
  {
   "cell_type": "markdown",
   "id": "29e59ed3",
   "metadata": {
    "id": "29e59ed3"
   },
   "source": [
    "A **dataloader** creates batches of samples from a dataset so that they can be passed into a model.\n",
    "- Create a train and test dataloaders using the following commands:\n",
    "```\n",
    "train_dataloader = DataLoader(train_dataset, batch_size=64, shuffle=True)\n",
    "val_dataloader = DataLoader(val_dataset, batch_size=64, shuffle=True)\n",
    "test_dataloader = DataLoader(test_dataset, batch_size=64, shuffle=True)\n",
    "```\n",
    "- Note that dataloaders are not subscriptable.\n",
    "- Try to catch one batch of the dataloader and examine it."
   ]
  },
  {
   "cell_type": "code",
   "execution_count": null,
   "id": "7a719ed9",
   "metadata": {},
   "outputs": [],
   "source": []
  },
  {
   "cell_type": "markdown",
   "id": "f076ba79",
   "metadata": {
    "id": "f076ba79"
   },
   "source": [
    "## 3. Model"
   ]
  },
  {
   "cell_type": "markdown",
   "id": "daf3ae96",
   "metadata": {
    "id": "daf3ae96"
   },
   "source": [
    "- Define and instanciate a **ResNet convolutional neural network** where the output layer is modified to fit predict the 10 different classes of Fashion MNIST.\n",
    "\n",
    "    The ResNet network is available from the ``torchvision`` library via the following command:<br> ``torchvision.models.resnet50(pretrained=True)``"
   ]
  },
  {
   "cell_type": "code",
   "execution_count": null,
   "id": "cda62047",
   "metadata": {},
   "outputs": [],
   "source": []
  },
  {
   "cell_type": "code",
   "execution_count": null,
   "id": "81e7fbc7",
   "metadata": {},
   "outputs": [],
   "source": []
  },
  {
   "cell_type": "code",
   "execution_count": null,
   "id": "510e94ea",
   "metadata": {},
   "outputs": [],
   "source": []
  },
  {
   "cell_type": "markdown",
   "id": "c96d0079",
   "metadata": {
    "id": "c96d0079"
   },
   "source": [
    "## 4. Loss"
   ]
  },
  {
   "cell_type": "markdown",
   "id": "adca7d03",
   "metadata": {
    "id": "adca7d03"
   },
   "source": [
    "- Define a **cross entropy loss** with the following command:<br>\n",
    "```\n",
    "loss = nn.CrossEntropyLoss()\n",
    "```\n",
    "- Try to understand this loss object:<br>\n",
    "https://pytorch.org/docs/stable/generated/torch.nn.CrossEntropyLoss.html"
   ]
  },
  {
   "cell_type": "code",
   "execution_count": null,
   "id": "f17eadc6",
   "metadata": {},
   "outputs": [],
   "source": []
  },
  {
   "cell_type": "markdown",
   "id": "f2e74bf7",
   "metadata": {
    "id": "f2e74bf7"
   },
   "source": [
    "## 5. Optimizer"
   ]
  },
  {
   "cell_type": "markdown",
   "id": "f8e9349d",
   "metadata": {
    "id": "f8e9349d"
   },
   "source": [
    "- Define an **SGD optimizer** with the following command:<br>\n",
    "```\n",
    "optimizer = torch.optim.SGD(network.parameters(), lr=0.005)\n",
    "```\n",
    "- Try to understand this object:<br>\n",
    "https://pytorch.org/docs/stable/generated/torch.optim.SGD.html#torch.optim.SGD"
   ]
  },
  {
   "cell_type": "code",
   "execution_count": null,
   "id": "e82c6bfc",
   "metadata": {},
   "outputs": [],
   "source": []
  },
  {
   "cell_type": "markdown",
   "id": "601241b2",
   "metadata": {
    "id": "601241b2"
   },
   "source": [
    "## 6. Training"
   ]
  },
  {
   "cell_type": "markdown",
   "id": "81e0534e",
   "metadata": {
    "id": "81e0534e"
   },
   "source": [
    "- Define a **training loop** for you model.\n",
    "- The key instructions are:\n",
    "    - ``optimizer.zero_grad()``: reset gradients to 0\n",
    "    - ``loss.backward()``      : compute new gradients\n",
    "    - ``optimizer.step()``     : uptdate weights\n",
    "- Train the model for 10 epochs only (because of **transfer learning!**).\n",
    "- Plot the training loss."
   ]
  },
  {
   "cell_type": "code",
   "execution_count": null,
   "id": "fba3b8f5",
   "metadata": {},
   "outputs": [],
   "source": []
  },
  {
   "cell_type": "code",
   "execution_count": null,
   "id": "3253d3e7",
   "metadata": {},
   "outputs": [],
   "source": []
  },
  {
   "cell_type": "code",
   "execution_count": null,
   "id": "72546f09",
   "metadata": {},
   "outputs": [],
   "source": []
  },
  {
   "cell_type": "markdown",
   "id": "21c25e52",
   "metadata": {
    "id": "21c25e52"
   },
   "source": [
    "## 6. Testing"
   ]
  },
  {
   "cell_type": "markdown",
   "id": "27d6f3af",
   "metadata": {
    "id": "27d6f3af"
   },
   "source": [
    "- Write a ``predict`` function\n",
    "    - use ``with torch.no_grad():``\n",
    "- Compute the accuracy and classification report of the train and test sets."
   ]
  },
  {
   "cell_type": "code",
   "execution_count": null,
   "id": "470c5743",
   "metadata": {},
   "outputs": [],
   "source": []
  },
  {
   "cell_type": "code",
   "execution_count": null,
   "id": "72876f51",
   "metadata": {},
   "outputs": [],
   "source": []
  },
  {
   "cell_type": "code",
   "execution_count": null,
   "id": "ad0dc66d",
   "metadata": {},
   "outputs": [],
   "source": []
  },
  {
   "cell_type": "markdown",
   "id": "202236fb",
   "metadata": {
    "id": "202236fb"
   },
   "source": [
    "## 7. Save"
   ]
  },
  {
   "cell_type": "markdown",
   "id": "3dc640fe",
   "metadata": {
    "id": "3dc640fe"
   },
   "source": [
    "- Save your trained model.\n",
    "- Try to reload it and see if it works.\n",
    "- Use the following instructions\n",
    "```\n",
    "torch.save(model.state_dict(), <path>)\n",
    "...\n",
    "network_2.load_state_dict(torch.load(<path>))\n",
    "network_2.eval()\n",
    "```"
   ]
  },
  {
   "cell_type": "code",
   "execution_count": null,
   "id": "0c177f06",
   "metadata": {},
   "outputs": [],
   "source": []
  },
  {
   "cell_type": "code",
   "execution_count": null,
   "id": "ce6fddda",
   "metadata": {},
   "outputs": [],
   "source": []
  },
  {
   "cell_type": "code",
   "execution_count": null,
   "id": "c2642e7f",
   "metadata": {},
   "outputs": [],
   "source": []
  }
 ],
 "metadata": {
  "accelerator": "GPU",
  "colab": {
   "provenance": []
  },
  "gpuClass": "standard",
  "kernelspec": {
   "display_name": "Python 3 (ipykernel)",
   "language": "python",
   "name": "python3"
  },
  "language_info": {
   "codemirror_mode": {
    "name": "ipython",
    "version": 3
   },
   "file_extension": ".py",
   "mimetype": "text/x-python",
   "name": "python",
   "nbconvert_exporter": "python",
   "pygments_lexer": "ipython3",
   "version": "3.9.5"
  }
 },
 "nbformat": 4,
 "nbformat_minor": 5
}
