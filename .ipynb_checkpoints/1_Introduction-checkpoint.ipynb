{
 "cells": [
  {
   "cell_type": "markdown",
   "id": "1f0aba1c",
   "metadata": {},
   "source": [
    "# Introduction"
   ]
  },
  {
   "cell_type": "markdown",
   "id": "e1b9f7e7",
   "metadata": {},
   "source": [
    "We assume some average programming skills in **Python**.\n",
    "- Get famliar with `jupyter` notebooks.\n",
    "- Get familiar with the important libraries:\n",
    "    - `pandas`: for data analysis;\n",
    "    - `numpy`: for scientific computing;\n",
    "    - `scikit-learn`: for machine learning (we will improve on this).\n",
    "- Later, we will work with the `PyTorch` library for implementation of neural networks. No prerequisite is required for this."
   ]
  },
  {
   "cell_type": "code",
   "execution_count": 4,
   "id": "5e602f16",
   "metadata": {},
   "outputs": [
    {
     "name": "stdout",
     "output_type": "stream",
     "text": [
      "I'm improving my Python skills..\n"
     ]
    }
   ],
   "source": [
    "print(\"I'm improving my Python skills..\")"
   ]
  },
  {
   "cell_type": "code",
   "execution_count": 6,
   "id": "bc6301e0",
   "metadata": {},
   "outputs": [
    {
     "name": "stdout",
     "output_type": "stream",
     "text": [
      "I have some basic knowledge in pandas and numpy, otherwise I'll follow some quick tutorials...\n"
     ]
    }
   ],
   "source": [
    "print(\"I have some basic knowledge in pandas and numpy, otherwise I'll follow some quick tutorials...\")"
   ]
  },
  {
   "cell_type": "code",
   "execution_count": 7,
   "id": "6f6a22fa",
   "metadata": {},
   "outputs": [
    {
     "name": "stdout",
     "output_type": "stream",
     "text": [
      "If I have some time, I can take a look at scikit-learn also...\n"
     ]
    }
   ],
   "source": [
    "print(\"If I have some time, I can take a look at scikit-learn also...\")"
   ]
  },
  {
   "cell_type": "code",
   "execution_count": null,
   "id": "99c07b27",
   "metadata": {},
   "outputs": [],
   "source": []
  }
 ],
 "metadata": {
  "kernelspec": {
   "display_name": "Python 3 (ipykernel)",
   "language": "python",
   "name": "python3"
  },
  "language_info": {
   "codemirror_mode": {
    "name": "ipython",
    "version": 3
   },
   "file_extension": ".py",
   "mimetype": "text/x-python",
   "name": "python",
   "nbconvert_exporter": "python",
   "pygments_lexer": "ipython3",
   "version": "3.9.5"
  }
 },
 "nbformat": 4,
 "nbformat_minor": 5
}
