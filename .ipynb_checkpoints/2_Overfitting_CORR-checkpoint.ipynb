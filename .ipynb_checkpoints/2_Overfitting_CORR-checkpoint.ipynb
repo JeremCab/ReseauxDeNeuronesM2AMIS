{
 "cells": [
  {
   "cell_type": "markdown",
   "id": "1f0aba1c",
   "metadata": {},
   "source": [
    "# Overfitting"
   ]
  },
  {
   "cell_type": "markdown",
   "id": "749fdda8",
   "metadata": {},
   "source": [
    "## Libraries"
   ]
  },
  {
   "cell_type": "code",
   "execution_count": 1,
   "id": "b2a4b4b5",
   "metadata": {},
   "outputs": [],
   "source": [
    "import torch\n",
    "import matplotlib.pyplot as plt"
   ]
  },
  {
   "cell_type": "markdown",
   "id": "c9e5e456",
   "metadata": {},
   "source": [
    "## Exercice 1"
   ]
  },
  {
   "cell_type": "markdown",
   "id": "2b555137",
   "metadata": {},
   "source": [
    "Draw $N = 20$ points $(x_i, y_i),~i=1,\\dots,N$ according to the function:\n",
    "\n",
    "$$\n",
    "f_{\\epsilon}(x) = \\frac{1}{2}\\ +\\ \\frac{1}{100}\\exp\\left(3x\\right) + \\epsilon,~~~x \\in [-2, 2]\n",
    "$$\n",
    "\n",
    "where $\\epsilon \\sim \\mathcal{N}(\\mu=0, \\sigma=0.3)$ is some normal noise with mean $0$.\n",
    "\n",
    "Let `x_train` be the tensor of all $x_i$'s.<br>\n",
    "Let `y_train` be the tensor of all $y_i$'s.<br>\n",
    "The tensors `x_train` and `y_train` form the **train set**.\n",
    "\n",
    "*Indications:*\n",
    "- For the $x_i$'s:\n",
    "    - create a tensor `x` of $N$ equidistant points inside $[-2, 2]$ (`torch.arange(...)`);\n",
    "- For the $y_i$'s:\n",
    "    - create tensor `y_train` by applying the original function\n",
    "    $$f(x) = \\frac{1}{2}\\ +\\ \\frac{1}{100}\\exp\\left(3x\\right)$$\n",
    "    to `x_train`;\n",
    "    - generate a tensor of noise ``epsilon`` drawn from the normal distribution $\\mathcal{N}(0, \\frac{1}{2})$;\n",
    "    - add `y_train` and `epsilon`."
   ]
  },
  {
   "cell_type": "code",
   "execution_count": 2,
   "id": "2cc14d99",
   "metadata": {},
   "outputs": [],
   "source": [
    "N = 20\n",
    "    \n",
    "#x_train = torch.arange(0, 2, 2/N).uniform_(0, 2)\n",
    "#x_train, _ = x_train.sort() # values, indices\n",
    "x_train = torch.arange(-2, 2, 4/N)\n",
    "\n",
    "y_train = 1/2 + 1/100 * torch.exp(3*x_train)\n",
    "epsilon = torch.normal(0, 0.3, (N,))\n",
    "y_train = y_train + epsilon"
   ]
  },
  {
   "cell_type": "markdown",
   "id": "76a1b755",
   "metadata": {},
   "source": [
    "Exactly as before, draw 20 other points $(x_i, y_i),~i=1,\\dots,N$ according to the function:\n",
    "\n",
    "$$\n",
    "f(x) = \\frac{1}{2}\\ +\\ \\frac{1}{100}\\exp\\left(3x\\right) + \\epsilon,~~~x \\in [0, 2]\n",
    "$$\n",
    "\n",
    "The tensors of $x_i$'s and $y_i$'s are called `x_test` and `y_test`, respectively. <br>\n",
    "The tensors `x_test` and `y_test` form the **test set**."
   ]
  },
  {
   "cell_type": "code",
   "execution_count": 3,
   "id": "d89153fa",
   "metadata": {},
   "outputs": [],
   "source": [
    "x_test = x_train\n",
    "\n",
    "y_test = 1/2 + 1/100 * torch.exp(3*x_test)\n",
    "epsilon = torch.normal(0, 0.3, (N,))\n",
    "y_test = y_test + epsilon"
   ]
  },
  {
   "cell_type": "markdown",
   "id": "2d2830ea",
   "metadata": {},
   "source": [
    "Plot the points $(x_i, y_i),~i=1,\\dots,N$ of the **train set** together with the \"un-noised\" fuction below on the same graph\n",
    "$$\n",
    "f(x) = \\frac{1}{2}\\ +\\ \\frac{1}{100}\\exp\\left(3x\\right)\n",
    "$$\n",
    "\n",
    "(use `matplotlib`)."
   ]
  },
  {
   "cell_type": "code",
   "execution_count": 24,
   "id": "99a55a86",
   "metadata": {},
   "outputs": [
    {
     "data": {
      "text/plain": [
       "<matplotlib.legend.Legend at 0x7fd9fe06cb80>"
      ]
     },
     "execution_count": 24,
     "metadata": {},
     "output_type": "execute_result"
    },
    {
     "data": {
      "image/png": "[encoded data removed]",
      "text/plain": [
       "<Figure size 432x288 with 1 Axes>"
      ]
     },
     "metadata": {
      "needs_background": "light"
     },
     "output_type": "display_data"
    }
   ],
   "source": [
    "# plot generated points\n",
    "plt.plot(x_train, y_train, \n",
    "         linestyle='', \n",
    "         marker='o', \n",
    "         color='red', \n",
    "         label='train set') \n",
    "\n",
    "# plot function\n",
    "x = torch.arange(-2, 2, 1/100)\n",
    "plt.plot(x, \n",
    "         1/2 + 1/100 * torch.exp(3*x), \n",
    "         linestyle='-', \n",
    "         color='black',\n",
    "         label='original function')\n",
    "\n",
    "plt.legend()"
   ]
  },
  {
   "cell_type": "markdown",
   "id": "9bdd78a6",
   "metadata": {},
   "source": [
    "Plot the points $(x_i, y_i),~i=1,\\dots,N$ of the **test set** together with the \"un-noised\" fuction below on the same graph\n",
    "$$\n",
    "f(x) = \\frac{1}{2}\\ +\\ \\frac{1}{100}\\exp\\left(3x\\right)\n",
    "$$\n",
    "\n",
    "(use `matplotlib`)."
   ]
  },
  {
   "cell_type": "code",
   "execution_count": 5,
   "id": "a00fac31",
   "metadata": {},
   "outputs": [
    {
     "data": {
      "text/plain": [
       "<matplotlib.legend.Legend at 0x7fd9fe2e88b0>"
      ]
     },
     "execution_count": 5,
     "metadata": {},
     "output_type": "execute_result"
    },
    {
     "data": {
      "image/png": "[encoded data removed]",
      "text/plain": [
       "<Figure size 432x288 with 1 Axes>"
      ]
     },
     "metadata": {
      "needs_background": "light"
     },
     "output_type": "display_data"
    }
   ],
   "source": [
    "# plot generated points\n",
    "plt.plot(x_test, y_test, \n",
    "         linestyle='', \n",
    "         marker='o', \n",
    "         color='red', \n",
    "         label='test set') \n",
    "\n",
    "# plot function\n",
    "x = torch.arange(-2, 2, 1/100)\n",
    "plt.plot(x, \n",
    "         1/2 + 1/100 * torch.exp(3*x), \n",
    "         linestyle='-', \n",
    "         color='black', \n",
    "         label='original function')\n",
    "\n",
    "plt.legend()"
   ]
  },
  {
   "cell_type": "markdown",
   "id": "66843779",
   "metadata": {},
   "source": [
    "<div class=\"alert alert-block alert-info\">\n",
    "\n",
    "Now, consider the **polynomial model**:\n",
    "$$\n",
    "\\hat f(\\alpha; x) = \\sum_{d=0}^D \\alpha_d x^d\n",
    "$$\n",
    "where $\\alpha = (\\alpha_0,\\dots,\\alpha_D)$ are the parameters of the model.\n",
    "\n",
    "For instance, for $D = 3$, one has:\n",
    "$\n",
    "\\hat f(\\alpha; x) = \\alpha_0 + \\alpha_1 x + \\alpha_2 x^2 + \\alpha_3 x^3\n",
    "$.\n",
    "</div>"
   ]
  },
  {
   "cell_type": "markdown",
   "id": "ea2d0d55",
   "metadata": {},
   "source": [
    "Implement a function `f_hat(alpha, x)` which computes $\\hat f(\\alpha; x_i)$, where:\n",
    "- `alpha` is a tuple of $D$ parameters;.\n",
    "- `x` is a single value."
   ]
  },
  {
   "cell_type": "code",
   "execution_count": 6,
   "id": "62216977",
   "metadata": {},
   "outputs": [],
   "source": [
    "def f_hat(alpha, x):\n",
    "    \n",
    "    D = len(alpha)\n",
    "    result = torch.zeros(D)\n",
    "    \n",
    "    for i in range(D):\n",
    "        result[i] = alpha[i] * x**i\n",
    "        \n",
    "    result = torch.sum(result)\n",
    "    \n",
    "    return result"
   ]
  },
  {
   "cell_type": "code",
   "execution_count": 7,
   "id": "2186cd1b",
   "metadata": {},
   "outputs": [
    {
     "data": {
      "text/plain": [
       "tensor(17.0920)"
      ]
     },
     "execution_count": 7,
     "metadata": {},
     "output_type": "execute_result"
    }
   ],
   "source": [
    "alpha = (0.1, 0.2, 0.3)\n",
    "x = 7.2\n",
    "f_hat(alpha, x)"
   ]
  },
  {
   "cell_type": "markdown",
   "id": "e9fb0f05",
   "metadata": {},
   "source": [
    "<div class=\"alert alert-block alert-info\">\n",
    "\n",
    "Consider also the following **loss function** to measure the ability of a model $\\hat f(\\alpha; x)$ to fit a set of points $\\{ (x_i, y_i): i=1,\\dots,N \\}$ (sum of squared errors between the predictions and the true values):\n",
    "\\begin{align*}\n",
    "\\mathcal{L} \\left( \\alpha \\right) & = \\sum_{i=1}^N \\left( \\hat f(\\alpha; x_i)  - y_i \\right)^2 \\\\\n",
    "& = \\sum_{i=1}^N \\left( \\sum_{d=0}^D \\alpha_d x_i^d - y_i \\right)^2 \\\\\n",
    "& = \n",
    "\\left\\|~\n",
    "\\left(\n",
    "\\begin{matrix}\n",
    "x_1^0 & \\cdots & x_1^D \\\\\n",
    "\\vdots &  & \\vdots \\\\\n",
    "x_N^0 & \\cdots & x_N^D\n",
    "\\end{matrix}\n",
    "\\right)\n",
    "\\left(\n",
    "\\begin{matrix}\n",
    "\\alpha_0 \\\\\n",
    "\\vdots \\\\\n",
    "\\alpha_D\n",
    "\\end{matrix}\n",
    "\\right)\n",
    "-\n",
    "\\left(\n",
    "\\begin{matrix}\n",
    "y_1 \\\\\n",
    "\\vdots \\\\\n",
    "y_N\n",
    "\\end{matrix}\n",
    "\\right)~\n",
    "\\right\\|_{2}\n",
    "\\end{align*}\n",
    "</div>"
   ]
  },
  {
   "cell_type": "markdown",
   "id": "da1cf34c",
   "metadata": {},
   "source": [
    "Implement the function `loss(alpha, x_t, y_t)` which computes $\\mathcal{L} \\left( \\alpha \\right)$, where:\n",
    "- `alpha` is a tuple of $D$ parameters;\n",
    "- `x_t` is a tensor of $N$ values $x_1, \\dots, x_N$;\n",
    "- `y_t` is a tensor of $N$ values $y_1, \\dots, y_N$.\n",
    "\n",
    "Take `\\alpha = (0.1, 0.2, 0.3)` and compute the loss of the train set given by `x_train` and `y_train` and the loss of the test set given by `x_test` and `y_test`."
   ]
  },
  {
   "cell_type": "code",
   "execution_count": 8,
   "id": "d9c6924a",
   "metadata": {},
   "outputs": [],
   "source": [
    "def loss(alpha, x_t, y_t):\n",
    "    \n",
    "    loss = 0\n",
    "    \n",
    "    for i in range(len(x_t)):\n",
    "        loss += (f_hat(alpha, x_t[i]) - y_t[i])**2\n",
    "    \n",
    "    return loss.item()"
   ]
  },
  {
   "cell_type": "code",
   "execution_count": 9,
   "id": "7b38f0e8",
   "metadata": {},
   "outputs": [
    {
     "name": "stdout",
     "output_type": "stream",
     "text": [
      "Train loss:\t 6.678373336791992\n",
      "Test loss:\t 8.475791931152344\n"
     ]
    }
   ],
   "source": [
    "alpha = (0.1, 0.2, 0.3)\n",
    "\n",
    "print(\"Train loss:\\t\", loss(alpha, x_train, y_train))\n",
    "print(\"Test loss:\\t\", loss(alpha, x_test, y_test))"
   ]
  },
  {
   "cell_type": "markdown",
   "id": "51bceb1b",
   "metadata": {},
   "source": [
    "<div class=\"alert alert-block alert-info\">\n",
    "\n",
    "The **best model** is the one that minimizes the loss $\\mathcal{L} \\left( \\alpha \\right)$ on the train set\n",
    "\n",
    "$$\n",
    "\\left\\{ (x_{train_i}, y_{train_i}) : i=1,\\dots,N \\right\\}\n",
    "$$\n",
    "    \n",
    "i.e., it is the model\n",
    "\n",
    "$$\\hat f(\\alpha^*; x)$$\n",
    "where\n",
    "\\begin{align}\n",
    "\\alpha^* = (\\alpha^*_0, \\dots ,\\alpha^*_D) & = \\arg \\min_{\\alpha} \\mathcal{L} \\left( \\alpha \\right) \\\\\n",
    "& = \\arg \\min_{\\alpha}\n",
    "\\left\\|~\n",
    "\\left(\n",
    "\\begin{matrix}\n",
    "x_{train_1}^0 & \\cdots & x_{train_1}^D \\\\\n",
    "\\vdots &  & \\vdots \\\\\n",
    "x_{train_N}^0 & \\cdots & x_{train_N}^D\n",
    "\\end{matrix}\n",
    "\\right)\n",
    "\\left(\n",
    "\\begin{matrix}\n",
    "\\alpha_0 \\\\\n",
    "\\vdots \\\\\n",
    "\\alpha_D\n",
    "\\end{matrix}\n",
    "\\right)\n",
    "-\n",
    "\\left(\n",
    "\\begin{matrix}\n",
    "y_{train_1} \\\\\n",
    "\\vdots \\\\\n",
    "y_{train_N}\n",
    "\\end{matrix}\n",
    "\\right)~\n",
    "\\right\\|_{2}\n",
    "\\end{align}\n",
    "</div>"
   ]
  },
  {
   "cell_type": "markdown",
   "id": "feec8156",
   "metadata": {},
   "source": [
    "Define a function `create_features(D, x_t)` which computes the matrix\n",
    "\n",
    "$$\n",
    "X =\n",
    "\\left(\n",
    "\\begin{matrix}\n",
    "x_1^0 & \\cdots & x_1^D \\\\\n",
    "\\vdots &  & \\vdots \\\\\n",
    "x_N^0 & \\cdots & x_N^D\n",
    "\\end{matrix}\n",
    "\\right)\n",
    "$$\n",
    "where:\n",
    "- `D` is an integer representing the maximal degree of the polynomial;\n",
    "- `x_t` is a tensor of $N$ values $x_1, \\dots, x_N$;\n",
    "\n",
    "Compute the feature matrix $X$ for `x_t = x_train` and `D = 3`."
   ]
  },
  {
   "cell_type": "code",
   "execution_count": 10,
   "id": "a2b49812",
   "metadata": {},
   "outputs": [],
   "source": [
    "# do demo\n",
    "# x_train.unsqueeze(1).repeat(1, D)"
   ]
  },
  {
   "cell_type": "code",
   "execution_count": 11,
   "id": "77d7e414",
   "metadata": {},
   "outputs": [],
   "source": [
    "# do demo\n",
    "# torch.arange(D+1).unsqueeze(0).repeat(len(x_train), 1)"
   ]
  },
  {
   "cell_type": "code",
   "execution_count": 12,
   "id": "41adcd8e",
   "metadata": {},
   "outputs": [],
   "source": [
    "def create_features(D, x_t):\n",
    "\n",
    "    A = x_t.unsqueeze(1).repeat(1, D+1)\n",
    "    B = torch.arange(D+1).unsqueeze(0).repeat(len(x_t), 1)\n",
    "\n",
    "    return A ** B # elementwise exponentiation"
   ]
  },
  {
   "cell_type": "code",
   "execution_count": 13,
   "id": "4945b6b2",
   "metadata": {
    "scrolled": true
   },
   "outputs": [
    {
     "data": {
      "text/plain": [
       "tensor([[ 1.0000e+00, -2.0000e+00,  4.0000e+00, -8.0000e+00],\n",
       "        [ 1.0000e+00, -1.8000e+00,  3.2400e+00, -5.8320e+00],\n",
       "        [ 1.0000e+00, -1.6000e+00,  2.5600e+00, -4.0960e+00],\n",
       "        [ 1.0000e+00, -1.4000e+00,  1.9600e+00, -2.7440e+00],\n",
       "        [ 1.0000e+00, -1.2000e+00,  1.4400e+00, -1.7280e+00],\n",
       "        [ 1.0000e+00, -1.0000e+00,  1.0000e+00, -1.0000e+00],\n",
       "        [ 1.0000e+00, -8.0000e-01,  6.4000e-01, -5.1200e-01],\n",
       "        [ 1.0000e+00, -6.0000e-01,  3.6000e-01, -2.1600e-01],\n",
       "        [ 1.0000e+00, -4.0000e-01,  1.6000e-01, -6.4000e-02],\n",
       "        [ 1.0000e+00, -2.0000e-01,  4.0000e-02, -8.0000e-03],\n",
       "        [ 1.0000e+00, -5.9605e-09,  3.5527e-17, -2.1176e-25],\n",
       "        [ 1.0000e+00,  2.0000e-01,  4.0000e-02,  8.0000e-03],\n",
       "        [ 1.0000e+00,  4.0000e-01,  1.6000e-01,  6.4000e-02],\n",
       "        [ 1.0000e+00,  6.0000e-01,  3.6000e-01,  2.1600e-01],\n",
       "        [ 1.0000e+00,  8.0000e-01,  6.4000e-01,  5.1200e-01],\n",
       "        [ 1.0000e+00,  1.0000e+00,  1.0000e+00,  1.0000e+00],\n",
       "        [ 1.0000e+00,  1.2000e+00,  1.4400e+00,  1.7280e+00],\n",
       "        [ 1.0000e+00,  1.4000e+00,  1.9600e+00,  2.7440e+00],\n",
       "        [ 1.0000e+00,  1.6000e+00,  2.5600e+00,  4.0960e+00],\n",
       "        [ 1.0000e+00,  1.8000e+00,  3.2400e+00,  5.8320e+00]])"
      ]
     },
     "execution_count": 13,
     "metadata": {},
     "output_type": "execute_result"
    }
   ],
   "source": [
    "D = 3\n",
    "create_features(D, x_train)"
   ]
  },
  {
   "cell_type": "markdown",
   "id": "9e5e56fc",
   "metadata": {},
   "source": [
    "The **least squares optimization problem (1)** can be solved using the function:<br>\n",
    "`torch.linalg.lstsq(X, y_t).solution` where:\n",
    "- `X` is the feature matrix associated with $x_1,\\dots,x_N$;\n",
    "- `y_t` is the tensor of values $y_1,\\dots,y_N$.<br>\n",
    "https://pytorch.org/docs/stable/generated/torch.linalg.lstsq.html\n",
    "\n",
    "Solve the optimization problem (1) for the **training set** given by `x_train` and `y_train`."
   ]
  },
  {
   "cell_type": "code",
   "execution_count": 14,
   "id": "768fc42d",
   "metadata": {},
   "outputs": [
    {
     "data": {
      "text/plain": [
       "torch.Size([4])"
      ]
     },
     "execution_count": 14,
     "metadata": {},
     "output_type": "execute_result"
    }
   ],
   "source": [
    "X_train = create_features(D, x_train)\n",
    "\n",
    "alpha_star = torch.linalg.lstsq(X_train, y_train).solution\n",
    "alpha_star.shape"
   ]
  },
  {
   "cell_type": "markdown",
   "id": "1bf0504d",
   "metadata": {},
   "source": [
    "Recompute the train and test losses associated to the solution $\\alpha^*$ of problem (1).\n",
    "\n",
    "The losses should be really smaller than before."
   ]
  },
  {
   "cell_type": "code",
   "execution_count": 15,
   "id": "919790e0",
   "metadata": {},
   "outputs": [
    {
     "name": "stdout",
     "output_type": "stream",
     "text": [
      "Train loss:\t 2.4712541103363037\n",
      "Test loss:\t 3.541398763656616\n"
     ]
    }
   ],
   "source": [
    "print(\"Train loss:\\t\", loss(alpha_star, x_train, y_train))\n",
    "print(\"Test loss:\\t\", loss(alpha_star, x_test, y_test))"
   ]
  },
  {
   "cell_type": "markdown",
   "id": "29fa1743",
   "metadata": {},
   "source": [
    "Using the solution $\\alpha^*$ of problem (1), Implement **best model** $\\hat f(\\alpha^*; x)$."
   ]
  },
  {
   "cell_type": "code",
   "execution_count": 16,
   "id": "1bb98a96",
   "metadata": {},
   "outputs": [],
   "source": [
    "def f_hat_best(x):\n",
    "    return f_hat(alpha_star, x)"
   ]
  },
  {
   "cell_type": "code",
   "execution_count": 17,
   "id": "e5f7cec3",
   "metadata": {},
   "outputs": [
    {
     "data": {
      "text/plain": [
       "tensor(9.3816)"
      ]
     },
     "execution_count": 17,
     "metadata": {},
     "output_type": "execute_result"
    }
   ],
   "source": [
    "f_hat_best(3)"
   ]
  },
  {
   "cell_type": "markdown",
   "id": "f07453ef",
   "metadata": {},
   "source": [
    "Plot the points of the **train set**\n",
    "$$\n",
    "(x_i, y_i),~i=1,\\dots,N,\n",
    "$$\n",
    "the **best model**\n",
    "$$\n",
    "\\hat f(\\alpha^*; x) = \\sum_{d=0}^D \\alpha^*_d x^d\n",
    "$$\n",
    "and the **original \"un-noised\" function**\n",
    "$$\n",
    "f(x) = \\frac{1}{2}\\ +\\ \\frac{1}{10}\\exp\\left(x\\right).\n",
    "$$"
   ]
  },
  {
   "cell_type": "code",
   "execution_count": 18,
   "id": "4a5bca2e",
   "metadata": {},
   "outputs": [
    {
     "data": {
      "text/plain": [
       "<matplotlib.legend.Legend at 0x7fd9fe3cffa0>"
      ]
     },
     "execution_count": 18,
     "metadata": {},
     "output_type": "execute_result"
    },
    {
     "data": {
      "image/png": "[encoded data removed]",
      "text/plain": [
       "<Figure size 432x288 with 1 Axes>"
      ]
     },
     "metadata": {
      "needs_background": "light"
     },
     "output_type": "display_data"
    }
   ],
   "source": [
    "# plot generated points\n",
    "plt.plot(x_train, y_train, \n",
    "         linestyle='', \n",
    "         marker='o', \n",
    "         color='red', \n",
    "         label='train set') \n",
    "\n",
    "# plot best model\n",
    "plt.plot(x_train, \n",
    "         [f_hat_best(x_i) for x_i in x_train], # not broadcasting here?\n",
    "         linestyle='-', \n",
    "         linewidth=3, \n",
    "         color='blue', \n",
    "         label='polynomial model')\n",
    "\n",
    "# plot original function\n",
    "x = torch.arange(-2, 2, 1/100)\n",
    "plt.plot(x, \n",
    "         1/2 + 1/100 * torch.exp(3*x), \n",
    "         linestyle='-', \n",
    "         color='black', \n",
    "         label='original function')\n",
    "\n",
    "plt.legend()"
   ]
  },
  {
   "cell_type": "markdown",
   "id": "2fa63b87",
   "metadata": {},
   "source": [
    "**We see that our best model approximates very well the original function.**"
   ]
  },
  {
   "cell_type": "markdown",
   "id": "f6584cfd",
   "metadata": {},
   "source": [
    "Re-execute your cells with `D = 15` and notice how your model overfits the data..."
   ]
  },
  {
   "cell_type": "markdown",
   "id": "6582b7b1",
   "metadata": {},
   "source": [
    "## Exercice 2"
   ]
  },
  {
   "cell_type": "markdown",
   "id": "8a6dd3a6",
   "metadata": {},
   "source": [
    "Based on your previous code, implement a **wrapper function** `fit(D, x_train, y_train, x_test, y_test)` which:\n",
    "- fits a ploynomial model $\\hat f_D(\\alpha^*; x)$ of degree $D$ on the train set `x_train`, `y_train`;\n",
    "- computes and returns the train and test losses."
   ]
  },
  {
   "cell_type": "code",
   "execution_count": 19,
   "id": "5fd0b938",
   "metadata": {},
   "outputs": [],
   "source": [
    "def fit(D, x_train, y_train, x_test, y_test):\n",
    "    \n",
    "    # compute train features\n",
    "    X_train = create_features(D, x_train)\n",
    "    \n",
    "    # compute best parameters alpha^* (solve pb (1))\n",
    "    alpha_star = torch.linalg.lstsq(X_train, y_train).solution\n",
    "    \n",
    "    # compute train and test losses\n",
    "    loss_train = loss(alpha_star, x_train, y_train)\n",
    "    loss_test = loss(alpha_star, x_test, y_test)\n",
    "    \n",
    "    return loss_train, loss_test"
   ]
  },
  {
   "cell_type": "code",
   "execution_count": 20,
   "id": "cef1a467",
   "metadata": {},
   "outputs": [
    {
     "data": {
      "text/plain": [
       "(2.242368221282959, 3.6590471267700195)"
      ]
     },
     "execution_count": 20,
     "metadata": {},
     "output_type": "execute_result"
    }
   ],
   "source": [
    "fit(5, x_train, y_train, x_test, y_test)"
   ]
  },
  {
   "cell_type": "markdown",
   "id": "6c095d30",
   "metadata": {},
   "source": [
    "Print the train and test losses for $D = 0,1,\\dots,15$ ($D$ on the x-axis, losses on the y-axis).\n",
    "\n",
    "You shoud see that the **underfitting** and **overfitting** regions. Mode precisely, the models of low and high complexities underfit and overfit the test data, respectively."
   ]
  },
  {
   "cell_type": "code",
   "execution_count": 21,
   "id": "1533cabb",
   "metadata": {},
   "outputs": [],
   "source": [
    "train_losses = []\n",
    "test_losses = []\n",
    "D = 15\n",
    "\n",
    "for d in range(0, D):\n",
    "    \n",
    "    loss_train, loss_test = fit(d, x_train, y_train, x_test, y_test)\n",
    "    \n",
    "    train_losses.append(loss_train)\n",
    "    test_losses.append(loss_test)"
   ]
  },
  {
   "cell_type": "code",
   "execution_count": 22,
   "id": "c1da87ff",
   "metadata": {},
   "outputs": [
    {
     "data": {
      "text/plain": [
       "[9.589540481567383,\n",
       " 6.262890815734863,\n",
       " 3.684823513031006,\n",
       " 3.5413990020751953,\n",
       " 3.481268882751465,\n",
       " 3.6590466499328613,\n",
       " 3.903369665145874,\n",
       " 3.7604265213012695,\n",
       " 3.833625555038452,\n",
       " 3.918842077255249,\n",
       " 3.8993704319000244,\n",
       " 3.8923768997192383,\n",
       " 4.09333610534668,\n",
       " 4.030120849609375,\n",
       " 4.1943278312683105]"
      ]
     },
     "execution_count": 22,
     "metadata": {},
     "output_type": "execute_result"
    }
   ],
   "source": [
    "test_losses"
   ]
  },
  {
   "cell_type": "code",
   "execution_count": 23,
   "id": "eb830c07",
   "metadata": {},
   "outputs": [
    {
     "data": {
      "text/plain": [
       "<matplotlib.legend.Legend at 0x7fd9fe15dd00>"
      ]
     },
     "execution_count": 23,
     "metadata": {},
     "output_type": "execute_result"
    },
    {
     "data": {
      "image/png": "[encoded data removed]",
      "text/plain": [
       "<Figure size 432x288 with 1 Axes>"
      ]
     },
     "metadata": {
      "needs_background": "light"
     },
     "output_type": "display_data"
    }
   ],
   "source": [
    "# plot train loss\n",
    "plt.plot(range(D), train_losses, \n",
    "         linestyle='-', \n",
    "         linewidth=2, color='blue', \n",
    "         label='train loss')\n",
    "\n",
    "# plot test loss\n",
    "plt.plot(range(D), test_losses, \n",
    "         linestyle='-', \n",
    "         linewidth=2, color='red', \n",
    "         label='test loss') \n",
    "\n",
    "plt.legend()"
   ]
  },
  {
   "cell_type": "code",
   "execution_count": null,
   "id": "7dd76358",
   "metadata": {},
   "outputs": [],
   "source": []
  }
 ],
 "metadata": {
  "kernelspec": {
   "display_name": "Python 3 (ipykernel)",
   "language": "python",
   "name": "python3"
  },
  "language_info": {
   "codemirror_mode": {
    "name": "ipython",
    "version": 3
   },
   "file_extension": ".py",
   "mimetype": "text/x-python",
   "name": "python",
   "nbconvert_exporter": "python",
   "pygments_lexer": "ipython3",
   "version": "3.9.5"
  }
 },
 "nbformat": 4,
 "nbformat_minor": 5
}
