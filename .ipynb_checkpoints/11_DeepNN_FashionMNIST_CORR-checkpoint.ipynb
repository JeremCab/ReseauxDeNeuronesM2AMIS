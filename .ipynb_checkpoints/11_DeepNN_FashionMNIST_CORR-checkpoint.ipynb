{
 "cells": [
  {
   "cell_type": "markdown",
   "id": "ac35021e",
   "metadata": {},
   "source": [
    "# Neural Networks in ``PyTorch``"
   ]
  },
  {
   "cell_type": "markdown",
   "id": "bcbe3b65",
   "metadata": {},
   "source": [
    "The **Fsshion MNIST dataset** consists of 60,000 images of clothes, where each image has size 28X28. There are 10 different classes of clothes:<br>\n",
    "0: T-shirt/top<br>\n",
    "1: Trouser<br>\n",
    "2: Pullover<br>\n",
    "3: Dress<br>\n",
    "4: Coat<br>\n",
    "5: Sandal<br>\n",
    "6: Shirt<br>\n",
    "7: Sneaker<br>\n",
    "8: Bag<br>\n",
    "9: Ankle boot\n",
    "\n",
    "<img src=\"files/figures/fashion_mnist.png\" width=\"500px\"/>\n",
    "\n",
    "We will define and train a deep neural network on the MNIST dataset. This is a **classification problem**.<br>\n",
    "\n",
    "The definition and training of a neural network invoves the following steps:\n",
    "\n",
    "0. Import **librairies**;\n",
    "1. Get the **datasets** (train, validation and test);\n",
    "2. Define the **dataloaders** from the datasets (train and test);\n",
    "3. Define the **model**;\n",
    "4. Define the **loss function**;\n",
    "5. Define the **optimizer**;\n",
    "7. **Train** the model (training loop);\n",
    "8. Get the **results** (predict)."
   ]
  },
  {
   "cell_type": "markdown",
   "id": "933ac146",
   "metadata": {},
   "source": [
    "## 0. Librairies"
   ]
  },
  {
   "cell_type": "code",
   "execution_count": 4,
   "id": "6235ff87",
   "metadata": {
    "scrolled": true
   },
   "outputs": [],
   "source": [
    "import os\n",
    "\n",
    "import torch\n",
    "import torch.nn as nn\n",
    "import torch.nn.functional as F\n",
    "\n",
    "from torch.utils.data import DataLoader, random_split\n",
    "import torchvision.datasets as datasets\n",
    "from torchvision.transforms import ToTensor\n",
    "\n",
    "from sklearn.metrics import classification_report\n",
    "\n",
    "import matplotlib.pyplot as plt\n",
    "\n",
    "from tqdm.notebook import tqdm"
   ]
  },
  {
   "cell_type": "markdown",
   "id": "56800aaa",
   "metadata": {},
   "source": [
    "## 1. Datasets"
   ]
  },
  {
   "cell_type": "markdown",
   "id": "39072afb",
   "metadata": {},
   "source": [
    "- Load the train and test Fashion MNIST datasets using the following commands:<br>\n",
    "```\n",
    "train_dataset = datasets.FashionMNIST(root='./data', train=True, download=True, transform=ToTensor())\n",
    "test_dataset = datasets.FashionMNIST(root='./data', train=False, download=True, transform=ToTensor())\n",
    "```\n",
    "Each sample consists of a tensor (the image encoded in black and white), and a label (the digit that it represents).\n",
    "\n",
    "- Examine the data (structure, dimension, etc).\n",
    "- Create a function to visualize some data as an image."
   ]
  },
  {
   "cell_type": "code",
   "execution_count": 5,
   "id": "cb80f954",
   "metadata": {},
   "outputs": [
    {
     "name": "stdout",
     "output_type": "stream",
     "text": [
      "Downloading http://fashion-mnist.s3-website.eu-central-1.amazonaws.com/train-images-idx3-ubyte.gz\n",
      "Downloading http://fashion-mnist.s3-website.eu-central-1.amazonaws.com/train-images-idx3-ubyte.gz to ./data/FashionMNIST/raw/train-images-idx3-ubyte.gz\n"
     ]
    },
    {
     "data": {
      "application/vnd.jupyter.widget-view+json": {
       "model_id": "6c6909f0e99f40f8bc6499f05fa61550",
       "version_major": 2,
       "version_minor": 0
      },
      "text/plain": [
       "  0%|          | 0/26421880 [00:00<?, ?it/s]"
      ]
     },
     "metadata": {},
     "output_type": "display_data"
    },
    {
     "name": "stdout",
     "output_type": "stream",
     "text": [
      "Extracting ./data/FashionMNIST/raw/train-images-idx3-ubyte.gz to ./data/FashionMNIST/raw\n",
      "\n",
      "Downloading http://fashion-mnist.s3-website.eu-central-1.amazonaws.com/train-labels-idx1-ubyte.gz\n",
      "Downloading http://fashion-mnist.s3-website.eu-central-1.amazonaws.com/train-labels-idx1-ubyte.gz to ./data/FashionMNIST/raw/train-labels-idx1-ubyte.gz\n"
     ]
    },
    {
     "data": {
      "application/vnd.jupyter.widget-view+json": {
       "model_id": "7bfbc94133ae4cd18a8c1a864c61d743",
       "version_major": 2,
       "version_minor": 0
      },
      "text/plain": [
       "  0%|          | 0/29515 [00:00<?, ?it/s]"
      ]
     },
     "metadata": {},
     "output_type": "display_data"
    },
    {
     "name": "stdout",
     "output_type": "stream",
     "text": [
      "Extracting ./data/FashionMNIST/raw/train-labels-idx1-ubyte.gz to ./data/FashionMNIST/raw\n",
      "\n",
      "Downloading http://fashion-mnist.s3-website.eu-central-1.amazonaws.com/t10k-images-idx3-ubyte.gz\n",
      "Downloading http://fashion-mnist.s3-website.eu-central-1.amazonaws.com/t10k-images-idx3-ubyte.gz to ./data/FashionMNIST/raw/t10k-images-idx3-ubyte.gz\n"
     ]
    },
    {
     "data": {
      "application/vnd.jupyter.widget-view+json": {
       "model_id": "aafe52538f9143e7934f1274a5f71463",
       "version_major": 2,
       "version_minor": 0
      },
      "text/plain": [
       "  0%|          | 0/4422102 [00:00<?, ?it/s]"
      ]
     },
     "metadata": {},
     "output_type": "display_data"
    },
    {
     "name": "stdout",
     "output_type": "stream",
     "text": [
      "Extracting ./data/FashionMNIST/raw/t10k-images-idx3-ubyte.gz to ./data/FashionMNIST/raw\n",
      "\n",
      "Downloading http://fashion-mnist.s3-website.eu-central-1.amazonaws.com/t10k-labels-idx1-ubyte.gz\n",
      "Downloading http://fashion-mnist.s3-website.eu-central-1.amazonaws.com/t10k-labels-idx1-ubyte.gz to ./data/FashionMNIST/raw/t10k-labels-idx1-ubyte.gz\n"
     ]
    },
    {
     "data": {
      "application/vnd.jupyter.widget-view+json": {
       "model_id": "4b059713ee4c413089828895d3cd3f5d",
       "version_major": 2,
       "version_minor": 0
      },
      "text/plain": [
       "  0%|          | 0/5148 [00:00<?, ?it/s]"
      ]
     },
     "metadata": {},
     "output_type": "display_data"
    },
    {
     "name": "stdout",
     "output_type": "stream",
     "text": [
      "Extracting ./data/FashionMNIST/raw/t10k-labels-idx1-ubyte.gz to ./data/FashionMNIST/raw\n",
      "\n"
     ]
    }
   ],
   "source": [
    "train_dataset = datasets.FashionMNIST(root='./data', train=True, download=True, transform=ToTensor())\n",
    "test_dataset = datasets.FashionMNIST(root='./data', train=False, download=True, transform=ToTensor())"
   ]
  },
  {
   "cell_type": "code",
   "execution_count": 6,
   "id": "3593598b",
   "metadata": {},
   "outputs": [],
   "source": [
    "train_dataset, val_dataset = random_split(train_dataset, [50000,10000])"
   ]
  },
  {
   "cell_type": "code",
   "execution_count": 7,
   "id": "a294ae94",
   "metadata": {},
   "outputs": [
    {
     "data": {
      "text/plain": [
       "(50000, 10000, 10000)"
      ]
     },
     "execution_count": 7,
     "metadata": {},
     "output_type": "execute_result"
    }
   ],
   "source": [
    "len(train_dataset), len(val_dataset), len(test_dataset)"
   ]
  },
  {
   "cell_type": "code",
   "execution_count": 8,
   "id": "4c8a5d41",
   "metadata": {
    "scrolled": true
   },
   "outputs": [
    {
     "data": {
      "text/plain": [
       "(torch.Size([1, 28, 28]), 3)"
      ]
     },
     "execution_count": 8,
     "metadata": {},
     "output_type": "execute_result"
    }
   ],
   "source": [
    "# Each sample data is a tuple: tensor [1, 28, 28], label\n",
    "train_dataset[0][0].shape, train_dataset[0][1]"
   ]
  },
  {
   "cell_type": "code",
   "execution_count": 9,
   "id": "a54560de",
   "metadata": {
    "scrolled": true
   },
   "outputs": [],
   "source": [
    "def display_data(sample):\n",
    "    \n",
    "    # get tensor and label\n",
    "    tensor, label = sample[0], sample[1]\n",
    "    tensor = tensor.view(28, 28) # reshape into 28 x 28\n",
    "    \n",
    "    # plot\n",
    "    plt.figure(figsize=(2, 2))\n",
    "    plt.title(f'label: {label}')\n",
    "    plt.imshow(tensor)\n",
    "    plt.show()"
   ]
  },
  {
   "cell_type": "code",
   "execution_count": 10,
   "id": "3b08d3df",
   "metadata": {
    "scrolled": true
   },
   "outputs": [],
   "source": [
    "def display_some_data(dataset):\n",
    "    \n",
    "    fig, axs = plt.subplots(5, 5, figsize=(10,10))\n",
    "    \n",
    "    for i in range(25):\n",
    "        \n",
    "        tensor, label = dataset[i][0], dataset[i][1]\n",
    "        \n",
    "        axs[i//5, i%5].set_title(f\"Label: {label}\")\n",
    "        axs[i//5, i%5].imshow(tensor.view(28, 28))\n",
    "    \n",
    "    plt.show()"
   ]
  },
  {
   "cell_type": "code",
   "execution_count": 11,
   "id": "c0ff4953",
   "metadata": {
    "scrolled": false
   },
   "outputs": [
    {
     "data": {
      "image/png": "[encoded data removed]",
      "text/plain": [
       "<Figure size 720x720 with 25 Axes>"
      ]
     },
     "metadata": {
      "needs_background": "light"
     },
     "output_type": "display_data"
    }
   ],
   "source": [
    "display_some_data(train_dataset)"
   ]
  },
  {
   "cell_type": "markdown",
   "id": "0983f97c",
   "metadata": {},
   "source": [
    "## 2. Dataloaders"
   ]
  },
  {
   "cell_type": "markdown",
   "id": "29e59ed3",
   "metadata": {},
   "source": [
    "A **dataloader** creates batches of samples from a dataset so that they can be passed into a model.\n",
    "- Create a train and test dataloaders using the following commands:\n",
    "```\n",
    "train_dataloader = DataLoader(train_dataset, batch_size=64, shuffle=True)\n",
    "val_dataloader = DataLoader(val_dataset, batch_size=64, shuffle=True)\n",
    "test_dataloader = DataLoader(test_dataset, batch_size=64, shuffle=True)\n",
    "```\n",
    "- Note that dataloaders are not subscriptable.\n",
    "- Try to catch one batch of the dataloader and examine it.\n",
    "- Write a function that reshapes a batch of size $64 \\times 1 \\times 28 \\times 28$ into a tensor of size $64 \\times 784$.<br>\n",
    "(use `torch.squeeze()`, `torch.reshape()`, `torch.flatten()`, `torch.transpose()`, etc.)"
   ]
  },
  {
   "cell_type": "code",
   "execution_count": 12,
   "id": "2a07bf08",
   "metadata": {
    "scrolled": true
   },
   "outputs": [],
   "source": [
    "train_dataloader = DataLoader(train_dataset, batch_size=64, shuffle=True)\n",
    "val_dataloader = DataLoader(val_dataset, batch_size=64, shuffle=True)\n",
    "test_dataloader = DataLoader(test_dataset, batch_size=64, shuffle=True)"
   ]
  },
  {
   "cell_type": "code",
   "execution_count": 13,
   "id": "2e6c157e",
   "metadata": {
    "scrolled": true
   },
   "outputs": [],
   "source": [
    "def reshape_batch(batch):\n",
    "    \n",
    "    # note that this function moodifies the batch in-place (no return)\n",
    "    batch_size = batch[0].shape[0]\n",
    "    batch[0] = batch[0].view(batch_size, -1)\n",
    "    \n",
    "    return batch"
   ]
  },
  {
   "cell_type": "code",
   "execution_count": 14,
   "id": "c5911f75",
   "metadata": {},
   "outputs": [],
   "source": [
    "for b in train_dataloader:\n",
    "    break"
   ]
  },
  {
   "cell_type": "code",
   "execution_count": 15,
   "id": "34e22726",
   "metadata": {},
   "outputs": [
    {
     "data": {
      "text/plain": [
       "torch.Size([64, 1, 28, 28])"
      ]
     },
     "execution_count": 15,
     "metadata": {},
     "output_type": "execute_result"
    }
   ],
   "source": [
    "b[0].shape"
   ]
  },
  {
   "cell_type": "code",
   "execution_count": 16,
   "id": "d9e293f1",
   "metadata": {},
   "outputs": [
    {
     "data": {
      "text/plain": [
       "[tensor([[0., 0., 0.,  ..., 0., 0., 0.],\n",
       "         [0., 0., 0.,  ..., 0., 0., 0.],\n",
       "         [0., 0., 0.,  ..., 0., 0., 0.],\n",
       "         ...,\n",
       "         [0., 0., 0.,  ..., 0., 0., 0.],\n",
       "         [0., 0., 0.,  ..., 0., 0., 0.],\n",
       "         [0., 0., 0.,  ..., 0., 0., 0.]]),\n",
       " tensor([2, 8, 8, 6, 1, 3, 8, 5, 5, 6, 5, 1, 7, 0, 1, 3, 0, 3, 3, 9, 9, 9, 7, 0,\n",
       "         6, 1, 4, 4, 7, 4, 8, 5, 3, 4, 9, 1, 2, 1, 9, 6, 3, 1, 4, 6, 7, 7, 5, 7,\n",
       "         9, 9, 8, 0, 0, 5, 8, 8, 5, 5, 9, 1, 6, 2, 6, 0])]"
      ]
     },
     "execution_count": 16,
     "metadata": {},
     "output_type": "execute_result"
    }
   ],
   "source": [
    "reshape_batch(b)"
   ]
  },
  {
   "cell_type": "code",
   "execution_count": 17,
   "id": "7a7aa277",
   "metadata": {},
   "outputs": [
    {
     "data": {
      "text/plain": [
       "torch.Size([64, 784])"
      ]
     },
     "execution_count": 17,
     "metadata": {},
     "output_type": "execute_result"
    }
   ],
   "source": [
    "b[0].shape"
   ]
  },
  {
   "cell_type": "markdown",
   "id": "f076ba79",
   "metadata": {},
   "source": [
    "## 3. Model"
   ]
  },
  {
   "cell_type": "markdown",
   "id": "daf3ae96",
   "metadata": {},
   "source": [
    "- Define and instanciate a **neural network** with the following feaures:\n",
    "    - hidden layer 1: 512 neurons, relu activation function\n",
    "    - hidden layer 2: 512 neurons, relu activation function\n",
    "    - hidden layer 3: 256 neurons, relu activation function\n",
    "    - hidden layer 4: 128 neurons, relu activation function\n",
    "    - output layer: 10 neurons"
   ]
  },
  {
   "cell_type": "code",
   "execution_count": 18,
   "id": "9d820419",
   "metadata": {},
   "outputs": [],
   "source": [
    "class Network(nn.Module):\n",
    "\n",
    "    def __init__(self):\n",
    "        \n",
    "        super(Network, self).__init__()\n",
    "        \n",
    "        self.fc1 = nn.Linear(784, 512)\n",
    "        self.fc2 = nn.Linear(512, 512)\n",
    "        self.fc3 = nn.Linear(512, 256)\n",
    "        self.fc4 = nn.Linear(256, 128)\n",
    "        self.fc5 = nn.Linear(128, 10)\n",
    "\n",
    "    def forward(self, x):\n",
    "        \n",
    "        x = self.fc1(x)\n",
    "        x = nn.ReLU()(x)\n",
    "        \n",
    "        x = self.fc2(x)\n",
    "        x = nn.ReLU()(x)\n",
    "        \n",
    "        x = self.fc3(x)\n",
    "        x = nn.ReLU()(x)\n",
    "        \n",
    "        x = self.fc4(x)\n",
    "        x = nn.ReLU()(x)\n",
    "        \n",
    "        x = self.fc5(x)\n",
    "        \n",
    "        return x"
   ]
  },
  {
   "cell_type": "code",
   "execution_count": 19,
   "id": "24eb29f7",
   "metadata": {},
   "outputs": [],
   "source": [
    "network = Network()"
   ]
  },
  {
   "cell_type": "code",
   "execution_count": 20,
   "id": "5507da6d",
   "metadata": {},
   "outputs": [
    {
     "data": {
      "text/plain": [
       "Network(\n",
       "  (fc1): Linear(in_features=784, out_features=512, bias=True)\n",
       "  (fc2): Linear(in_features=512, out_features=512, bias=True)\n",
       "  (fc3): Linear(in_features=512, out_features=256, bias=True)\n",
       "  (fc4): Linear(in_features=256, out_features=128, bias=True)\n",
       "  (fc5): Linear(in_features=128, out_features=10, bias=True)\n",
       ")"
      ]
     },
     "execution_count": 20,
     "metadata": {},
     "output_type": "execute_result"
    }
   ],
   "source": [
    "# Put network to GPU if exists\n",
    "device = torch.device('cuda' if torch.cuda.is_available() else 'cpu')\n",
    "network.to(device)"
   ]
  },
  {
   "cell_type": "code",
   "execution_count": 21,
   "id": "f1d0ba7f",
   "metadata": {},
   "outputs": [
    {
     "data": {
      "text/plain": [
       "Network(\n",
       "  (fc1): Linear(in_features=784, out_features=512, bias=True)\n",
       "  (fc2): Linear(in_features=512, out_features=512, bias=True)\n",
       "  (fc3): Linear(in_features=512, out_features=256, bias=True)\n",
       "  (fc4): Linear(in_features=256, out_features=128, bias=True)\n",
       "  (fc5): Linear(in_features=128, out_features=10, bias=True)\n",
       ")"
      ]
     },
     "execution_count": 21,
     "metadata": {},
     "output_type": "execute_result"
    }
   ],
   "source": [
    "network"
   ]
  },
  {
   "cell_type": "markdown",
   "id": "c96d0079",
   "metadata": {},
   "source": [
    "## 4. Loss"
   ]
  },
  {
   "cell_type": "markdown",
   "id": "adca7d03",
   "metadata": {},
   "source": [
    "- Define a **cross entropy loss** with the following command:<br>\n",
    "```\n",
    "loss = nn.CrossEntropyLoss()\n",
    "```\n",
    "- Try to understand this loss object:<br>\n",
    "https://pytorch.org/docs/stable/generated/torch.nn.CrossEntropyLoss.html"
   ]
  },
  {
   "cell_type": "code",
   "execution_count": 22,
   "id": "87b7ddc4",
   "metadata": {},
   "outputs": [],
   "source": [
    "loss = nn.CrossEntropyLoss()"
   ]
  },
  {
   "cell_type": "markdown",
   "id": "f2e74bf7",
   "metadata": {},
   "source": [
    "## 5. Optimizer"
   ]
  },
  {
   "cell_type": "markdown",
   "id": "f8e9349d",
   "metadata": {},
   "source": [
    "- Define an **SGD optimizer** with the following command:<br>\n",
    "```\n",
    "optimizer = torch.optim.SGD(network.parameters(), lr=0.005)\n",
    "```\n",
    "- Try to understand this object:<br>\n",
    "https://pytorch.org/docs/stable/generated/torch.optim.SGD.html#torch.optim.SGD"
   ]
  },
  {
   "cell_type": "code",
   "execution_count": 23,
   "id": "939fbc70",
   "metadata": {},
   "outputs": [],
   "source": [
    "optimizer = torch.optim.SGD(network.parameters(), lr=0.005)"
   ]
  },
  {
   "cell_type": "markdown",
   "id": "601241b2",
   "metadata": {},
   "source": [
    "## 6. Training"
   ]
  },
  {
   "cell_type": "markdown",
   "id": "81e0534e",
   "metadata": {},
   "source": [
    "- Define a **training loop** for you model.\n",
    "- The key instructions are:\n",
    "    - ``optimizer.zero_grad()``: reset gradients to 0\n",
    "    - ``loss.backward()``      : compute new gradients\n",
    "    - ``optimizer.step()``     : uptdate weights\n",
    "- Train the model for 20 epochs.\n",
    "- Plot the training loss."
   ]
  },
  {
   "cell_type": "code",
   "execution_count": 24,
   "id": "69baf69b",
   "metadata": {},
   "outputs": [],
   "source": [
    "def train(model, loss=None, optimizer=None, train_dataloader=None, val_dataloader=None, nb_epochs=20):\n",
    "    \"\"\"Training loop\"\"\"\n",
    "\n",
    "    min_val_loss = torch.inf\n",
    "    train_losses = []\n",
    "    val_losses = []\n",
    "\n",
    "    # Iterrate over epochs\n",
    "    for e in range(nb_epochs):\n",
    "\n",
    "        # Training\n",
    "        train_loss = 0.0\n",
    "\n",
    "        for data, labels in train_dataloader:\n",
    "\n",
    "            # Transfer data to GPU if available\n",
    "            if torch.cuda.is_available():\n",
    "                data, labels = data.cuda(), labels.cuda()\n",
    "            \n",
    "            # Reset gradients to 0\n",
    "            optimizer.zero_grad()\n",
    "\n",
    "            # Forward Pass (on reshaped data)\n",
    "            data, labels = reshape_batch([data, labels])\n",
    "            targets = model(data)\n",
    "\n",
    "            # Compute training loss\n",
    "            current_loss = loss(targets, labels)\n",
    "            train_loss += current_loss.item()\n",
    "\n",
    "            # Compute gradients\n",
    "            current_loss.backward()\n",
    "\n",
    "            # Update weights\n",
    "            optimizer.step()\n",
    "        \n",
    "        # Validation\n",
    "        val_loss = 0.0\n",
    "\n",
    "        # Put model in eval mode\n",
    "        model.eval()\n",
    "\n",
    "        for data, labels in val_dataloader:\n",
    "\n",
    "            # Transfer data to GPU if available\n",
    "            if torch.cuda.is_available():\n",
    "                data, labels = data.cuda(), labels.cuda()\n",
    "\n",
    "            # Forward Pass (on reshaped data)\n",
    "            data, labels = reshape_batch([data, labels])\n",
    "            targets = model(data)\n",
    "\n",
    "            # Compute validation loss\n",
    "            current_loss = loss(targets, labels)\n",
    "            val_loss += current_loss.item()\n",
    "        \n",
    "        # Prints\n",
    "        print(f\"Epoch {e+1}/{nb_epochs} \\\n",
    "                \\t Training Loss: {train_loss/len(train_dataloader):.3f} \\\n",
    "                \\t Validation Loss: {val_loss/len(val_dataloader):.3f}\")\n",
    "        \n",
    "        train_losses.append(train_loss/len(train_dataloader))\n",
    "        val_losses.append(val_loss/len(val_dataloader))\n",
    "\n",
    "        # Save model if val loss decreases\n",
    "        if val_loss < min_val_loss:\n",
    "\n",
    "            min_val_loss = val_loss\n",
    "            torch.save(model.state_dict(), 'best_model.pt')\n",
    "            \n",
    "    return train_losses, val_losses"
   ]
  },
  {
   "cell_type": "code",
   "execution_count": 25,
   "id": "8bd54447",
   "metadata": {
    "scrolled": true
   },
   "outputs": [
    {
     "name": "stdout",
     "output_type": "stream",
     "text": [
      "Epoch 1/20                 \t Training Loss: 2.291                 \t Validation Loss: 2.272\n",
      "Epoch 2/20                 \t Training Loss: 2.154                 \t Validation Loss: 1.830\n",
      "Epoch 3/20                 \t Training Loss: 1.385                 \t Validation Loss: 1.128\n",
      "Epoch 4/20                 \t Training Loss: 0.982                 \t Validation Loss: 0.927\n",
      "Epoch 5/20                 \t Training Loss: 0.832                 \t Validation Loss: 0.794\n",
      "Epoch 6/20                 \t Training Loss: 0.766                 \t Validation Loss: 0.766\n",
      "Epoch 7/20                 \t Training Loss: 0.709                 \t Validation Loss: 0.731\n",
      "Epoch 8/20                 \t Training Loss: 0.658                 \t Validation Loss: 0.635\n",
      "Epoch 9/20                 \t Training Loss: 0.618                 \t Validation Loss: 0.662\n",
      "Epoch 10/20                 \t Training Loss: 0.588                 \t Validation Loss: 0.600\n",
      "Epoch 11/20                 \t Training Loss: 0.565                 \t Validation Loss: 0.603\n",
      "Epoch 12/20                 \t Training Loss: 0.547                 \t Validation Loss: 0.569\n",
      "Epoch 13/20                 \t Training Loss: 0.533                 \t Validation Loss: 0.603\n",
      "Epoch 14/20                 \t Training Loss: 0.518                 \t Validation Loss: 0.524\n",
      "Epoch 15/20                 \t Training Loss: 0.506                 \t Validation Loss: 0.542\n",
      "Epoch 16/20                 \t Training Loss: 0.494                 \t Validation Loss: 0.656\n",
      "Epoch 17/20                 \t Training Loss: 0.482                 \t Validation Loss: 0.559\n",
      "Epoch 18/20                 \t Training Loss: 0.470                 \t Validation Loss: 0.529\n",
      "Epoch 19/20                 \t Training Loss: 0.461                 \t Validation Loss: 0.525\n",
      "Epoch 20/20                 \t Training Loss: 0.449                 \t Validation Loss: 0.456\n"
     ]
    }
   ],
   "source": [
    "train_losses, val_losses = train(model=network, loss=loss, optimizer=optimizer, \n",
    "                                 train_dataloader=train_dataloader, val_dataloader=val_dataloader, \n",
    "                                 nb_epochs=20)"
   ]
  },
  {
   "cell_type": "code",
   "execution_count": 26,
   "id": "eed150b4",
   "metadata": {},
   "outputs": [
    {
     "data": {
      "image/png": "[encoded data removed]",
      "text/plain": [
       "<Figure size 432x288 with 1 Axes>"
      ]
     },
     "metadata": {
      "needs_background": "light"
     },
     "output_type": "display_data"
    }
   ],
   "source": [
    "# Plot losses\n",
    "plt.plot(range(len(train_losses)), train_losses, \n",
    "         linewidth=2.0, \n",
    "         label='training loss')\n",
    "\n",
    "plt.plot(range(len(val_losses)), val_losses, \n",
    "         linewidth=2.0, \n",
    "         label='validation loss')\n",
    "\n",
    "plt.xlabel(\"Epochs\", size=12)\n",
    "plt.ylabel(\"Losses\", size=12)\n",
    "plt.legend()\n",
    "\n",
    "plt.savefig('figures/losses.pdf') \n",
    "plt.show()"
   ]
  },
  {
   "cell_type": "markdown",
   "id": "21c25e52",
   "metadata": {},
   "source": [
    "## 6. Testing"
   ]
  },
  {
   "cell_type": "markdown",
   "id": "27d6f3af",
   "metadata": {},
   "source": [
    "- Write a ``predict`` function\n",
    "    - use ``with torch.no_grad():``\n",
    "- Compute the accuracy and classification report of the train and test sets."
   ]
  },
  {
   "cell_type": "code",
   "execution_count": 27,
   "id": "59109d5a",
   "metadata": {},
   "outputs": [],
   "source": [
    "def predict(model, test_dataloader):\n",
    "\n",
    "    labels_l = []\n",
    "    preds_l = []\n",
    "    \n",
    "    # Put model in eval mode\n",
    "    model.eval()\n",
    "    \n",
    "    # Testing loop\n",
    "    with torch.no_grad():\n",
    "        \n",
    "        for i, batch in enumerate(test_dataloader):\n",
    "            \n",
    "            data, labels = reshape_batch(batch)\n",
    "            \n",
    "            labels_l.extend(labels.tolist())\n",
    "            \n",
    "            preds = model(data)\n",
    "            preds = torch.argmax(preds, dim=1)\n",
    "            preds_l.extend(preds.tolist())\n",
    "    \n",
    "    return labels_l, preds_l"
   ]
  },
  {
   "cell_type": "code",
   "execution_count": 28,
   "id": "bc07d04b",
   "metadata": {},
   "outputs": [],
   "source": [
    "train_labels, train_preds = predict(network, train_dataloader)\n",
    "test_labels, test_preds = predict(network, test_dataloader)"
   ]
  },
  {
   "cell_type": "code",
   "execution_count": 29,
   "id": "93a064a3",
   "metadata": {},
   "outputs": [
    {
     "name": "stdout",
     "output_type": "stream",
     "text": [
      "              precision    recall  f1-score   support\n",
      "\n",
      "           0     0.7907    0.8189    0.8045      4963\n",
      "           1     0.9793    0.9533    0.9661      5007\n",
      "           2     0.7514    0.7445    0.7479      5014\n",
      "           3     0.8212    0.8752    0.8473      4942\n",
      "           4     0.7874    0.6723    0.7253      4959\n",
      "           5     0.9425    0.9330    0.9377      5044\n",
      "           6     0.5808    0.6308    0.6048      4989\n",
      "           7     0.9067    0.9434    0.9247      5015\n",
      "           8     0.9514    0.9399    0.9456      5021\n",
      "           9     0.9529    0.9306    0.9416      5046\n",
      "\n",
      "    accuracy                         0.8446     50000\n",
      "   macro avg     0.8464    0.8442    0.8446     50000\n",
      "weighted avg     0.8468    0.8446    0.8450     50000\n",
      "\n"
     ]
    }
   ],
   "source": [
    "print(classification_report(train_labels, train_preds, digits=4))"
   ]
  },
  {
   "cell_type": "code",
   "execution_count": 30,
   "id": "f46828e3",
   "metadata": {},
   "outputs": [
    {
     "name": "stdout",
     "output_type": "stream",
     "text": [
      "              precision    recall  f1-score   support\n",
      "\n",
      "           0     0.7912    0.7880    0.7896      1000\n",
      "           1     0.9864    0.9440    0.9647      1000\n",
      "           2     0.7244    0.7230    0.7237      1000\n",
      "           3     0.7979    0.8530    0.8246      1000\n",
      "           4     0.7601    0.6370    0.6931      1000\n",
      "           5     0.9339    0.9190    0.9264      1000\n",
      "           6     0.5362    0.6070    0.5694      1000\n",
      "           7     0.8958    0.9460    0.9202      1000\n",
      "           8     0.9347    0.9300    0.9323      1000\n",
      "           9     0.9467    0.9230    0.9347      1000\n",
      "\n",
      "    accuracy                         0.8270     10000\n",
      "   macro avg     0.8307    0.8270    0.8279     10000\n",
      "weighted avg     0.8307    0.8270    0.8279     10000\n",
      "\n"
     ]
    }
   ],
   "source": [
    "print(classification_report(test_labels, test_preds, digits=4))"
   ]
  },
  {
   "cell_type": "markdown",
   "id": "202236fb",
   "metadata": {},
   "source": [
    "## 7. Save"
   ]
  },
  {
   "cell_type": "markdown",
   "id": "3dc640fe",
   "metadata": {},
   "source": [
    "- Save your trained model.\n",
    "- Try to reload it and see if it works.\n",
    "- Use the following instructions\n",
    "```\n",
    "torch.save(model.state_dict(), <path>)\n",
    "...\n",
    "network_2.load_state_dict(torch.load(<path>))\n",
    "network_2.eval()\n",
    "```"
   ]
  },
  {
   "cell_type": "code",
   "execution_count": 31,
   "id": "7ecea0ac",
   "metadata": {},
   "outputs": [],
   "source": [
    "cwd = os.getcwd()\n",
    "path = os.path.join(cwd, \"model.pt\")\n",
    "path_2 = os.path.join(cwd, \"best_model.pt\")"
   ]
  },
  {
   "cell_type": "code",
   "execution_count": 32,
   "id": "383a6608",
   "metadata": {},
   "outputs": [],
   "source": [
    "# Save last model\n",
    "torch.save(network.state_dict(), path) "
   ]
  },
  {
   "cell_type": "code",
   "execution_count": 33,
   "id": "925c04a4",
   "metadata": {},
   "outputs": [
    {
     "data": {
      "text/plain": [
       "Network(\n",
       "  (fc1): Linear(in_features=784, out_features=512, bias=True)\n",
       "  (fc2): Linear(in_features=512, out_features=512, bias=True)\n",
       "  (fc3): Linear(in_features=512, out_features=256, bias=True)\n",
       "  (fc4): Linear(in_features=256, out_features=128, bias=True)\n",
       "  (fc5): Linear(in_features=128, out_features=10, bias=True)\n",
       ")"
      ]
     },
     "execution_count": 33,
     "metadata": {},
     "output_type": "execute_result"
    }
   ],
   "source": [
    "# Load best model\n",
    "network_2 = Network()\n",
    "\n",
    "network_2.load_state_dict(torch.load(path))\n",
    "network_2.eval()"
   ]
  },
  {
   "cell_type": "code",
   "execution_count": 34,
   "id": "670784fa",
   "metadata": {},
   "outputs": [],
   "source": [
    "test_labels, test_preds = predict(network_2, test_dataloader)"
   ]
  },
  {
   "cell_type": "code",
   "execution_count": 35,
   "id": "13b84834",
   "metadata": {
    "scrolled": true
   },
   "outputs": [
    {
     "name": "stdout",
     "output_type": "stream",
     "text": [
      "              precision    recall  f1-score   support\n",
      "\n",
      "           0       0.79      0.79      0.79      1000\n",
      "           1       0.99      0.94      0.96      1000\n",
      "           2       0.72      0.72      0.72      1000\n",
      "           3       0.80      0.85      0.82      1000\n",
      "           4       0.76      0.64      0.69      1000\n",
      "           5       0.93      0.92      0.93      1000\n",
      "           6       0.54      0.61      0.57      1000\n",
      "           7       0.90      0.95      0.92      1000\n",
      "           8       0.93      0.93      0.93      1000\n",
      "           9       0.95      0.92      0.93      1000\n",
      "\n",
      "    accuracy                           0.83     10000\n",
      "   macro avg       0.83      0.83      0.83     10000\n",
      "weighted avg       0.83      0.83      0.83     10000\n",
      "\n"
     ]
    }
   ],
   "source": [
    "print(classification_report(test_labels, test_preds))"
   ]
  },
  {
   "cell_type": "code",
   "execution_count": null,
   "id": "ad6291d8",
   "metadata": {},
   "outputs": [],
   "source": []
  }
 ],
 "metadata": {
  "kernelspec": {
   "display_name": "Python 3 (ipykernel)",
   "language": "python",
   "name": "python3"
  },
  "language_info": {
   "codemirror_mode": {
    "name": "ipython",
    "version": 3
   },
   "file_extension": ".py",
   "mimetype": "text/x-python",
   "name": "python",
   "nbconvert_exporter": "python",
   "pygments_lexer": "ipython3",
   "version": "3.9.5"
  }
 },
 "nbformat": 4,
 "nbformat_minor": 5
}
