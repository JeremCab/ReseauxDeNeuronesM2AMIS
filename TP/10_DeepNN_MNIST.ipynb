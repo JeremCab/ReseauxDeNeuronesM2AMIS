{
 "cells": [
  {
   "cell_type": "markdown",
   "id": "ac35021e",
   "metadata": {},
   "source": [
    "# Neural Networks in ``PyTorch``"
   ]
  },
  {
   "cell_type": "markdown",
   "id": "bcbe3b65",
   "metadata": {},
   "source": [
    "The **MNIST dataset** consists of 60,000 images of hand written digit, where each image has size 28X28.\n",
    "\n",
    "<img src=\"files/figures/mnist.png\" width=\"600px\"/>\n",
    "\n",
    "We will define and train a deep neural network on the MNIST dataset. This is a **classification problem**.<br>\n",
    "\n",
    "The definition and training of a neural network invoves the following steps:\n",
    "\n",
    "0. Import **librairies**;\n",
    "1. Get the **datasets** (train, validation and test);\n",
    "2. Define the **dataloaders** from the datasets (train and test);\n",
    "3. Define the **model**;\n",
    "4. Define the **loss function**;\n",
    "5. Define the **optimizer**;\n",
    "7. **Train** the model (training loop);\n",
    "8. Get the **results** (predict)."
   ]
  },
  {
   "cell_type": "markdown",
   "id": "933ac146",
   "metadata": {},
   "source": [
    "## 0. Librairies"
   ]
  },
  {
   "cell_type": "code",
   "execution_count": 2,
   "id": "6235ff87",
   "metadata": {
    "scrolled": true
   },
   "outputs": [],
   "source": [
    "import os\n",
    "\n",
    "import torch\n",
    "import torch.nn as nn\n",
    "import torch.nn.functional as F\n",
    "\n",
    "from torch.utils.data import DataLoader, random_split\n",
    "import torchvision.datasets as datasets\n",
    "from torchvision.transforms import ToTensor\n",
    "\n",
    "from sklearn.metrics import classification_report\n",
    "\n",
    "import matplotlib.pyplot as plt\n",
    "\n",
    "from tqdm.notebook import tqdm"
   ]
  },
  {
   "cell_type": "markdown",
   "id": "56800aaa",
   "metadata": {},
   "source": [
    "## 1. Datasets"
   ]
  },
  {
   "cell_type": "markdown",
   "id": "39072afb",
   "metadata": {},
   "source": [
    "- Load the train and test MNIST datasets using the following commands:<br>\n",
    "```\n",
    "train_dataset = datasets.MNIST(root='./data', train=True, download=True, transform=ToTensor())\n",
    "test_dataset = datasets.MNIST(root='./data', train=False, download=True, transform=ToTensor())\n",
    "```\n",
    "Each sample consists of a tensor (the image encoded in black and white), and a label (the digit that it represents).\n",
    "\n",
    "- Examine the data (structure, dimension, etc).\n",
    "- Create a function to visualize some data as an image."
   ]
  },
  {
   "cell_type": "code",
   "execution_count": null,
   "id": "f7731d64",
   "metadata": {},
   "outputs": [],
   "source": []
  },
  {
   "cell_type": "code",
   "execution_count": null,
   "id": "d7be7255",
   "metadata": {},
   "outputs": [],
   "source": []
  },
  {
   "cell_type": "code",
   "execution_count": null,
   "id": "63bffaff",
   "metadata": {},
   "outputs": [],
   "source": []
  },
  {
   "cell_type": "markdown",
   "id": "0983f97c",
   "metadata": {},
   "source": [
    "## 2. Dataloaders"
   ]
  },
  {
   "cell_type": "markdown",
   "id": "29e59ed3",
   "metadata": {},
   "source": [
    "A **dataloader** creates batches of samples from a dataset so that they can be passed into a model.\n",
    "- Create a train and test dataloaders using the following commands:\n",
    "```\n",
    "train_dataloader = DataLoader(train_dataset, batch_size=64, shuffle=True)\n",
    "val_dataloader = DataLoader(val_dataset, batch_size=64, shuffle=True)\n",
    "test_dataloader = DataLoader(test_dataset, batch_size=64, shuffle=True)\n",
    "```\n",
    "- Note that dataloaders are not subscriptable.\n",
    "- Try to catch one batch of the dataloader and examine it.\n",
    "- Write a function that reshapes a batch of size $64 \\times 1 \\times 28 \\times 28$ into a tensor of size $64 \\times 784$.<br>\n",
    "(use `torch.squeeze()`, `torch.reshape()`, `torch.flatten()`, `torch.transpose()`, etc.)"
   ]
  },
  {
   "cell_type": "code",
   "execution_count": null,
   "id": "fd41e6e8",
   "metadata": {},
   "outputs": [],
   "source": []
  },
  {
   "cell_type": "code",
   "execution_count": null,
   "id": "990a0342",
   "metadata": {},
   "outputs": [],
   "source": []
  },
  {
   "cell_type": "code",
   "execution_count": null,
   "id": "aefe9d65",
   "metadata": {},
   "outputs": [],
   "source": []
  },
  {
   "cell_type": "markdown",
   "id": "f076ba79",
   "metadata": {},
   "source": [
    "## 3. Model"
   ]
  },
  {
   "cell_type": "markdown",
   "id": "daf3ae96",
   "metadata": {},
   "source": [
    "- Define and instanciate a **neural network** with the following feaures:\n",
    "    - hidden layer 1: 256 neurons, relu activation function\n",
    "    - hidden layer 2: 256 neurons, relu activation function\n",
    "    - hidden layer 3: 128 neurons, relu activation function\n",
    "    - hidden layer 4: 64 neurons, relu activation function\n",
    "    - output layer: 10 neurons"
   ]
  },
  {
   "cell_type": "code",
   "execution_count": null,
   "id": "67ddb39f",
   "metadata": {},
   "outputs": [],
   "source": []
  },
  {
   "cell_type": "code",
   "execution_count": null,
   "id": "9f31bddc",
   "metadata": {},
   "outputs": [],
   "source": []
  },
  {
   "cell_type": "code",
   "execution_count": null,
   "id": "cca0f5f0",
   "metadata": {},
   "outputs": [],
   "source": []
  },
  {
   "cell_type": "markdown",
   "id": "c96d0079",
   "metadata": {},
   "source": [
    "## 4. Loss"
   ]
  },
  {
   "cell_type": "markdown",
   "id": "adca7d03",
   "metadata": {},
   "source": [
    "- Define a **cross entropy loss** with the following command:<br>\n",
    "```\n",
    "loss = nn.CrossEntropyLoss()\n",
    "```\n",
    "- Try to understand this loss object:<br>\n",
    "https://pytorch.org/docs/stable/generated/torch.nn.CrossEntropyLoss.html"
   ]
  },
  {
   "cell_type": "code",
   "execution_count": null,
   "id": "ac91b74d",
   "metadata": {},
   "outputs": [],
   "source": []
  },
  {
   "cell_type": "markdown",
   "id": "f2e74bf7",
   "metadata": {},
   "source": [
    "## 5. Optimizer"
   ]
  },
  {
   "cell_type": "markdown",
   "id": "f8e9349d",
   "metadata": {},
   "source": [
    "- Define an **SGD optimizer** with the following command:<br>\n",
    "```\n",
    "optimizer = torch.optim.SGD(network.parameters(), lr=0.005)\n",
    "```\n",
    "- Try to understand this object:<br>\n",
    "https://pytorch.org/docs/stable/generated/torch.optim.SGD.html#torch.optim.SGD"
   ]
  },
  {
   "cell_type": "code",
   "execution_count": null,
   "id": "63a180e9",
   "metadata": {},
   "outputs": [],
   "source": []
  },
  {
   "cell_type": "markdown",
   "id": "601241b2",
   "metadata": {},
   "source": [
    "## 6. Training"
   ]
  },
  {
   "cell_type": "markdown",
   "id": "81e0534e",
   "metadata": {},
   "source": [
    "- Define a **training loop** for you model.\n",
    "- The key instructions are:\n",
    "    - ``optimizer.zero_grad()``: reset gradients to 0\n",
    "    - ``loss.backward()``      : compute new gradients\n",
    "    - ``optimizer.step()``     : uptdate weights\n",
    "- Train the model for 20 epochs.\n",
    "- Plot the training loss."
   ]
  },
  {
   "cell_type": "code",
   "execution_count": null,
   "id": "b4e7d0d8",
   "metadata": {},
   "outputs": [],
   "source": []
  },
  {
   "cell_type": "code",
   "execution_count": null,
   "id": "b21da1d9",
   "metadata": {},
   "outputs": [],
   "source": []
  },
  {
   "cell_type": "code",
   "execution_count": null,
   "id": "143ceb20",
   "metadata": {},
   "outputs": [],
   "source": []
  },
  {
   "cell_type": "markdown",
   "id": "21c25e52",
   "metadata": {},
   "source": [
    "## 6. Testing"
   ]
  },
  {
   "cell_type": "markdown",
   "id": "27d6f3af",
   "metadata": {},
   "source": [
    "- Write a ``predict`` function\n",
    "    - use ``with torch.no_grad():``\n",
    "- Compute the accuracy and classification report of the train and test sets."
   ]
  },
  {
   "cell_type": "code",
   "execution_count": null,
   "id": "d7375cba",
   "metadata": {},
   "outputs": [],
   "source": []
  },
  {
   "cell_type": "code",
   "execution_count": null,
   "id": "1384ed7f",
   "metadata": {},
   "outputs": [],
   "source": []
  },
  {
   "cell_type": "code",
   "execution_count": null,
   "id": "c17c4c26",
   "metadata": {},
   "outputs": [],
   "source": []
  },
  {
   "cell_type": "markdown",
   "id": "202236fb",
   "metadata": {},
   "source": [
    "## 7. Save"
   ]
  },
  {
   "cell_type": "markdown",
   "id": "3dc640fe",
   "metadata": {},
   "source": [
    "- Save your trained model.\n",
    "- Try to reload it and see if it works.\n",
    "- Use the following instructions\n",
    "```\n",
    "torch.save(model.state_dict(), <path>)\n",
    "...\n",
    "network_2.load_state_dict(torch.load(<path>))\n",
    "network_2.eval()\n",
    "```"
   ]
  },
  {
   "cell_type": "code",
   "execution_count": null,
   "id": "eb068337",
   "metadata": {},
   "outputs": [],
   "source": []
  },
  {
   "cell_type": "code",
   "execution_count": null,
   "id": "8dcf1f5d",
   "metadata": {},
   "outputs": [],
   "source": []
  },
  {
   "cell_type": "code",
   "execution_count": null,
   "id": "8110df87",
   "metadata": {},
   "outputs": [],
   "source": []
  }
 ],
 "metadata": {
  "kernelspec": {
   "display_name": "Python 3 (ipykernel)",
   "language": "python",
   "name": "python3"
  },
  "language_info": {
   "codemirror_mode": {
    "name": "ipython",
    "version": 3
   },
   "file_extension": ".py",
   "mimetype": "text/x-python",
   "name": "python",
   "nbconvert_exporter": "python",
   "pygments_lexer": "ipython3",
   "version": "3.9.5"
  }
 },
 "nbformat": 4,
 "nbformat_minor": 5
}
