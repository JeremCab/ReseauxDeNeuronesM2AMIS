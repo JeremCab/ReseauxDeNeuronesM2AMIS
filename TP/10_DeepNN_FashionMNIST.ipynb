{
 "cells": [
  {
   "cell_type": "markdown",
   "id": "ac35021e",
   "metadata": {},
   "source": [
    "# Neural Networks in ``PyTorch``"
   ]
  },
  {
   "cell_type": "markdown",
   "id": "bcbe3b65",
   "metadata": {},
   "source": [
    "The **Fsshion MNIST dataset** consists of 60,000 images of clothes, where each image has size 28X28. There are 10 different classes of clothes:<br>\n",
    "0: T-shirt/top<br>\n",
    "1: Trouser<br>\n",
    "2: Pullover<br>\n",
    "3: Dress<br>\n",
    "4: Coat<br>\n",
    "5: Sandal<br>\n",
    "6: Shirt<br>\n",
    "7: Sneaker<br>\n",
    "8: Bag<br>\n",
    "9: Ankle boot\n",
    "\n",
    "<img src=\"files/figures/fashion_mnist.png\" width=\"500px\"/>\n",
    "\n",
    "We will define and train a deep neural network on the MNIST dataset. This is a **classification problem**.<br>\n",
    "\n",
    "The definition and training of a neural network invoves the following steps:\n",
    "\n",
    "0. Import **librairies**;\n",
    "1. Get the **datasets** (train, validation and test);\n",
    "2. Define the **dataloaders** from the datasets (train and test);\n",
    "3. Define the **model**;\n",
    "4. Define the **loss function**;\n",
    "5. Define the **optimizer**;\n",
    "7. **Train** the model (training loop);\n",
    "8. Get the **results** (predict)."
   ]
  },
  {
   "cell_type": "markdown",
   "id": "933ac146",
   "metadata": {},
   "source": [
    "## 0. Librairies"
   ]
  },
  {
   "cell_type": "code",
   "execution_count": 1,
   "id": "6235ff87",
   "metadata": {
    "scrolled": true
   },
   "outputs": [],
   "source": [
    "import os\n",
    "\n",
    "import torch\n",
    "import torch.nn as nn\n",
    "import torch.nn.functional as F\n",
    "\n",
    "from torch.utils.data import DataLoader, random_split\n",
    "import torchvision.datasets as datasets\n",
    "from torchvision.transforms import ToTensor\n",
    "\n",
    "from sklearn.metrics import classification_report\n",
    "\n",
    "import matplotlib.pyplot as plt\n",
    "\n",
    "from tqdm.notebook import tqdm"
   ]
  },
  {
   "cell_type": "markdown",
   "id": "56800aaa",
   "metadata": {},
   "source": [
    "## 1. Datasets"
   ]
  },
  {
   "cell_type": "markdown",
   "id": "39072afb",
   "metadata": {},
   "source": [
    "- Load the train and test Fashion MNIST datasets using the following commands:<br>\n",
    "```\n",
    "train_dataset = datasets.FashionMNIST(root='./data', train=True, download=True, transform=ToTensor())\n",
    "test_dataset = datasets.FashionMNIST(root='./data', train=False, download=True, transform=ToTensor())\n",
    "```\n",
    "Each sample consists of a tensor (the image encoded in black and white), and a label (the digit that it represents).\n",
    "\n",
    "- Examine the data (structure, dimension, etc).\n",
    "- Create a function to visualize some data as an image."
   ]
  },
  {
   "cell_type": "code",
   "execution_count": 2,
   "id": "cb80f954",
   "metadata": {},
   "outputs": [],
   "source": [
    "train_dataset = datasets.FashionMNIST(root='./data', train=True, download=True, transform=ToTensor())\n",
    "test_dataset = datasets.FashionMNIST(root='./data', train=False, download=True, transform=ToTensor())"
   ]
  },
  {
   "cell_type": "code",
   "execution_count": 3,
   "id": "3593598b",
   "metadata": {},
   "outputs": [],
   "source": [
    "train_dataset, val_dataset = random_split(train_dataset, [50000,10000])"
   ]
  },
  {
   "cell_type": "code",
   "execution_count": null,
   "id": "7e374121",
   "metadata": {},
   "outputs": [],
   "source": []
  },
  {
   "cell_type": "code",
   "execution_count": null,
   "id": "035f80ae",
   "metadata": {},
   "outputs": [],
   "source": []
  },
  {
   "cell_type": "code",
   "execution_count": null,
   "id": "523a41b0",
   "metadata": {},
   "outputs": [],
   "source": []
  },
  {
   "cell_type": "markdown",
   "id": "0983f97c",
   "metadata": {},
   "source": [
    "## 2. Dataloaders"
   ]
  },
  {
   "cell_type": "markdown",
   "id": "29e59ed3",
   "metadata": {},
   "source": [
    "A **dataloader** creates batches of samples from a dataset so that they can be passed into a model.\n",
    "- Create a train and test dataloaders using the following commands:\n",
    "```\n",
    "train_dataloader = DataLoader(train_dataset, batch_size=64, shuffle=True)\n",
    "val_dataloader = DataLoader(val_dataset, batch_size=64, shuffle=True)\n",
    "test_dataloader = DataLoader(test_dataset, batch_size=64, shuffle=True)\n",
    "```\n",
    "- Note that dataloaders are not subscriptable.\n",
    "- Try to catch one batch of the dataloader and examine it.\n",
    "- Write a function that reshapes a batch of size $64 \\times 1 \\times 28 \\times 28$ into a tensor of size $64 \\times 784$.<br>\n",
    "(use `torch.squeeze()`, `torch.reshape()`, `torch.flatten()`, `torch.transpose()`, etc.)"
   ]
  },
  {
   "cell_type": "code",
   "execution_count": null,
   "id": "8d1ccdfc",
   "metadata": {},
   "outputs": [],
   "source": []
  },
  {
   "cell_type": "code",
   "execution_count": null,
   "id": "3c19e9db",
   "metadata": {},
   "outputs": [],
   "source": []
  },
  {
   "cell_type": "code",
   "execution_count": null,
   "id": "d1a45491",
   "metadata": {},
   "outputs": [],
   "source": []
  },
  {
   "cell_type": "markdown",
   "id": "f076ba79",
   "metadata": {},
   "source": [
    "## 3. Model"
   ]
  },
  {
   "cell_type": "markdown",
   "id": "daf3ae96",
   "metadata": {},
   "source": [
    "- Define and instanciate a **neural network** with the following feaures:\n",
    "    - hidden layer 1: 512 neurons, relu activation function\n",
    "    - hidden layer 2: 512 neurons, relu activation function\n",
    "    - hidden layer 3: 256 neurons, relu activation function\n",
    "    - hidden layer 4: 128 neurons, relu activation function\n",
    "    - output layer: 10 neurons"
   ]
  },
  {
   "cell_type": "code",
   "execution_count": null,
   "id": "bc8dc51c",
   "metadata": {},
   "outputs": [],
   "source": []
  },
  {
   "cell_type": "code",
   "execution_count": null,
   "id": "0f32b31d",
   "metadata": {},
   "outputs": [],
   "source": []
  },
  {
   "cell_type": "code",
   "execution_count": null,
   "id": "3c599161",
   "metadata": {},
   "outputs": [],
   "source": []
  },
  {
   "cell_type": "markdown",
   "id": "c96d0079",
   "metadata": {},
   "source": [
    "## 4. Loss"
   ]
  },
  {
   "cell_type": "markdown",
   "id": "adca7d03",
   "metadata": {},
   "source": [
    "- Define a **cross entropy loss** with the following command:<br>\n",
    "```\n",
    "loss = nn.CrossEntropyLoss()\n",
    "```\n",
    "- Try to understand this loss object:<br>\n",
    "https://pytorch.org/docs/stable/generated/torch.nn.CrossEntropyLoss.html"
   ]
  },
  {
   "cell_type": "code",
   "execution_count": null,
   "id": "0f617e9c",
   "metadata": {},
   "outputs": [],
   "source": []
  },
  {
   "cell_type": "markdown",
   "id": "f2e74bf7",
   "metadata": {},
   "source": [
    "## 5. Optimizer"
   ]
  },
  {
   "cell_type": "markdown",
   "id": "f8e9349d",
   "metadata": {},
   "source": [
    "- Define an **SGD optimizer** with the following command:<br>\n",
    "```\n",
    "optimizer = torch.optim.SGD(network.parameters(), lr=0.005)\n",
    "```\n",
    "- Try to understand this object:<br>\n",
    "https://pytorch.org/docs/stable/generated/torch.optim.SGD.html#torch.optim.SGD"
   ]
  },
  {
   "cell_type": "code",
   "execution_count": null,
   "id": "39045af1",
   "metadata": {},
   "outputs": [],
   "source": []
  },
  {
   "cell_type": "markdown",
   "id": "601241b2",
   "metadata": {},
   "source": [
    "## 6. Training"
   ]
  },
  {
   "cell_type": "markdown",
   "id": "81e0534e",
   "metadata": {},
   "source": [
    "- Define a **training loop** for you model.\n",
    "- The key instructions are:\n",
    "    - ``optimizer.zero_grad()``: reset gradients to 0\n",
    "    - ``loss.backward()``      : compute new gradients\n",
    "    - ``optimizer.step()``     : uptdate weights\n",
    "- Train the model for 20 epochs.\n",
    "- Plot the training loss."
   ]
  },
  {
   "cell_type": "code",
   "execution_count": null,
   "id": "76578535",
   "metadata": {},
   "outputs": [],
   "source": []
  },
  {
   "cell_type": "code",
   "execution_count": null,
   "id": "19d0dd43",
   "metadata": {},
   "outputs": [],
   "source": []
  },
  {
   "cell_type": "code",
   "execution_count": null,
   "id": "9deb12b4",
   "metadata": {},
   "outputs": [],
   "source": []
  },
  {
   "cell_type": "markdown",
   "id": "21c25e52",
   "metadata": {},
   "source": [
    "## 6. Testing"
   ]
  },
  {
   "cell_type": "markdown",
   "id": "27d6f3af",
   "metadata": {},
   "source": [
    "- Write a ``predict`` function\n",
    "    - use ``with torch.no_grad():``\n",
    "- Compute the accuracy and classification report of the train and test sets."
   ]
  },
  {
   "cell_type": "code",
   "execution_count": null,
   "id": "40bcb993",
   "metadata": {},
   "outputs": [],
   "source": []
  },
  {
   "cell_type": "code",
   "execution_count": null,
   "id": "27c31896",
   "metadata": {},
   "outputs": [],
   "source": []
  },
  {
   "cell_type": "code",
   "execution_count": null,
   "id": "8a6a59d0",
   "metadata": {},
   "outputs": [],
   "source": []
  },
  {
   "cell_type": "markdown",
   "id": "202236fb",
   "metadata": {},
   "source": [
    "## 7. Save"
   ]
  },
  {
   "cell_type": "markdown",
   "id": "3dc640fe",
   "metadata": {},
   "source": [
    "- Save your trained model.\n",
    "- Try to reload it and see if it works.\n",
    "- Use the following instructions\n",
    "```\n",
    "torch.save(model.state_dict(), <path>)\n",
    "...\n",
    "network_2.load_state_dict(torch.load(<path>))\n",
    "network_2.eval()\n",
    "```"
   ]
  },
  {
   "cell_type": "code",
   "execution_count": null,
   "id": "e5bc5a23",
   "metadata": {},
   "outputs": [],
   "source": []
  },
  {
   "cell_type": "code",
   "execution_count": null,
   "id": "baf8c875",
   "metadata": {},
   "outputs": [],
   "source": []
  },
  {
   "cell_type": "code",
   "execution_count": null,
   "id": "cd92f78c",
   "metadata": {},
   "outputs": [],
   "source": []
  }
 ],
 "metadata": {
  "kernelspec": {
   "display_name": "Python 3 (ipykernel)",
   "language": "python",
   "name": "python3"
  },
  "language_info": {
   "codemirror_mode": {
    "name": "ipython",
    "version": 3
   },
   "file_extension": ".py",
   "mimetype": "text/x-python",
   "name": "python",
   "nbconvert_exporter": "python",
   "pygments_lexer": "ipython3",
   "version": "3.9.5"
  }
 },
 "nbformat": 4,
 "nbformat_minor": 5
}
