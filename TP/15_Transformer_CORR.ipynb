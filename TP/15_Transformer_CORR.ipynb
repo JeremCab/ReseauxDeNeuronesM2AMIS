{
 "cells": [
  {
   "cell_type": "markdown",
   "id": "15f75e9c",
   "metadata": {},
   "source": [
    "# Transformer"
   ]
  },
  {
   "cell_type": "markdown",
   "id": "928bcd94",
   "metadata": {},
   "source": [
    "Dans ce TP, nous allons implémenter un **transformer** en PyThorch \"from scratch\". Ce TP est basé sur la vidéo suivante:<br>\n",
    "https://www.youtube.com/watch?v=U0s0f995w14\n",
    "\n",
    "<img src=\"files/figures/transformer.jpg\" width=\"350px\" class=\"center\"/>"
   ]
  },
  {
   "cell_type": "markdown",
   "id": "70294410",
   "metadata": {},
   "source": [
    "## Librairies"
   ]
  },
  {
   "cell_type": "code",
   "execution_count": 11,
   "id": "3cce0710",
   "metadata": {},
   "outputs": [],
   "source": [
    "import torch\n",
    "import torch.nn as nn"
   ]
  },
  {
   "cell_type": "markdown",
   "id": "21d254bf",
   "metadata": {},
   "source": [
    "## Model"
   ]
  },
  {
   "cell_type": "code",
   "execution_count": 12,
   "id": "42b00aa6",
   "metadata": {},
   "outputs": [],
   "source": [
    "class SelfAttention(nn.Module):\n",
    "    \n",
    "    def __init__(self, embed_dim, nb_heads):\n",
    "        \n",
    "        super(SelfAttention, self).__init__()\n",
    "        \n",
    "        self.embed_dim = embed_dim # 512 or 768\n",
    "        self.nb_heads = nb_heads   # 8 attention heads\n",
    "        self.head_dim = embed_dim // nb_heads\n",
    "        \n",
    "        try:\n",
    "            self.head_dim * nb_heads == embed_dim\n",
    "        except:\n",
    "            print(\"Embed_dim needs to be divisible by nb_heads\")\n",
    "        \n",
    "        self.fc_queries = nn.Linear(self.head_dim, self.head_dim, bias=False)\n",
    "        self.fc_keys = nn.Linear(self.head_dim, self.head_dim, bias=False)\n",
    "        self.fc_values = nn.Linear(self.head_dim, self.head_dim, bias=False)\n",
    "        self.fc_out = nn.Linear(self.nb_heads*self.head_dim, self.embed_dim)\n",
    "        \n",
    "        \n",
    "        def forward(self, queries, keys, values, mask):\n",
    "            \n",
    "            # For one input sequence:\n",
    "            # queries (Q), keys (K) and values (V) are 2D matrices\n",
    "            # Q : [nb_queries x embed_dim]\n",
    "            # K : [nb_keys x embed_dim]\n",
    "            # V : [nb_values x embed_dim]\n",
    "            # For a batch of N input sequences:\n",
    "            # queries (Q), keys (K) and values (V) are then 3D matrices\n",
    "            # Q : [N, nb_queries x embed_dim]\n",
    "            # K : [N, nb_keys x embed_dim]\n",
    "            # V : [N, nb_values x embed_dim]\n",
    "            \n",
    "            batch_size = queries.shape[0]\n",
    "            nb_queries = queries.shape[1]\n",
    "            nb_keys = keys.shape[1]\n",
    "            nb_values = values.shape[1]\n",
    "            \n",
    "            # split keys, queries and values into nb_heads pieces\n",
    "            # the 3rd dim embed_dim split into nb_heads x head_dim = embed_dim\n",
    "            # queries (Q), keys (K) and values (V) are then 4D matrices\n",
    "            # Q : [N, nb_queries x nb_heads x head_dim]\n",
    "            # K : [N, nb_keys x nb_heads x head_dim]\n",
    "            # V : [N, nb_values x nb_heads x head_dim]\n",
    "            queries = queries.reshape(batch_size, nb_queries, self.nb_heads, self.head_dim)\n",
    "            keys = keys.reshape(batch_size, nb_keys, self.nb_heads, self.head_dim)\n",
    "            values = values.reshape(batch_size, nb_values, self.nb_heads, self.head_dim)\n",
    "            \n",
    "            # Attention scores are given by QK^T\n",
    "            # we accomodate the product according to the batch size\n",
    "            # n = batch_size\n",
    "            # q = nb_queries, k = nb_keys, v = nb_values\n",
    "            # h = nb_heads\n",
    "            # d = head_dim\n",
    "            attn_scores = torch.einsum(\"nqhd,nkhd->nhqk\", [queries, keys])\n",
    "            # attn_scores : [N, nb_heads, nb_queries, nb_keys]\n",
    "            \n",
    "            if mask is not None:\n",
    "                attn_scores = attn_scores.maked_fill(mask==0, float(\"-1e20\"))\n",
    "            \n",
    "            # Attention weights are given by softmax(QK^T / sqrt(d_k))\n",
    "            attn_weights = torch.softmax(attn_scores / (self.embed_dim)**0.5, dim=3)\n",
    "            # attn_weights : [N, nb_heads, nb_queries, nb_keys]\n",
    "            \n",
    "            # Outputs are given by softmax(QK^T / sqrt(d_k))V\n",
    "            # l = k = v = nb_keys = nb_values\n",
    "            outputs = torch.einsum(\"nhql,nlhd->nqhd\", [attn_weights, values])\n",
    "            \n",
    "            # concatenation of the heads\n",
    "            outputs = outputs.reshape(batch_size, nb_queries, self.nb_heads * self.head_dim)\n",
    "            \n",
    "            # last fc ålayer\n",
    "            outputs = self.fc_out(outputs)\n",
    "            \n",
    "            return outputs"
   ]
  },
  {
   "cell_type": "code",
   "execution_count": null,
   "id": "165c1b4c",
   "metadata": {},
   "outputs": [],
   "source": []
  },
  {
   "cell_type": "code",
   "execution_count": null,
   "id": "d152ad54",
   "metadata": {},
   "outputs": [],
   "source": []
  }
 ],
 "metadata": {
  "kernelspec": {
   "display_name": "Python 3 (ipykernel)",
   "language": "python",
   "name": "python3"
  },
  "language_info": {
   "codemirror_mode": {
    "name": "ipython",
    "version": 3
   },
   "file_extension": ".py",
   "mimetype": "text/x-python",
   "name": "python",
   "nbconvert_exporter": "python",
   "pygments_lexer": "ipython3",
   "version": "3.9.5"
  }
 },
 "nbformat": 4,
 "nbformat_minor": 5
}
