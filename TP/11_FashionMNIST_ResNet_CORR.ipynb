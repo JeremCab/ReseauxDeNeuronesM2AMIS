{
  "cells": [
    {
      "cell_type": "markdown",
      "id": "ac35021e",
      "metadata": {
        "id": "ac35021e"
      },
      "source": [
        "# Neural Networks in ``PyTorch``: transfer learning"
      ]
    },
    {
      "cell_type": "markdown",
      "id": "bcbe3b65",
      "metadata": {
        "id": "bcbe3b65"
      },
      "source": [
        "The **Fsshion MNIST dataset** consists of 60,000 images of clothes, where each image has size 28X28. There are 10 different classes of clothes:<br>\n",
        "0: T-shirt/top<br>\n",
        "1: Trouser<br>\n",
        "2: Pullover<br>\n",
        "3: Dress<br>\n",
        "4: Coat<br>\n",
        "5: Sandal<br>\n",
        "6: Shirt<br>\n",
        "7: Sneaker<br>\n",
        "8: Bag<br>\n",
        "9: Ankle boot\n",
        "\n",
        "<img src=\"files/figures/fashion_mnist.png\" width=\"500px\"/>\n",
        "\n",
        "Now, we will download a **convoultional neural network** called **ResNet** that has already been **pre-trained** on a large dataset of images. Next, we will **fine-tune** (i.e. re-train) ResNet on the Fashion MNIST dataset.\n",
        "\n",
        "During pre-training, ResNet has acquired knowledge that can be applied to the learning of the downstream task. This process, very important in Machine Learning, is referred to as **transfer learning (TL)**.\n",
        "\n",
        "MNIST dataset. This is a **classification problem**.<br>\n",
        "\n",
        "The definition and training of a neural network invoves the following steps:\n",
        "\n",
        "0. Import **librairies**;\n",
        "1. Get the **datasets** (train, validation and test);\n",
        "2. Define the **dataloaders** from the datasets (train and test);\n",
        "3. Define the **model**;\n",
        "4. Define the **loss function**;\n",
        "5. Define the **optimizer**;\n",
        "7. **Train** the model (training loop);\n",
        "8. Get the **results** (predict)."
      ]
    },
    {
      "cell_type": "markdown",
      "id": "933ac146",
      "metadata": {
        "id": "933ac146"
      },
      "source": [
        "## 0. Librairies"
      ]
    },
    {
      "cell_type": "code",
      "execution_count": 2,
      "id": "6235ff87",
      "metadata": {
        "id": "6235ff87",
        "scrolled": true
      },
      "outputs": [],
      "source": [
        "import os\n",
        "\n",
        "import torch\n",
        "import torch.nn as nn\n",
        "import torch.nn.functional as F\n",
        "\n",
        "from torch.utils.data import DataLoader, random_split\n",
        "import torchvision.models as models\n",
        "import torchvision.datasets as datasets\n",
        "from torchvision.transforms import ToTensor\n",
        "\n",
        "from sklearn.metrics import classification_report\n",
        "\n",
        "import matplotlib.pyplot as plt\n",
        "\n",
        "from tqdm.notebook import tqdm"
      ]
    },
    {
      "cell_type": "markdown",
      "id": "56800aaa",
      "metadata": {
        "id": "56800aaa"
      },
      "source": [
        "## 1. Datasets"
      ]
    },
    {
      "cell_type": "markdown",
      "id": "39072afb",
      "metadata": {
        "id": "39072afb"
      },
      "source": [
        "- Load the train and test Fashion MNIST datasets using the following commands:<br>\n",
        "```\n",
        "train_dataset = datasets.FashionMNIST(root='./data', train=True, download=True, transform=ToTensor())\n",
        "test_dataset = datasets.FashionMNIST(root='./data', train=False, download=True, transform=ToTensor())\n",
        "```\n",
        "Each sample consists of a tensor (the image encoded in black and white), and a label (the digit that it represents).\n",
        "\n",
        "- Examine the data (structure, dimension, etc).\n",
        "- Create a function to visualize some data as an image."
      ]
    },
    {
      "cell_type": "code",
      "execution_count": 3,
      "id": "cb80f954",
      "metadata": {
        "id": "cb80f954",
        "colab": {
          "base_uri": "https://localhost:8080/"
        },
        "outputId": "68ec81e0-254c-4698-83e2-1ad2b0e15dac"
      },
      "outputs": [
        {
          "output_type": "stream",
          "name": "stdout",
          "text": [
            "Downloading http://fashion-mnist.s3-website.eu-central-1.amazonaws.com/train-images-idx3-ubyte.gz\n",
            "Downloading http://fashion-mnist.s3-website.eu-central-1.amazonaws.com/train-images-idx3-ubyte.gz to ./data/FashionMNIST/raw/train-images-idx3-ubyte.gz\n"
          ]
        },
        {
          "output_type": "stream",
          "name": "stderr",
          "text": [
            "100%|██████████| 26.4M/26.4M [00:02<00:00, 11.7MB/s]\n"
          ]
        },
        {
          "output_type": "stream",
          "name": "stdout",
          "text": [
            "Extracting ./data/FashionMNIST/raw/train-images-idx3-ubyte.gz to ./data/FashionMNIST/raw\n",
            "\n",
            "Downloading http://fashion-mnist.s3-website.eu-central-1.amazonaws.com/train-labels-idx1-ubyte.gz\n",
            "Downloading http://fashion-mnist.s3-website.eu-central-1.amazonaws.com/train-labels-idx1-ubyte.gz to ./data/FashionMNIST/raw/train-labels-idx1-ubyte.gz\n"
          ]
        },
        {
          "output_type": "stream",
          "name": "stderr",
          "text": [
            "100%|██████████| 29.5k/29.5k [00:00<00:00, 188kB/s]\n"
          ]
        },
        {
          "output_type": "stream",
          "name": "stdout",
          "text": [
            "Extracting ./data/FashionMNIST/raw/train-labels-idx1-ubyte.gz to ./data/FashionMNIST/raw\n",
            "\n",
            "Downloading http://fashion-mnist.s3-website.eu-central-1.amazonaws.com/t10k-images-idx3-ubyte.gz\n",
            "Downloading http://fashion-mnist.s3-website.eu-central-1.amazonaws.com/t10k-images-idx3-ubyte.gz to ./data/FashionMNIST/raw/t10k-images-idx3-ubyte.gz\n"
          ]
        },
        {
          "output_type": "stream",
          "name": "stderr",
          "text": [
            "100%|██████████| 4.42M/4.42M [00:01<00:00, 3.87MB/s]\n"
          ]
        },
        {
          "output_type": "stream",
          "name": "stdout",
          "text": [
            "Extracting ./data/FashionMNIST/raw/t10k-images-idx3-ubyte.gz to ./data/FashionMNIST/raw\n",
            "\n",
            "Downloading http://fashion-mnist.s3-website.eu-central-1.amazonaws.com/t10k-labels-idx1-ubyte.gz\n",
            "Downloading http://fashion-mnist.s3-website.eu-central-1.amazonaws.com/t10k-labels-idx1-ubyte.gz to ./data/FashionMNIST/raw/t10k-labels-idx1-ubyte.gz\n"
          ]
        },
        {
          "output_type": "stream",
          "name": "stderr",
          "text": [
            "100%|██████████| 5.15k/5.15k [00:00<00:00, 21.0MB/s]"
          ]
        },
        {
          "output_type": "stream",
          "name": "stdout",
          "text": [
            "Extracting ./data/FashionMNIST/raw/t10k-labels-idx1-ubyte.gz to ./data/FashionMNIST/raw\n",
            "\n"
          ]
        },
        {
          "output_type": "stream",
          "name": "stderr",
          "text": [
            "\n"
          ]
        }
      ],
      "source": [
        "train_dataset = datasets.FashionMNIST(root='./data', train=True, download=True, transform=ToTensor())\n",
        "test_dataset = datasets.FashionMNIST(root='./data', train=False, download=True, transform=ToTensor())"
      ]
    },
    {
      "cell_type": "code",
      "execution_count": 4,
      "id": "3593598b",
      "metadata": {
        "id": "3593598b"
      },
      "outputs": [],
      "source": [
        "train_dataset, val_dataset = random_split(train_dataset, [50000,10000])"
      ]
    },
    {
      "cell_type": "code",
      "execution_count": 5,
      "id": "a294ae94",
      "metadata": {
        "colab": {
          "base_uri": "https://localhost:8080/"
        },
        "id": "a294ae94",
        "outputId": "ec306161-efeb-411f-aea3-8a07726352b4"
      },
      "outputs": [
        {
          "output_type": "execute_result",
          "data": {
            "text/plain": [
              "(50000, 10000, 10000)"
            ]
          },
          "metadata": {},
          "execution_count": 5
        }
      ],
      "source": [
        "len(train_dataset), len(val_dataset), len(test_dataset)"
      ]
    },
    {
      "cell_type": "code",
      "execution_count": 6,
      "id": "4c8a5d41",
      "metadata": {
        "colab": {
          "base_uri": "https://localhost:8080/"
        },
        "id": "4c8a5d41",
        "outputId": "4c4ed0ef-8cbc-433a-81fc-277c43497f1a",
        "scrolled": true
      },
      "outputs": [
        {
          "output_type": "execute_result",
          "data": {
            "text/plain": [
              "(torch.Size([1, 28, 28]), 7)"
            ]
          },
          "metadata": {},
          "execution_count": 6
        }
      ],
      "source": [
        "# Each sample data is a tuple: tensor [1, 28, 28], label\n",
        "train_dataset[0][0].shape, train_dataset[0][1]"
      ]
    },
    {
      "cell_type": "code",
      "execution_count": 7,
      "id": "a54560de",
      "metadata": {
        "id": "a54560de",
        "scrolled": true
      },
      "outputs": [],
      "source": [
        "def display_data(sample):\n",
        "\n",
        "    # get tensor and label\n",
        "    tensor, label = sample[0], sample[1]\n",
        "    tensor = tensor.view(28, 28) # reshape into 28 x 28\n",
        "\n",
        "    # plot\n",
        "    plt.figure(figsize=(2, 2))\n",
        "    plt.title(f'label: {label}')\n",
        "    plt.imshow(tensor)\n",
        "    plt.show()"
      ]
    },
    {
      "cell_type": "code",
      "execution_count": 12,
      "id": "3b08d3df",
      "metadata": {
        "id": "3b08d3df",
        "scrolled": true
      },
      "outputs": [],
      "source": [
        "def display_some_data(dataset):\n",
        "\n",
        "    fig, axs = plt.subplots(5, 5, figsize=(11,11))\n",
        "\n",
        "    for i in range(25):\n",
        "\n",
        "        tensor, label = dataset[i][0], dataset[i][1]\n",
        "\n",
        "        axs[i//5, i%5].set_title(f\"Label: {label}\")\n",
        "        axs[i//5, i%5].imshow(tensor.view(28, 28))\n",
        "\n",
        "    plt.show()"
      ]
    },
    {
      "cell_type": "code",
      "execution_count": 13,
      "id": "c0ff4953",
      "metadata": {
        "colab": {
          "base_uri": "https://localhost:8080/",
          "height": 930
        },
        "id": "c0ff4953",
        "outputId": "639c9a00-dfad-4619-9aa0-4f733f71718f",
        "scrolled": false
      },
      "outputs": [
        {
          "output_type": "display_data",
          "data": {
            "text/plain": [
              "<Figure size 1100x1100 with 25 Axes>"
            ],
            "image/png": "[encoded data removed]"
          },
          "metadata": {}
        }
      ],
      "source": [
        "display_some_data(train_dataset)"
      ]
    },
    {
      "cell_type": "markdown",
      "id": "0983f97c",
      "metadata": {
        "id": "0983f97c"
      },
      "source": [
        "## 2. Dataloaders"
      ]
    },
    {
      "cell_type": "markdown",
      "id": "29e59ed3",
      "metadata": {
        "id": "29e59ed3"
      },
      "source": [
        "A **dataloader** creates batches of samples from a dataset so that they can be passed into a model.\n",
        "- Create a train and test dataloaders using the following commands:\n",
        "```\n",
        "train_dataloader = DataLoader(train_dataset, batch_size=64, shuffle=True)\n",
        "val_dataloader = DataLoader(val_dataset, batch_size=64, shuffle=True)\n",
        "test_dataloader = DataLoader(test_dataset, batch_size=64, shuffle=True)\n",
        "```\n",
        "- Note that dataloaders are not subscriptable.\n",
        "- Try to catch one batch of the dataloader and examine it."
      ]
    },
    {
      "cell_type": "code",
      "execution_count": 14,
      "id": "2a07bf08",
      "metadata": {
        "id": "2a07bf08",
        "scrolled": true
      },
      "outputs": [],
      "source": [
        "train_dataloader = DataLoader(train_dataset, batch_size=64, shuffle=True)\n",
        "val_dataloader = DataLoader(val_dataset, batch_size=64, shuffle=True)\n",
        "test_dataloader = DataLoader(test_dataset, batch_size=64, shuffle=True)"
      ]
    },
    {
      "cell_type": "markdown",
      "id": "f076ba79",
      "metadata": {
        "id": "f076ba79"
      },
      "source": [
        "## 3. Model"
      ]
    },
    {
      "cell_type": "markdown",
      "id": "daf3ae96",
      "metadata": {
        "id": "daf3ae96"
      },
      "source": [
        "- Define and instanciate a **ResNet convolutional neural network** where the output layer is modified to fit predict the 10 different classes of Fashion MNIST.\n",
        "\n",
        "    The ResNet network is available from the ``torchvision`` library via the following command:<br> ``torchvision.models.resnet50(pretrained=True)``"
      ]
    },
    {
      "cell_type": "code",
      "execution_count": 15,
      "id": "5d0e720a",
      "metadata": {
        "id": "5d0e720a"
      },
      "outputs": [],
      "source": [
        "class CustomResNet(nn.Module):\n",
        "\n",
        "    def __init__(self, in_channels=1):\n",
        "\n",
        "        super(CustomResNet, self).__init__()\n",
        "\n",
        "        self.model = models.resnet50(pretrained=True) # ResNet pretrained\n",
        "\n",
        "        # Modify input layer for 1-channel (grayscale) instead of 3-channel (RGB) images.\n",
        "        # self.conv1 = nn.Conv2d(3, 64, kernel_size=7, stride=2, padding=3, bias=False)  # original\n",
        "        self.model.conv1 = nn.Conv2d(in_channels, 64, kernel_size=7, stride=2, padding=3, bias=False)\n",
        "\n",
        "        # Modify output layer for 10 instead of 1000 classes\n",
        "        num_ftrs = self.model.fc.in_features\n",
        "        self.model.fc = nn.Linear(num_ftrs, 10)\n",
        "\n",
        "    def forward(self, x):\n",
        "\n",
        "        return self.model(x)"
      ]
    },
    {
      "cell_type": "code",
      "execution_count": 16,
      "id": "24eb29f7",
      "metadata": {
        "colab": {
          "base_uri": "https://localhost:8080/"
        },
        "id": "24eb29f7",
        "outputId": "5cfcb8c2-a0b3-4801-8793-9722b0a18f1c"
      },
      "outputs": [
        {
          "output_type": "stream",
          "name": "stderr",
          "text": [
            "/usr/local/lib/python3.10/dist-packages/torchvision/models/_utils.py:208: UserWarning: The parameter 'pretrained' is deprecated since 0.13 and may be removed in the future, please use 'weights' instead.\n",
            "  warnings.warn(\n",
            "/usr/local/lib/python3.10/dist-packages/torchvision/models/_utils.py:223: UserWarning: Arguments other than a weight enum or `None` for 'weights' are deprecated since 0.13 and may be removed in the future. The current behavior is equivalent to passing `weights=ResNet50_Weights.IMAGENET1K_V1`. You can also use `weights=ResNet50_Weights.DEFAULT` to get the most up-to-date weights.\n",
            "  warnings.warn(msg)\n",
            "Downloading: \"https://download.pytorch.org/models/resnet50-0676ba61.pth\" to /root/.cache/torch/hub/checkpoints/resnet50-0676ba61.pth\n",
            "100%|██████████| 97.8M/97.8M [00:00<00:00, 151MB/s]\n"
          ]
        }
      ],
      "source": [
        "network = CustomResNet()"
      ]
    },
    {
      "cell_type": "code",
      "execution_count": 17,
      "id": "5507da6d",
      "metadata": {
        "colab": {
          "base_uri": "https://localhost:8080/"
        },
        "id": "5507da6d",
        "outputId": "da012128-0ac0-4862-d8eb-1e2472a677c6"
      },
      "outputs": [
        {
          "output_type": "execute_result",
          "data": {
            "text/plain": [
              "CustomResNet(\n",
              "  (model): ResNet(\n",
              "    (conv1): Conv2d(1, 64, kernel_size=(7, 7), stride=(2, 2), padding=(3, 3), bias=False)\n",
              "    (bn1): BatchNorm2d(64, eps=1e-05, momentum=0.1, affine=True, track_running_stats=True)\n",
              "    (relu): ReLU(inplace=True)\n",
              "    (maxpool): MaxPool2d(kernel_size=3, stride=2, padding=1, dilation=1, ceil_mode=False)\n",
              "    (layer1): Sequential(\n",
              "      (0): Bottleneck(\n",
              "        (conv1): Conv2d(64, 64, kernel_size=(1, 1), stride=(1, 1), bias=False)\n",
              "        (bn1): BatchNorm2d(64, eps=1e-05, momentum=0.1, affine=True, track_running_stats=True)\n",
              "        (conv2): Conv2d(64, 64, kernel_size=(3, 3), stride=(1, 1), padding=(1, 1), bias=False)\n",
              "        (bn2): BatchNorm2d(64, eps=1e-05, momentum=0.1, affine=True, track_running_stats=True)\n",
              "        (conv3): Conv2d(64, 256, kernel_size=(1, 1), stride=(1, 1), bias=False)\n",
              "        (bn3): BatchNorm2d(256, eps=1e-05, momentum=0.1, affine=True, track_running_stats=True)\n",
              "        (relu): ReLU(inplace=True)\n",
              "        (downsample): Sequential(\n",
              "          (0): Conv2d(64, 256, kernel_size=(1, 1), stride=(1, 1), bias=False)\n",
              "          (1): BatchNorm2d(256, eps=1e-05, momentum=0.1, affine=True, track_running_stats=True)\n",
              "        )\n",
              "      )\n",
              "      (1): Bottleneck(\n",
              "        (conv1): Conv2d(256, 64, kernel_size=(1, 1), stride=(1, 1), bias=False)\n",
              "        (bn1): BatchNorm2d(64, eps=1e-05, momentum=0.1, affine=True, track_running_stats=True)\n",
              "        (conv2): Conv2d(64, 64, kernel_size=(3, 3), stride=(1, 1), padding=(1, 1), bias=False)\n",
              "        (bn2): BatchNorm2d(64, eps=1e-05, momentum=0.1, affine=True, track_running_stats=True)\n",
              "        (conv3): Conv2d(64, 256, kernel_size=(1, 1), stride=(1, 1), bias=False)\n",
              "        (bn3): BatchNorm2d(256, eps=1e-05, momentum=0.1, affine=True, track_running_stats=True)\n",
              "        (relu): ReLU(inplace=True)\n",
              "      )\n",
              "      (2): Bottleneck(\n",
              "        (conv1): Conv2d(256, 64, kernel_size=(1, 1), stride=(1, 1), bias=False)\n",
              "        (bn1): BatchNorm2d(64, eps=1e-05, momentum=0.1, affine=True, track_running_stats=True)\n",
              "        (conv2): Conv2d(64, 64, kernel_size=(3, 3), stride=(1, 1), padding=(1, 1), bias=False)\n",
              "        (bn2): BatchNorm2d(64, eps=1e-05, momentum=0.1, affine=True, track_running_stats=True)\n",
              "        (conv3): Conv2d(64, 256, kernel_size=(1, 1), stride=(1, 1), bias=False)\n",
              "        (bn3): BatchNorm2d(256, eps=1e-05, momentum=0.1, affine=True, track_running_stats=True)\n",
              "        (relu): ReLU(inplace=True)\n",
              "      )\n",
              "    )\n",
              "    (layer2): Sequential(\n",
              "      (0): Bottleneck(\n",
              "        (conv1): Conv2d(256, 128, kernel_size=(1, 1), stride=(1, 1), bias=False)\n",
              "        (bn1): BatchNorm2d(128, eps=1e-05, momentum=0.1, affine=True, track_running_stats=True)\n",
              "        (conv2): Conv2d(128, 128, kernel_size=(3, 3), stride=(2, 2), padding=(1, 1), bias=False)\n",
              "        (bn2): BatchNorm2d(128, eps=1e-05, momentum=0.1, affine=True, track_running_stats=True)\n",
              "        (conv3): Conv2d(128, 512, kernel_size=(1, 1), stride=(1, 1), bias=False)\n",
              "        (bn3): BatchNorm2d(512, eps=1e-05, momentum=0.1, affine=True, track_running_stats=True)\n",
              "        (relu): ReLU(inplace=True)\n",
              "        (downsample): Sequential(\n",
              "          (0): Conv2d(256, 512, kernel_size=(1, 1), stride=(2, 2), bias=False)\n",
              "          (1): BatchNorm2d(512, eps=1e-05, momentum=0.1, affine=True, track_running_stats=True)\n",
              "        )\n",
              "      )\n",
              "      (1): Bottleneck(\n",
              "        (conv1): Conv2d(512, 128, kernel_size=(1, 1), stride=(1, 1), bias=False)\n",
              "        (bn1): BatchNorm2d(128, eps=1e-05, momentum=0.1, affine=True, track_running_stats=True)\n",
              "        (conv2): Conv2d(128, 128, kernel_size=(3, 3), stride=(1, 1), padding=(1, 1), bias=False)\n",
              "        (bn2): BatchNorm2d(128, eps=1e-05, momentum=0.1, affine=True, track_running_stats=True)\n",
              "        (conv3): Conv2d(128, 512, kernel_size=(1, 1), stride=(1, 1), bias=False)\n",
              "        (bn3): BatchNorm2d(512, eps=1e-05, momentum=0.1, affine=True, track_running_stats=True)\n",
              "        (relu): ReLU(inplace=True)\n",
              "      )\n",
              "      (2): Bottleneck(\n",
              "        (conv1): Conv2d(512, 128, kernel_size=(1, 1), stride=(1, 1), bias=False)\n",
              "        (bn1): BatchNorm2d(128, eps=1e-05, momentum=0.1, affine=True, track_running_stats=True)\n",
              "        (conv2): Conv2d(128, 128, kernel_size=(3, 3), stride=(1, 1), padding=(1, 1), bias=False)\n",
              "        (bn2): BatchNorm2d(128, eps=1e-05, momentum=0.1, affine=True, track_running_stats=True)\n",
              "        (conv3): Conv2d(128, 512, kernel_size=(1, 1), stride=(1, 1), bias=False)\n",
              "        (bn3): BatchNorm2d(512, eps=1e-05, momentum=0.1, affine=True, track_running_stats=True)\n",
              "        (relu): ReLU(inplace=True)\n",
              "      )\n",
              "      (3): Bottleneck(\n",
              "        (conv1): Conv2d(512, 128, kernel_size=(1, 1), stride=(1, 1), bias=False)\n",
              "        (bn1): BatchNorm2d(128, eps=1e-05, momentum=0.1, affine=True, track_running_stats=True)\n",
              "        (conv2): Conv2d(128, 128, kernel_size=(3, 3), stride=(1, 1), padding=(1, 1), bias=False)\n",
              "        (bn2): BatchNorm2d(128, eps=1e-05, momentum=0.1, affine=True, track_running_stats=True)\n",
              "        (conv3): Conv2d(128, 512, kernel_size=(1, 1), stride=(1, 1), bias=False)\n",
              "        (bn3): BatchNorm2d(512, eps=1e-05, momentum=0.1, affine=True, track_running_stats=True)\n",
              "        (relu): ReLU(inplace=True)\n",
              "      )\n",
              "    )\n",
              "    (layer3): Sequential(\n",
              "      (0): Bottleneck(\n",
              "        (conv1): Conv2d(512, 256, kernel_size=(1, 1), stride=(1, 1), bias=False)\n",
              "        (bn1): BatchNorm2d(256, eps=1e-05, momentum=0.1, affine=True, track_running_stats=True)\n",
              "        (conv2): Conv2d(256, 256, kernel_size=(3, 3), stride=(2, 2), padding=(1, 1), bias=False)\n",
              "        (bn2): BatchNorm2d(256, eps=1e-05, momentum=0.1, affine=True, track_running_stats=True)\n",
              "        (conv3): Conv2d(256, 1024, kernel_size=(1, 1), stride=(1, 1), bias=False)\n",
              "        (bn3): BatchNorm2d(1024, eps=1e-05, momentum=0.1, affine=True, track_running_stats=True)\n",
              "        (relu): ReLU(inplace=True)\n",
              "        (downsample): Sequential(\n",
              "          (0): Conv2d(512, 1024, kernel_size=(1, 1), stride=(2, 2), bias=False)\n",
              "          (1): BatchNorm2d(1024, eps=1e-05, momentum=0.1, affine=True, track_running_stats=True)\n",
              "        )\n",
              "      )\n",
              "      (1): Bottleneck(\n",
              "        (conv1): Conv2d(1024, 256, kernel_size=(1, 1), stride=(1, 1), bias=False)\n",
              "        (bn1): BatchNorm2d(256, eps=1e-05, momentum=0.1, affine=True, track_running_stats=True)\n",
              "        (conv2): Conv2d(256, 256, kernel_size=(3, 3), stride=(1, 1), padding=(1, 1), bias=False)\n",
              "        (bn2): BatchNorm2d(256, eps=1e-05, momentum=0.1, affine=True, track_running_stats=True)\n",
              "        (conv3): Conv2d(256, 1024, kernel_size=(1, 1), stride=(1, 1), bias=False)\n",
              "        (bn3): BatchNorm2d(1024, eps=1e-05, momentum=0.1, affine=True, track_running_stats=True)\n",
              "        (relu): ReLU(inplace=True)\n",
              "      )\n",
              "      (2): Bottleneck(\n",
              "        (conv1): Conv2d(1024, 256, kernel_size=(1, 1), stride=(1, 1), bias=False)\n",
              "        (bn1): BatchNorm2d(256, eps=1e-05, momentum=0.1, affine=True, track_running_stats=True)\n",
              "        (conv2): Conv2d(256, 256, kernel_size=(3, 3), stride=(1, 1), padding=(1, 1), bias=False)\n",
              "        (bn2): BatchNorm2d(256, eps=1e-05, momentum=0.1, affine=True, track_running_stats=True)\n",
              "        (conv3): Conv2d(256, 1024, kernel_size=(1, 1), stride=(1, 1), bias=False)\n",
              "        (bn3): BatchNorm2d(1024, eps=1e-05, momentum=0.1, affine=True, track_running_stats=True)\n",
              "        (relu): ReLU(inplace=True)\n",
              "      )\n",
              "      (3): Bottleneck(\n",
              "        (conv1): Conv2d(1024, 256, kernel_size=(1, 1), stride=(1, 1), bias=False)\n",
              "        (bn1): BatchNorm2d(256, eps=1e-05, momentum=0.1, affine=True, track_running_stats=True)\n",
              "        (conv2): Conv2d(256, 256, kernel_size=(3, 3), stride=(1, 1), padding=(1, 1), bias=False)\n",
              "        (bn2): BatchNorm2d(256, eps=1e-05, momentum=0.1, affine=True, track_running_stats=True)\n",
              "        (conv3): Conv2d(256, 1024, kernel_size=(1, 1), stride=(1, 1), bias=False)\n",
              "        (bn3): BatchNorm2d(1024, eps=1e-05, momentum=0.1, affine=True, track_running_stats=True)\n",
              "        (relu): ReLU(inplace=True)\n",
              "      )\n",
              "      (4): Bottleneck(\n",
              "        (conv1): Conv2d(1024, 256, kernel_size=(1, 1), stride=(1, 1), bias=False)\n",
              "        (bn1): BatchNorm2d(256, eps=1e-05, momentum=0.1, affine=True, track_running_stats=True)\n",
              "        (conv2): Conv2d(256, 256, kernel_size=(3, 3), stride=(1, 1), padding=(1, 1), bias=False)\n",
              "        (bn2): BatchNorm2d(256, eps=1e-05, momentum=0.1, affine=True, track_running_stats=True)\n",
              "        (conv3): Conv2d(256, 1024, kernel_size=(1, 1), stride=(1, 1), bias=False)\n",
              "        (bn3): BatchNorm2d(1024, eps=1e-05, momentum=0.1, affine=True, track_running_stats=True)\n",
              "        (relu): ReLU(inplace=True)\n",
              "      )\n",
              "      (5): Bottleneck(\n",
              "        (conv1): Conv2d(1024, 256, kernel_size=(1, 1), stride=(1, 1), bias=False)\n",
              "        (bn1): BatchNorm2d(256, eps=1e-05, momentum=0.1, affine=True, track_running_stats=True)\n",
              "        (conv2): Conv2d(256, 256, kernel_size=(3, 3), stride=(1, 1), padding=(1, 1), bias=False)\n",
              "        (bn2): BatchNorm2d(256, eps=1e-05, momentum=0.1, affine=True, track_running_stats=True)\n",
              "        (conv3): Conv2d(256, 1024, kernel_size=(1, 1), stride=(1, 1), bias=False)\n",
              "        (bn3): BatchNorm2d(1024, eps=1e-05, momentum=0.1, affine=True, track_running_stats=True)\n",
              "        (relu): ReLU(inplace=True)\n",
              "      )\n",
              "    )\n",
              "    (layer4): Sequential(\n",
              "      (0): Bottleneck(\n",
              "        (conv1): Conv2d(1024, 512, kernel_size=(1, 1), stride=(1, 1), bias=False)\n",
              "        (bn1): BatchNorm2d(512, eps=1e-05, momentum=0.1, affine=True, track_running_stats=True)\n",
              "        (conv2): Conv2d(512, 512, kernel_size=(3, 3), stride=(2, 2), padding=(1, 1), bias=False)\n",
              "        (bn2): BatchNorm2d(512, eps=1e-05, momentum=0.1, affine=True, track_running_stats=True)\n",
              "        (conv3): Conv2d(512, 2048, kernel_size=(1, 1), stride=(1, 1), bias=False)\n",
              "        (bn3): BatchNorm2d(2048, eps=1e-05, momentum=0.1, affine=True, track_running_stats=True)\n",
              "        (relu): ReLU(inplace=True)\n",
              "        (downsample): Sequential(\n",
              "          (0): Conv2d(1024, 2048, kernel_size=(1, 1), stride=(2, 2), bias=False)\n",
              "          (1): BatchNorm2d(2048, eps=1e-05, momentum=0.1, affine=True, track_running_stats=True)\n",
              "        )\n",
              "      )\n",
              "      (1): Bottleneck(\n",
              "        (conv1): Conv2d(2048, 512, kernel_size=(1, 1), stride=(1, 1), bias=False)\n",
              "        (bn1): BatchNorm2d(512, eps=1e-05, momentum=0.1, affine=True, track_running_stats=True)\n",
              "        (conv2): Conv2d(512, 512, kernel_size=(3, 3), stride=(1, 1), padding=(1, 1), bias=False)\n",
              "        (bn2): BatchNorm2d(512, eps=1e-05, momentum=0.1, affine=True, track_running_stats=True)\n",
              "        (conv3): Conv2d(512, 2048, kernel_size=(1, 1), stride=(1, 1), bias=False)\n",
              "        (bn3): BatchNorm2d(2048, eps=1e-05, momentum=0.1, affine=True, track_running_stats=True)\n",
              "        (relu): ReLU(inplace=True)\n",
              "      )\n",
              "      (2): Bottleneck(\n",
              "        (conv1): Conv2d(2048, 512, kernel_size=(1, 1), stride=(1, 1), bias=False)\n",
              "        (bn1): BatchNorm2d(512, eps=1e-05, momentum=0.1, affine=True, track_running_stats=True)\n",
              "        (conv2): Conv2d(512, 512, kernel_size=(3, 3), stride=(1, 1), padding=(1, 1), bias=False)\n",
              "        (bn2): BatchNorm2d(512, eps=1e-05, momentum=0.1, affine=True, track_running_stats=True)\n",
              "        (conv3): Conv2d(512, 2048, kernel_size=(1, 1), stride=(1, 1), bias=False)\n",
              "        (bn3): BatchNorm2d(2048, eps=1e-05, momentum=0.1, affine=True, track_running_stats=True)\n",
              "        (relu): ReLU(inplace=True)\n",
              "      )\n",
              "    )\n",
              "    (avgpool): AdaptiveAvgPool2d(output_size=(1, 1))\n",
              "    (fc): Linear(in_features=2048, out_features=10, bias=True)\n",
              "  )\n",
              ")"
            ]
          },
          "metadata": {},
          "execution_count": 17
        }
      ],
      "source": [
        "# Put network to GPU if exists\n",
        "device = torch.device('cuda' if torch.cuda.is_available() else 'cpu')\n",
        "network.to(device)"
      ]
    },
    {
      "cell_type": "markdown",
      "id": "c96d0079",
      "metadata": {
        "id": "c96d0079"
      },
      "source": [
        "## 4. Loss"
      ]
    },
    {
      "cell_type": "markdown",
      "id": "adca7d03",
      "metadata": {
        "id": "adca7d03"
      },
      "source": [
        "- Define a **cross entropy loss** with the following command:<br>\n",
        "```\n",
        "loss = nn.CrossEntropyLoss()\n",
        "```\n",
        "- Try to understand this loss object:<br>\n",
        "https://pytorch.org/docs/stable/generated/torch.nn.CrossEntropyLoss.html"
      ]
    },
    {
      "cell_type": "code",
      "execution_count": 18,
      "id": "87b7ddc4",
      "metadata": {
        "id": "87b7ddc4"
      },
      "outputs": [],
      "source": [
        "loss = nn.CrossEntropyLoss()"
      ]
    },
    {
      "cell_type": "markdown",
      "id": "f2e74bf7",
      "metadata": {
        "id": "f2e74bf7"
      },
      "source": [
        "## 5. Optimizer"
      ]
    },
    {
      "cell_type": "markdown",
      "id": "f8e9349d",
      "metadata": {
        "id": "f8e9349d"
      },
      "source": [
        "- Define an **SGD optimizer** with the following command:<br>\n",
        "```\n",
        "optimizer = torch.optim.SGD(network.parameters(), lr=0.005)\n",
        "```\n",
        "- Try to understand this object:<br>\n",
        "https://pytorch.org/docs/stable/generated/torch.optim.SGD.html#torch.optim.SGD"
      ]
    },
    {
      "cell_type": "code",
      "execution_count": 19,
      "id": "939fbc70",
      "metadata": {
        "id": "939fbc70"
      },
      "outputs": [],
      "source": [
        "optimizer = torch.optim.SGD(network.parameters(), lr=0.001)"
      ]
    },
    {
      "cell_type": "markdown",
      "id": "601241b2",
      "metadata": {
        "id": "601241b2"
      },
      "source": [
        "## 6. Training"
      ]
    },
    {
      "cell_type": "markdown",
      "id": "81e0534e",
      "metadata": {
        "id": "81e0534e"
      },
      "source": [
        "- Define a **training loop** for you model.\n",
        "- The key instructions are:\n",
        "    - ``optimizer.zero_grad()``: reset gradients to 0\n",
        "    - ``loss.backward()``      : compute new gradients\n",
        "    - ``optimizer.step()``     : uptdate weights\n",
        "- Train the model for 10 epochs only (because of **transfer learning!**).\n",
        "- Plot the training loss."
      ]
    },
    {
      "cell_type": "code",
      "execution_count": 20,
      "id": "69baf69b",
      "metadata": {
        "id": "69baf69b"
      },
      "outputs": [],
      "source": [
        "def train(model, loss=None, optimizer=None, train_dataloader=None, val_dataloader=None, nb_epochs=10):\n",
        "    \"\"\"Training loop\"\"\"\n",
        "\n",
        "    min_val_loss = torch.inf\n",
        "    train_losses = []\n",
        "    val_losses = []\n",
        "\n",
        "    # Iterrate over epochs\n",
        "    for e in range(nb_epochs):\n",
        "\n",
        "        # Training\n",
        "        train_loss = 0.0\n",
        "\n",
        "        for data, labels in train_dataloader:\n",
        "\n",
        "            # Transfer data to GPU if available\n",
        "            if torch.cuda.is_available():\n",
        "                data, labels = data.cuda(), labels.cuda()\n",
        "\n",
        "            # Reset gradients to 0\n",
        "            optimizer.zero_grad()\n",
        "\n",
        "            # Forward Pass\n",
        "            targets = model(data)\n",
        "\n",
        "            # Compute training loss\n",
        "            current_loss = loss(targets, labels)\n",
        "            train_loss += current_loss.item()\n",
        "\n",
        "            # Compute gradients\n",
        "            current_loss.backward()\n",
        "\n",
        "            # Update weights\n",
        "            optimizer.step()\n",
        "\n",
        "        # Validation\n",
        "        val_loss = 0.0\n",
        "\n",
        "        # Put model in eval mode\n",
        "        model.eval()\n",
        "\n",
        "        for data, labels in val_dataloader:\n",
        "\n",
        "            # Transfer data to GPU if available\n",
        "            if torch.cuda.is_available():\n",
        "                data, labels = data.cuda(), labels.cuda()\n",
        "\n",
        "            # Forward Pass\n",
        "            targets = model(data)\n",
        "\n",
        "            # Compute validation loss\n",
        "            current_loss = loss(targets, labels)\n",
        "            val_loss += current_loss.item()\n",
        "\n",
        "        # Prints\n",
        "        print(f\"Epoch {e+1}/{nb_epochs} \\\n",
        "                \\t Training Loss: {train_loss/len(train_dataloader):.3f} \\\n",
        "                \\t Validation Loss: {val_loss/len(val_dataloader):.3f}\")\n",
        "\n",
        "        train_losses.append(train_loss/len(train_dataloader))\n",
        "        val_losses.append(val_loss/len(val_dataloader))\n",
        "\n",
        "        # Save model if val loss decreases\n",
        "        if val_loss < min_val_loss:\n",
        "\n",
        "            min_val_loss = val_loss\n",
        "            torch.save(model.state_dict(), 'best_model.pt')\n",
        "\n",
        "    return train_losses, val_losses"
      ]
    },
    {
      "cell_type": "code",
      "execution_count": 21,
      "id": "8bd54447",
      "metadata": {
        "colab": {
          "base_uri": "https://localhost:8080/"
        },
        "id": "8bd54447",
        "outputId": "44e616f0-453e-497d-c14b-eb2bead91ea8",
        "scrolled": true
      },
      "outputs": [
        {
          "output_type": "stream",
          "name": "stdout",
          "text": [
            "Epoch 1/10                 \t Training Loss: 0.974                 \t Validation Loss: 0.566\n",
            "Epoch 2/10                 \t Training Loss: 0.487                 \t Validation Loss: 0.517\n",
            "Epoch 3/10                 \t Training Loss: 0.395                 \t Validation Loss: 0.415\n",
            "Epoch 4/10                 \t Training Loss: 0.343                 \t Validation Loss: 0.421\n",
            "Epoch 5/10                 \t Training Loss: 0.307                 \t Validation Loss: 0.414\n",
            "Epoch 6/10                 \t Training Loss: 0.278                 \t Validation Loss: 0.395\n",
            "Epoch 7/10                 \t Training Loss: 0.250                 \t Validation Loss: 0.396\n",
            "Epoch 8/10                 \t Training Loss: 0.228                 \t Validation Loss: 0.371\n",
            "Epoch 9/10                 \t Training Loss: 0.208                 \t Validation Loss: 0.371\n",
            "Epoch 10/10                 \t Training Loss: 0.188                 \t Validation Loss: 0.368\n"
          ]
        }
      ],
      "source": [
        "# takes a long time if not on GPU...\n",
        "train_losses, val_losses = train(model=network, loss=loss, optimizer=optimizer,\n",
        "                                 train_dataloader=train_dataloader, val_dataloader=val_dataloader,\n",
        "                                 nb_epochs=10)"
      ]
    },
    {
      "cell_type": "code",
      "execution_count": 22,
      "id": "eed150b4",
      "metadata": {
        "colab": {
          "base_uri": "https://localhost:8080/",
          "height": 453
        },
        "id": "eed150b4",
        "outputId": "063bfca3-d220-4382-bde6-094c212b90a2"
      },
      "outputs": [
        {
          "output_type": "display_data",
          "data": {
            "text/plain": [
              "<Figure size 640x480 with 1 Axes>"
            ],
            "image/png": "[encoded data removed]"
          },
          "metadata": {}
        }
      ],
      "source": [
        "# Plot losses\n",
        "plt.plot(range(len(train_losses)), train_losses,\n",
        "         linewidth=2.0,\n",
        "         label='training loss')\n",
        "\n",
        "plt.plot(range(len(val_losses)), val_losses,\n",
        "         linewidth=2.0,\n",
        "         label='validation loss')\n",
        "\n",
        "plt.xlabel(\"Epochs\", size=12)\n",
        "plt.ylabel(\"Losses\", size=12)\n",
        "\n",
        "plt.legend()\n",
        "\n",
        "# plt.savefig('figures/losses.pdf')\n",
        "plt.show()"
      ]
    },
    {
      "cell_type": "markdown",
      "id": "21c25e52",
      "metadata": {
        "id": "21c25e52"
      },
      "source": [
        "## 6. Testing"
      ]
    },
    {
      "cell_type": "markdown",
      "id": "27d6f3af",
      "metadata": {
        "id": "27d6f3af"
      },
      "source": [
        "- Write a ``predict`` function\n",
        "    - use ``with torch.no_grad():``\n",
        "- Compute the accuracy and classification report of the train and test sets."
      ]
    },
    {
      "cell_type": "code",
      "execution_count": 23,
      "id": "59109d5a",
      "metadata": {
        "id": "59109d5a"
      },
      "outputs": [],
      "source": [
        "def predict(model, test_dataloader):\n",
        "\n",
        "    labels_l = []\n",
        "    preds_l = []\n",
        "\n",
        "    # Put model in eval mode\n",
        "    model.eval()\n",
        "\n",
        "    # Testing loop\n",
        "    with torch.no_grad():\n",
        "\n",
        "        for i, batch in enumerate(test_dataloader):\n",
        "\n",
        "            data, labels = batch\n",
        "            data = data.to(device)\n",
        "            labels_l.extend(labels.tolist())\n",
        "\n",
        "            preds = model(data)\n",
        "            preds = torch.argmax(preds, dim=1)\n",
        "            preds_l.extend(preds.tolist())\n",
        "\n",
        "    return labels_l, preds_l"
      ]
    },
    {
      "cell_type": "code",
      "execution_count": 24,
      "id": "bc07d04b",
      "metadata": {
        "id": "bc07d04b"
      },
      "outputs": [],
      "source": [
        "train_labels, train_preds = predict(network, train_dataloader)\n",
        "test_labels, test_preds = predict(network, test_dataloader)"
      ]
    },
    {
      "cell_type": "code",
      "execution_count": 25,
      "id": "93a064a3",
      "metadata": {
        "colab": {
          "base_uri": "https://localhost:8080/"
        },
        "id": "93a064a3",
        "outputId": "d32133da-35a5-4e4a-d37e-fdb0ccee9caa"
      },
      "outputs": [
        {
          "output_type": "stream",
          "name": "stdout",
          "text": [
            "              precision    recall  f1-score   support\n",
            "\n",
            "           0     0.8881    0.9517    0.9188      4986\n",
            "           1     0.9990    0.9906    0.9948      4998\n",
            "           2     0.8619    0.9399    0.8992      4928\n",
            "           3     0.9247    0.9725    0.9480      5011\n",
            "           4     0.9139    0.8797    0.8965      5006\n",
            "           5     0.9858    0.9932    0.9895      5016\n",
            "           6     0.9083    0.7608    0.8281      4988\n",
            "           7     0.9295    0.9844    0.9562      5076\n",
            "           8     0.9974    0.9920    0.9947      5004\n",
            "           9     0.9899    0.9236    0.9556      4987\n",
            "\n",
            "    accuracy                         0.9390     50000\n",
            "   macro avg     0.9398    0.9388    0.9381     50000\n",
            "weighted avg     0.9400    0.9390    0.9383     50000\n",
            "\n"
          ]
        }
      ],
      "source": [
        "print(classification_report(train_labels, train_preds, digits=4))"
      ]
    },
    {
      "cell_type": "code",
      "execution_count": 26,
      "id": "f46828e3",
      "metadata": {
        "colab": {
          "base_uri": "https://localhost:8080/"
        },
        "id": "f46828e3",
        "outputId": "c691e88e-c059-4cb3-e86d-e0abc3289aa5"
      },
      "outputs": [
        {
          "output_type": "stream",
          "name": "stdout",
          "text": [
            "              precision    recall  f1-score   support\n",
            "\n",
            "           0     0.7896    0.8630    0.8247      1000\n",
            "           1     0.9938    0.9630    0.9782      1000\n",
            "           2     0.7694    0.8510    0.8082      1000\n",
            "           3     0.8457    0.8990    0.8715      1000\n",
            "           4     0.8033    0.7680    0.7853      1000\n",
            "           5     0.9577    0.9730    0.9653      1000\n",
            "           6     0.7173    0.5860    0.6450      1000\n",
            "           7     0.8881    0.9600    0.9226      1000\n",
            "           8     0.9686    0.9570    0.9628      1000\n",
            "           9     0.9748    0.8880    0.9294      1000\n",
            "\n",
            "    accuracy                         0.8708     10000\n",
            "   macro avg     0.8708    0.8708    0.8693     10000\n",
            "weighted avg     0.8708    0.8708    0.8693     10000\n",
            "\n"
          ]
        }
      ],
      "source": [
        "print(classification_report(test_labels, test_preds, digits=4))"
      ]
    },
    {
      "cell_type": "markdown",
      "id": "202236fb",
      "metadata": {
        "id": "202236fb"
      },
      "source": [
        "## 7. Save"
      ]
    },
    {
      "cell_type": "markdown",
      "id": "3dc640fe",
      "metadata": {
        "id": "3dc640fe"
      },
      "source": [
        "- Save your trained model.\n",
        "- Try to reload it and see if it works.\n",
        "- Use the following instructions\n",
        "```\n",
        "torch.save(model.state_dict(), <path>)\n",
        "...\n",
        "network_2.load_state_dict(torch.load(<path>))\n",
        "network_2.eval()\n",
        "```"
      ]
    },
    {
      "cell_type": "code",
      "execution_count": 27,
      "id": "7ecea0ac",
      "metadata": {
        "id": "7ecea0ac"
      },
      "outputs": [],
      "source": [
        "cwd = os.getcwd()\n",
        "path = os.path.join(cwd, \"model.pt\")\n",
        "path_2 = os.path.join(cwd, \"best_model.pt\")"
      ]
    },
    {
      "cell_type": "code",
      "execution_count": null,
      "id": "383a6608",
      "metadata": {
        "id": "383a6608"
      },
      "outputs": [],
      "source": [
        "# Save last model\n",
        "torch.save(network.state_dict(), path)"
      ]
    },
    {
      "cell_type": "code",
      "execution_count": null,
      "id": "925c04a4",
      "metadata": {
        "colab": {
          "base_uri": "https://localhost:8080/"
        },
        "id": "925c04a4",
        "outputId": "227d845b-8165-42bf-f299-87aba5c7c431"
      },
      "outputs": [
        {
          "output_type": "execute_result",
          "data": {
            "text/plain": [
              "CustomResNet(\n",
              "  (model): ResNet(\n",
              "    (conv1): Conv2d(1, 64, kernel_size=(7, 7), stride=(2, 2), padding=(3, 3), bias=False)\n",
              "    (bn1): BatchNorm2d(64, eps=1e-05, momentum=0.1, affine=True, track_running_stats=True)\n",
              "    (relu): ReLU(inplace=True)\n",
              "    (maxpool): MaxPool2d(kernel_size=3, stride=2, padding=1, dilation=1, ceil_mode=False)\n",
              "    (layer1): Sequential(\n",
              "      (0): Bottleneck(\n",
              "        (conv1): Conv2d(64, 64, kernel_size=(1, 1), stride=(1, 1), bias=False)\n",
              "        (bn1): BatchNorm2d(64, eps=1e-05, momentum=0.1, affine=True, track_running_stats=True)\n",
              "        (conv2): Conv2d(64, 64, kernel_size=(3, 3), stride=(1, 1), padding=(1, 1), bias=False)\n",
              "        (bn2): BatchNorm2d(64, eps=1e-05, momentum=0.1, affine=True, track_running_stats=True)\n",
              "        (conv3): Conv2d(64, 256, kernel_size=(1, 1), stride=(1, 1), bias=False)\n",
              "        (bn3): BatchNorm2d(256, eps=1e-05, momentum=0.1, affine=True, track_running_stats=True)\n",
              "        (relu): ReLU(inplace=True)\n",
              "        (downsample): Sequential(\n",
              "          (0): Conv2d(64, 256, kernel_size=(1, 1), stride=(1, 1), bias=False)\n",
              "          (1): BatchNorm2d(256, eps=1e-05, momentum=0.1, affine=True, track_running_stats=True)\n",
              "        )\n",
              "      )\n",
              "      (1): Bottleneck(\n",
              "        (conv1): Conv2d(256, 64, kernel_size=(1, 1), stride=(1, 1), bias=False)\n",
              "        (bn1): BatchNorm2d(64, eps=1e-05, momentum=0.1, affine=True, track_running_stats=True)\n",
              "        (conv2): Conv2d(64, 64, kernel_size=(3, 3), stride=(1, 1), padding=(1, 1), bias=False)\n",
              "        (bn2): BatchNorm2d(64, eps=1e-05, momentum=0.1, affine=True, track_running_stats=True)\n",
              "        (conv3): Conv2d(64, 256, kernel_size=(1, 1), stride=(1, 1), bias=False)\n",
              "        (bn3): BatchNorm2d(256, eps=1e-05, momentum=0.1, affine=True, track_running_stats=True)\n",
              "        (relu): ReLU(inplace=True)\n",
              "      )\n",
              "      (2): Bottleneck(\n",
              "        (conv1): Conv2d(256, 64, kernel_size=(1, 1), stride=(1, 1), bias=False)\n",
              "        (bn1): BatchNorm2d(64, eps=1e-05, momentum=0.1, affine=True, track_running_stats=True)\n",
              "        (conv2): Conv2d(64, 64, kernel_size=(3, 3), stride=(1, 1), padding=(1, 1), bias=False)\n",
              "        (bn2): BatchNorm2d(64, eps=1e-05, momentum=0.1, affine=True, track_running_stats=True)\n",
              "        (conv3): Conv2d(64, 256, kernel_size=(1, 1), stride=(1, 1), bias=False)\n",
              "        (bn3): BatchNorm2d(256, eps=1e-05, momentum=0.1, affine=True, track_running_stats=True)\n",
              "        (relu): ReLU(inplace=True)\n",
              "      )\n",
              "    )\n",
              "    (layer2): Sequential(\n",
              "      (0): Bottleneck(\n",
              "        (conv1): Conv2d(256, 128, kernel_size=(1, 1), stride=(1, 1), bias=False)\n",
              "        (bn1): BatchNorm2d(128, eps=1e-05, momentum=0.1, affine=True, track_running_stats=True)\n",
              "        (conv2): Conv2d(128, 128, kernel_size=(3, 3), stride=(2, 2), padding=(1, 1), bias=False)\n",
              "        (bn2): BatchNorm2d(128, eps=1e-05, momentum=0.1, affine=True, track_running_stats=True)\n",
              "        (conv3): Conv2d(128, 512, kernel_size=(1, 1), stride=(1, 1), bias=False)\n",
              "        (bn3): BatchNorm2d(512, eps=1e-05, momentum=0.1, affine=True, track_running_stats=True)\n",
              "        (relu): ReLU(inplace=True)\n",
              "        (downsample): Sequential(\n",
              "          (0): Conv2d(256, 512, kernel_size=(1, 1), stride=(2, 2), bias=False)\n",
              "          (1): BatchNorm2d(512, eps=1e-05, momentum=0.1, affine=True, track_running_stats=True)\n",
              "        )\n",
              "      )\n",
              "      (1): Bottleneck(\n",
              "        (conv1): Conv2d(512, 128, kernel_size=(1, 1), stride=(1, 1), bias=False)\n",
              "        (bn1): BatchNorm2d(128, eps=1e-05, momentum=0.1, affine=True, track_running_stats=True)\n",
              "        (conv2): Conv2d(128, 128, kernel_size=(3, 3), stride=(1, 1), padding=(1, 1), bias=False)\n",
              "        (bn2): BatchNorm2d(128, eps=1e-05, momentum=0.1, affine=True, track_running_stats=True)\n",
              "        (conv3): Conv2d(128, 512, kernel_size=(1, 1), stride=(1, 1), bias=False)\n",
              "        (bn3): BatchNorm2d(512, eps=1e-05, momentum=0.1, affine=True, track_running_stats=True)\n",
              "        (relu): ReLU(inplace=True)\n",
              "      )\n",
              "      (2): Bottleneck(\n",
              "        (conv1): Conv2d(512, 128, kernel_size=(1, 1), stride=(1, 1), bias=False)\n",
              "        (bn1): BatchNorm2d(128, eps=1e-05, momentum=0.1, affine=True, track_running_stats=True)\n",
              "        (conv2): Conv2d(128, 128, kernel_size=(3, 3), stride=(1, 1), padding=(1, 1), bias=False)\n",
              "        (bn2): BatchNorm2d(128, eps=1e-05, momentum=0.1, affine=True, track_running_stats=True)\n",
              "        (conv3): Conv2d(128, 512, kernel_size=(1, 1), stride=(1, 1), bias=False)\n",
              "        (bn3): BatchNorm2d(512, eps=1e-05, momentum=0.1, affine=True, track_running_stats=True)\n",
              "        (relu): ReLU(inplace=True)\n",
              "      )\n",
              "      (3): Bottleneck(\n",
              "        (conv1): Conv2d(512, 128, kernel_size=(1, 1), stride=(1, 1), bias=False)\n",
              "        (bn1): BatchNorm2d(128, eps=1e-05, momentum=0.1, affine=True, track_running_stats=True)\n",
              "        (conv2): Conv2d(128, 128, kernel_size=(3, 3), stride=(1, 1), padding=(1, 1), bias=False)\n",
              "        (bn2): BatchNorm2d(128, eps=1e-05, momentum=0.1, affine=True, track_running_stats=True)\n",
              "        (conv3): Conv2d(128, 512, kernel_size=(1, 1), stride=(1, 1), bias=False)\n",
              "        (bn3): BatchNorm2d(512, eps=1e-05, momentum=0.1, affine=True, track_running_stats=True)\n",
              "        (relu): ReLU(inplace=True)\n",
              "      )\n",
              "    )\n",
              "    (layer3): Sequential(\n",
              "      (0): Bottleneck(\n",
              "        (conv1): Conv2d(512, 256, kernel_size=(1, 1), stride=(1, 1), bias=False)\n",
              "        (bn1): BatchNorm2d(256, eps=1e-05, momentum=0.1, affine=True, track_running_stats=True)\n",
              "        (conv2): Conv2d(256, 256, kernel_size=(3, 3), stride=(2, 2), padding=(1, 1), bias=False)\n",
              "        (bn2): BatchNorm2d(256, eps=1e-05, momentum=0.1, affine=True, track_running_stats=True)\n",
              "        (conv3): Conv2d(256, 1024, kernel_size=(1, 1), stride=(1, 1), bias=False)\n",
              "        (bn3): BatchNorm2d(1024, eps=1e-05, momentum=0.1, affine=True, track_running_stats=True)\n",
              "        (relu): ReLU(inplace=True)\n",
              "        (downsample): Sequential(\n",
              "          (0): Conv2d(512, 1024, kernel_size=(1, 1), stride=(2, 2), bias=False)\n",
              "          (1): BatchNorm2d(1024, eps=1e-05, momentum=0.1, affine=True, track_running_stats=True)\n",
              "        )\n",
              "      )\n",
              "      (1): Bottleneck(\n",
              "        (conv1): Conv2d(1024, 256, kernel_size=(1, 1), stride=(1, 1), bias=False)\n",
              "        (bn1): BatchNorm2d(256, eps=1e-05, momentum=0.1, affine=True, track_running_stats=True)\n",
              "        (conv2): Conv2d(256, 256, kernel_size=(3, 3), stride=(1, 1), padding=(1, 1), bias=False)\n",
              "        (bn2): BatchNorm2d(256, eps=1e-05, momentum=0.1, affine=True, track_running_stats=True)\n",
              "        (conv3): Conv2d(256, 1024, kernel_size=(1, 1), stride=(1, 1), bias=False)\n",
              "        (bn3): BatchNorm2d(1024, eps=1e-05, momentum=0.1, affine=True, track_running_stats=True)\n",
              "        (relu): ReLU(inplace=True)\n",
              "      )\n",
              "      (2): Bottleneck(\n",
              "        (conv1): Conv2d(1024, 256, kernel_size=(1, 1), stride=(1, 1), bias=False)\n",
              "        (bn1): BatchNorm2d(256, eps=1e-05, momentum=0.1, affine=True, track_running_stats=True)\n",
              "        (conv2): Conv2d(256, 256, kernel_size=(3, 3), stride=(1, 1), padding=(1, 1), bias=False)\n",
              "        (bn2): BatchNorm2d(256, eps=1e-05, momentum=0.1, affine=True, track_running_stats=True)\n",
              "        (conv3): Conv2d(256, 1024, kernel_size=(1, 1), stride=(1, 1), bias=False)\n",
              "        (bn3): BatchNorm2d(1024, eps=1e-05, momentum=0.1, affine=True, track_running_stats=True)\n",
              "        (relu): ReLU(inplace=True)\n",
              "      )\n",
              "      (3): Bottleneck(\n",
              "        (conv1): Conv2d(1024, 256, kernel_size=(1, 1), stride=(1, 1), bias=False)\n",
              "        (bn1): BatchNorm2d(256, eps=1e-05, momentum=0.1, affine=True, track_running_stats=True)\n",
              "        (conv2): Conv2d(256, 256, kernel_size=(3, 3), stride=(1, 1), padding=(1, 1), bias=False)\n",
              "        (bn2): BatchNorm2d(256, eps=1e-05, momentum=0.1, affine=True, track_running_stats=True)\n",
              "        (conv3): Conv2d(256, 1024, kernel_size=(1, 1), stride=(1, 1), bias=False)\n",
              "        (bn3): BatchNorm2d(1024, eps=1e-05, momentum=0.1, affine=True, track_running_stats=True)\n",
              "        (relu): ReLU(inplace=True)\n",
              "      )\n",
              "      (4): Bottleneck(\n",
              "        (conv1): Conv2d(1024, 256, kernel_size=(1, 1), stride=(1, 1), bias=False)\n",
              "        (bn1): BatchNorm2d(256, eps=1e-05, momentum=0.1, affine=True, track_running_stats=True)\n",
              "        (conv2): Conv2d(256, 256, kernel_size=(3, 3), stride=(1, 1), padding=(1, 1), bias=False)\n",
              "        (bn2): BatchNorm2d(256, eps=1e-05, momentum=0.1, affine=True, track_running_stats=True)\n",
              "        (conv3): Conv2d(256, 1024, kernel_size=(1, 1), stride=(1, 1), bias=False)\n",
              "        (bn3): BatchNorm2d(1024, eps=1e-05, momentum=0.1, affine=True, track_running_stats=True)\n",
              "        (relu): ReLU(inplace=True)\n",
              "      )\n",
              "      (5): Bottleneck(\n",
              "        (conv1): Conv2d(1024, 256, kernel_size=(1, 1), stride=(1, 1), bias=False)\n",
              "        (bn1): BatchNorm2d(256, eps=1e-05, momentum=0.1, affine=True, track_running_stats=True)\n",
              "        (conv2): Conv2d(256, 256, kernel_size=(3, 3), stride=(1, 1), padding=(1, 1), bias=False)\n",
              "        (bn2): BatchNorm2d(256, eps=1e-05, momentum=0.1, affine=True, track_running_stats=True)\n",
              "        (conv3): Conv2d(256, 1024, kernel_size=(1, 1), stride=(1, 1), bias=False)\n",
              "        (bn3): BatchNorm2d(1024, eps=1e-05, momentum=0.1, affine=True, track_running_stats=True)\n",
              "        (relu): ReLU(inplace=True)\n",
              "      )\n",
              "    )\n",
              "    (layer4): Sequential(\n",
              "      (0): Bottleneck(\n",
              "        (conv1): Conv2d(1024, 512, kernel_size=(1, 1), stride=(1, 1), bias=False)\n",
              "        (bn1): BatchNorm2d(512, eps=1e-05, momentum=0.1, affine=True, track_running_stats=True)\n",
              "        (conv2): Conv2d(512, 512, kernel_size=(3, 3), stride=(2, 2), padding=(1, 1), bias=False)\n",
              "        (bn2): BatchNorm2d(512, eps=1e-05, momentum=0.1, affine=True, track_running_stats=True)\n",
              "        (conv3): Conv2d(512, 2048, kernel_size=(1, 1), stride=(1, 1), bias=False)\n",
              "        (bn3): BatchNorm2d(2048, eps=1e-05, momentum=0.1, affine=True, track_running_stats=True)\n",
              "        (relu): ReLU(inplace=True)\n",
              "        (downsample): Sequential(\n",
              "          (0): Conv2d(1024, 2048, kernel_size=(1, 1), stride=(2, 2), bias=False)\n",
              "          (1): BatchNorm2d(2048, eps=1e-05, momentum=0.1, affine=True, track_running_stats=True)\n",
              "        )\n",
              "      )\n",
              "      (1): Bottleneck(\n",
              "        (conv1): Conv2d(2048, 512, kernel_size=(1, 1), stride=(1, 1), bias=False)\n",
              "        (bn1): BatchNorm2d(512, eps=1e-05, momentum=0.1, affine=True, track_running_stats=True)\n",
              "        (conv2): Conv2d(512, 512, kernel_size=(3, 3), stride=(1, 1), padding=(1, 1), bias=False)\n",
              "        (bn2): BatchNorm2d(512, eps=1e-05, momentum=0.1, affine=True, track_running_stats=True)\n",
              "        (conv3): Conv2d(512, 2048, kernel_size=(1, 1), stride=(1, 1), bias=False)\n",
              "        (bn3): BatchNorm2d(2048, eps=1e-05, momentum=0.1, affine=True, track_running_stats=True)\n",
              "        (relu): ReLU(inplace=True)\n",
              "      )\n",
              "      (2): Bottleneck(\n",
              "        (conv1): Conv2d(2048, 512, kernel_size=(1, 1), stride=(1, 1), bias=False)\n",
              "        (bn1): BatchNorm2d(512, eps=1e-05, momentum=0.1, affine=True, track_running_stats=True)\n",
              "        (conv2): Conv2d(512, 512, kernel_size=(3, 3), stride=(1, 1), padding=(1, 1), bias=False)\n",
              "        (bn2): BatchNorm2d(512, eps=1e-05, momentum=0.1, affine=True, track_running_stats=True)\n",
              "        (conv3): Conv2d(512, 2048, kernel_size=(1, 1), stride=(1, 1), bias=False)\n",
              "        (bn3): BatchNorm2d(2048, eps=1e-05, momentum=0.1, affine=True, track_running_stats=True)\n",
              "        (relu): ReLU(inplace=True)\n",
              "      )\n",
              "    )\n",
              "    (avgpool): AdaptiveAvgPool2d(output_size=(1, 1))\n",
              "    (fc): Linear(in_features=2048, out_features=10, bias=True)\n",
              "  )\n",
              ")"
            ]
          },
          "metadata": {},
          "execution_count": 25
        }
      ],
      "source": [
        "# Load best model\n",
        "network_2 = CustomResNet()\n",
        "\n",
        "network_2.load_state_dict(torch.load(path_2))\n",
        "network_2.eval()\n",
        "network_2.to(device)"
      ]
    },
    {
      "cell_type": "code",
      "execution_count": null,
      "id": "670784fa",
      "metadata": {
        "id": "670784fa"
      },
      "outputs": [],
      "source": [
        "test_labels, test_preds = predict(network_2, test_dataloader)"
      ]
    },
    {
      "cell_type": "code",
      "execution_count": null,
      "id": "13b84834",
      "metadata": {
        "colab": {
          "base_uri": "https://localhost:8080/"
        },
        "id": "13b84834",
        "outputId": "10475f30-18b3-48e8-ecb7-fe650c8ec85e",
        "scrolled": true
      },
      "outputs": [
        {
          "output_type": "stream",
          "name": "stdout",
          "text": [
            "              precision    recall  f1-score   support\n",
            "\n",
            "           0     0.8004    0.8540    0.8263      1000\n",
            "           1     0.9857    0.9640    0.9747      1000\n",
            "           2     0.7618    0.8220    0.7908      1000\n",
            "           3     0.8361    0.9030    0.8683      1000\n",
            "           4     0.7866    0.7890    0.7878      1000\n",
            "           5     0.9620    0.9620    0.9620      1000\n",
            "           6     0.7423    0.5760    0.6486      1000\n",
            "           7     0.9412    0.9450    0.9431      1000\n",
            "           8     0.9614    0.9710    0.9662      1000\n",
            "           9     0.9571    0.9600    0.9586      1000\n",
            "\n",
            "    accuracy                         0.8746     10000\n",
            "   macro avg     0.8735    0.8746    0.8726     10000\n",
            "weighted avg     0.8735    0.8746    0.8726     10000\n",
            "\n"
          ]
        }
      ],
      "source": [
        "print(classification_report(test_labels, test_preds, digits=4))"
      ]
    },
    {
      "cell_type": "code",
      "execution_count": null,
      "id": "ad6291d8",
      "metadata": {
        "id": "ad6291d8"
      },
      "outputs": [],
      "source": []
    }
  ],
  "metadata": {
    "accelerator": "GPU",
    "colab": {
      "provenance": [],
      "gpuType": "T4"
    },
    "kernelspec": {
      "display_name": "Python 3",
      "name": "python3"
    },
    "language_info": {
      "codemirror_mode": {
        "name": "ipython",
        "version": 3
      },
      "file_extension": ".py",
      "mimetype": "text/x-python",
      "name": "python",
      "nbconvert_exporter": "python",
      "pygments_lexer": "ipython3",
      "version": "3.9.5"
    }
  },
  "nbformat": 4,
  "nbformat_minor": 5
}