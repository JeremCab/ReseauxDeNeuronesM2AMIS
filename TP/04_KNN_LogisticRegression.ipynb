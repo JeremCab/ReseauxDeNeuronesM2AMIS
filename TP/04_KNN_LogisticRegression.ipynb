{
 "cells": [
  {
   "cell_type": "markdown",
   "id": "35275218",
   "metadata": {},
   "source": [
    "# K-Nearest Neighbors (KNN) and Logistic Regression"
   ]
  },
  {
   "cell_type": "markdown",
   "id": "d44c4232",
   "metadata": {},
   "source": [
    "We are going to apply a **K-Nearsest Neighbors** and a **Logistic Regression** for classification on a dataset about COVID 19."
   ]
  },
  {
   "cell_type": "markdown",
   "id": "def9f01d",
   "metadata": {},
   "source": [
    "**K-Nearsest Neighbors (KNN)**\n",
    "<img src=\"files/figures/KNN.jpg\" width=\"350px\"/>\n",
    "\n",
    "https://fr.wikipedia.org/wiki/M%C3%A9thode_des_k_plus_proches_voisins"
   ]
  },
  {
   "cell_type": "markdown",
   "id": "a3f89853",
   "metadata": {},
   "source": [
    "**Logistic Regression**\n",
    "<img src=\"files/figures/LogReg.jpg\" width=\"450px\"/>\n",
    "\n",
    "https://medium.datadriveninvestor.com/logistic-regression-explained-f51d32be904e"
   ]
  },
  {
   "cell_type": "markdown",
   "id": "d6762e52",
   "metadata": {},
   "source": [
    "## Libraries"
   ]
  },
  {
   "cell_type": "code",
   "execution_count": 248,
   "id": "166330a6",
   "metadata": {
    "_cell_guid": "b1076dfc-b9ad-4769-8c92-a6c4dae69d19",
    "_uuid": "8f2839f25d086af736a60e9eeb907d3b93b6e0e5",
    "execution": {
     "iopub.execute_input": "2022-07-29T07:35:05.277645Z",
     "iopub.status.busy": "2022-07-29T07:35:05.276207Z",
     "iopub.status.idle": "2022-07-29T07:35:07.350589Z",
     "shell.execute_reply": "2022-07-29T07:35:07.349334Z"
    },
    "papermill": {
     "duration": 2.094714,
     "end_time": "2022-07-29T07:35:07.353606",
     "exception": false,
     "start_time": "2022-07-29T07:35:05.258892",
     "status": "completed"
    },
    "scrolled": false,
    "tags": []
   },
   "outputs": [],
   "source": [
    "import numpy as np\n",
    "import pandas as pd\n",
    "import seaborn as sns\n",
    "\n",
    "from sklearn.impute import SimpleImputer\n",
    "from sklearn.preprocessing import StandardScaler\n",
    "from sklearn.model_selection import train_test_split, GridSearchCV\n",
    "\n",
    "from sklearn.metrics import classification_report, plot_roc_curve\n",
    "\n",
    "from sklearn.neighbors import KNeighborsClassifier\n",
    "from sklearn.linear_model import LogisticRegression\n",
    "\n",
    "import matplotlib.pyplot as plt"
   ]
  },
  {
   "cell_type": "markdown",
   "id": "7afbbd76",
   "metadata": {
    "papermill": {
     "duration": 0.014225,
     "end_time": "2022-07-29T07:35:07.382586",
     "exception": false,
     "start_time": "2022-07-29T07:35:07.368361",
     "status": "completed"
    },
    "tags": []
   },
   "source": [
    "## Data"
   ]
  },
  {
   "cell_type": "markdown",
   "id": "8d2f1060",
   "metadata": {},
   "source": [
    "- Download the **COVID-19 patient pre-condition dataset** (csv file) kaggle:<br>\n",
    "https://www.kaggle.com/datasets/tanmoyx/covid19-patient-precondition-dataset\n",
    "- Import the data and look at them with `pandas`.\n",
    "- The goal is to predict the binary column `\"icu\"` (Intensive Care Units) using the other columns.\n",
    "- Check pairwise correlations among variables"
   ]
  },
  {
   "cell_type": "code",
   "execution_count": 252,
   "id": "8165eb95",
   "metadata": {
    "execution": {
     "iopub.execute_input": "2022-07-29T07:35:07.414851Z",
     "iopub.status.busy": "2022-07-29T07:35:07.414434Z",
     "iopub.status.idle": "2022-07-29T07:35:09.636517Z",
     "shell.execute_reply": "2022-07-29T07:35:09.635338Z"
    },
    "papermill": {
     "duration": 2.241979,
     "end_time": "2022-07-29T07:35:09.638947",
     "exception": false,
     "start_time": "2022-07-29T07:35:07.396968",
     "status": "completed"
    },
    "tags": []
   },
   "outputs": [],
   "source": [
    "df = pd.read_csv('../z_data/covid/covid.csv')"
   ]
  },
  {
   "cell_type": "code",
   "execution_count": null,
   "id": "f91dbef4",
   "metadata": {},
   "outputs": [],
   "source": []
  },
  {
   "cell_type": "code",
   "execution_count": null,
   "id": "94c1eb5d",
   "metadata": {},
   "outputs": [],
   "source": []
  },
  {
   "cell_type": "code",
   "execution_count": null,
   "id": "8a730e6e",
   "metadata": {},
   "outputs": [],
   "source": []
  },
  {
   "cell_type": "markdown",
   "id": "765b7624",
   "metadata": {},
   "source": [
    "## Data Preprocessing"
   ]
  },
  {
   "cell_type": "markdown",
   "id": "bbef5a97",
   "metadata": {},
   "source": [
    "- Check if there are missing values.\n",
    "- Drop the column `\"id\"`.\n",
    "- Drop the lines where the target variable `\"icu\"` is non applicable (=97), ignored (=98) or non specified (=99).\n",
    "- For every binary variables, replace the values that are not 1 or 2 by np.nan; then replace all 2's by 0's.<br>\n",
    "(cf. file catalogs.xlsx for further details).\n",
    "- Split the data into train and test sets (80%/20%) (`train_test_split()`).\n",
    "- Replace missig data (`np.nan`) by their medians.<br>\n",
    "https://scikit-learn.org/stable/modules/generated/sklearn.impute.SimpleImputer.html<br>\n",
    "Fit an \"imputer\" *on the train set* and then transform both train and test sets."
   ]
  },
  {
   "cell_type": "code",
   "execution_count": null,
   "id": "c1d7d398",
   "metadata": {},
   "outputs": [],
   "source": []
  },
  {
   "cell_type": "code",
   "execution_count": null,
   "id": "74552c85",
   "metadata": {},
   "outputs": [],
   "source": []
  },
  {
   "cell_type": "code",
   "execution_count": null,
   "id": "a698807e",
   "metadata": {},
   "outputs": [],
   "source": []
  },
  {
   "cell_type": "markdown",
   "id": "00edaf70",
   "metadata": {},
   "source": [
    "## K-Nearest Neighbors"
   ]
  },
  {
   "cell_type": "markdown",
   "id": "593bb476",
   "metadata": {},
   "source": [
    "- Instanciate a **KNN** (`KNeighborsClassifier()`).\n",
    "- Do a **grid search with cross validation** on the nb of neighbors for 1 to 15 (`GridSearchCV()`):<br>\n",
    "`np.arange(1, 15)`.\n",
    "- Using the best model obtained via grid search, compute the **predictions** on the train and test sets.\n",
    "- Compute the **classification reports** on the train and test sets (`classification_report`) and **ROC curve** on the test set (`plot_roc_curve`)."
   ]
  },
  {
   "cell_type": "code",
   "execution_count": null,
   "id": "9647f13f",
   "metadata": {},
   "outputs": [],
   "source": []
  },
  {
   "cell_type": "code",
   "execution_count": null,
   "id": "ac8edae9",
   "metadata": {},
   "outputs": [],
   "source": []
  },
  {
   "cell_type": "code",
   "execution_count": null,
   "id": "c6d94aa4",
   "metadata": {},
   "outputs": [],
   "source": []
  },
  {
   "cell_type": "markdown",
   "id": "70eeb1c6",
   "metadata": {},
   "source": [
    "## Logistic Regression"
   ]
  },
  {
   "cell_type": "markdown",
   "id": "45feb88d",
   "metadata": {},
   "source": [
    "- Instanciate a **logistic regression** (`LogisticRegression()`).\n",
    "- Do a **grid search with cross validation** on the regularization parameter `C` from 1e-3 to 1e+3 (`GridSearchCV()`):<br>\n",
    "`np.logspace(-3, 3, num=7)`.\n",
    "- Using the best model obtained via grid search, compute the predictions on the train and test sets.\n",
    "- Compute the **classification reports** on the train and test sets (`classification_report`) and **ROC curve** on the test set (`plot_roc_curve`)."
   ]
  },
  {
   "cell_type": "code",
   "execution_count": null,
   "id": "5bb8a9ed",
   "metadata": {},
   "outputs": [],
   "source": []
  },
  {
   "cell_type": "code",
   "execution_count": null,
   "id": "464302ce",
   "metadata": {},
   "outputs": [],
   "source": []
  },
  {
   "cell_type": "code",
   "execution_count": null,
   "id": "5e63dbeb",
   "metadata": {},
   "outputs": [],
   "source": []
  }
 ],
 "metadata": {
  "kernelspec": {
   "display_name": "Python 3 (ipykernel)",
   "language": "python",
   "name": "python3"
  },
  "language_info": {
   "codemirror_mode": {
    "name": "ipython",
    "version": 3
   },
   "file_extension": ".py",
   "mimetype": "text/x-python",
   "name": "python",
   "nbconvert_exporter": "python",
   "pygments_lexer": "ipython3",
   "version": "3.9.5"
  },
  "papermill": {
   "default_parameters": {},
   "duration": 142.631025,
   "end_time": "2022-07-29T07:37:16.433964",
   "environment_variables": {},
   "exception": null,
   "input_path": "__notebook__.ipynb",
   "output_path": "__notebook__.ipynb",
   "parameters": {},
   "start_time": "2022-07-29T07:34:53.802939",
   "version": "2.3.4"
  }
 },
 "nbformat": 4,
 "nbformat_minor": 5
}
