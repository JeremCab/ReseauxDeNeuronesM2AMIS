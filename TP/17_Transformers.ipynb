{
 "cells": [
  {
   "cell_type": "markdown",
   "id": "585a3167-5341-404d-a1bd-ceb6a96a147c",
   "metadata": {},
   "source": [
    "# Transformers and Attention"
   ]
  },
  {
   "cell_type": "markdown",
   "id": "b6c341a0-25e2-4850-8a93-294ac14b349b",
   "metadata": {},
   "source": [
    "## Librairies"
   ]
  },
  {
   "cell_type": "code",
   "execution_count": 1,
   "id": "d431ee69-37dd-4c59-8706-d940dd77a7ac",
   "metadata": {},
   "outputs": [],
   "source": [
    "import torch\n",
    "import torch.nn as nn\n",
    "import torch.nn.functional as F\n",
    "\n",
    "import random\n",
    "import numpy as np\n",
    "\n",
    "import matplotlib.pyplot as plt\n",
    "import seaborn as sns"
   ]
  },
  {
   "cell_type": "markdown",
   "id": "77b4b0b5-e9d6-401b-a858-deb0aa7ea7e3",
   "metadata": {},
   "source": [
    "## Task: \"Predict symbol after last A\"\n",
    "\n",
    "- On donne une séquence de lettres (par ex. [B, A, C, A, D]);\n",
    "- On veut prédire le symbole juste après le dernier \"A\" (ici D);\n",
    "- S’il n’y a pas de \"A\", on retourne un symbole par défaut (A dans notre cas).\n",
    "\n",
    "Un Recurrent Neural Network (RNN) ou Multi Layer Perceptron (MLP) séquentiel doit parcourir la séquence entière et \"mémoriser\" où se trouve le dernier A. C’est possible, mais difficile à apprendre et lent à converger.\n",
    "\n",
    "Un modèle à **self-attention** peut, au contraire, apprendre très vite à \"pointer\" directement vers la dernière position contenant A, puis \"regarder\" le symbole juste après ce dernier A."
   ]
  },
  {
   "cell_type": "markdown",
   "id": "ce75c845-af5a-48f2-828e-4099c162b76d",
   "metadata": {},
   "source": [
    "## Dataset\n",
    "\n",
    "- Génération du dataset"
   ]
  },
  {
   "cell_type": "code",
   "execution_count": 335,
   "id": "c4b9d8d5-9ed9-4276-b02f-d90c7d88dd44",
   "metadata": {},
   "outputs": [],
   "source": [
    "VOCAB = [\"A\", \"B\", \"C\", \"D\", \"E\"]\n",
    "VOCAB_SIZE = len(VOCAB)\n",
    "CHAR_TO_IDX = {ch: i for i, ch in enumerate(VOCAB)}\n",
    "IDX_TO_CHAR = {i: ch for ch, i in CHAR_TO_IDX.items()}\n",
    "\n",
    "# Pour les petites séquences, le MLP marche très bien...\n",
    "SEQ_LEN = 20  # longueur des séquences\n",
    "N_SAMPLES = 2000"
   ]
  },
  {
   "cell_type": "code",
   "execution_count": 336,
   "id": "043ae3c5-5b49-4140-adc9-e28fec4bb47f",
   "metadata": {},
   "outputs": [],
   "source": [
    "def generate_example():\n",
    "    seq = [random.choice(VOCAB) for _ in range(SEQ_LEN)]\n",
    "    # trouver la dernière occurrence de 'A'\n",
    "    if \"A\" in seq and seq.index(\"A\") != len(seq) - 1:\n",
    "        last_idx = max(i for i, x in enumerate(seq) if x == \"A\")\n",
    "        if last_idx < len(seq) - 1:\n",
    "            target = seq[last_idx + 1]\n",
    "        else:\n",
    "            target = \"A\"\n",
    "    else:\n",
    "        target = \"A\"\n",
    "    return seq, target"
   ]
  },
  {
   "cell_type": "code",
   "execution_count": 337,
   "id": "1fa017dc-2f15-4a30-b9ee-c19e9fc55ca5",
   "metadata": {},
   "outputs": [
    {
     "data": {
      "text/plain": [
       "(['B',\n",
       "  'E',\n",
       "  'A',\n",
       "  'A',\n",
       "  'E',\n",
       "  'D',\n",
       "  'C',\n",
       "  'D',\n",
       "  'E',\n",
       "  'A',\n",
       "  'D',\n",
       "  'A',\n",
       "  'A',\n",
       "  'E',\n",
       "  'B',\n",
       "  'A',\n",
       "  'A',\n",
       "  'D',\n",
       "  'B',\n",
       "  'D'],\n",
       " 'D')"
      ]
     },
     "execution_count": 337,
     "metadata": {},
     "output_type": "execute_result"
    }
   ],
   "source": [
    "generate_example()"
   ]
  },
  {
   "cell_type": "code",
   "execution_count": 338,
   "id": "68ed4c6c-0c45-461a-bcfa-3f0bae1c598e",
   "metadata": {},
   "outputs": [],
   "source": [
    "def generate_dataset(n=N_SAMPLES):\n",
    "    data, labels = [], []\n",
    "    for _ in range(n):\n",
    "        seq, tgt = generate_example()\n",
    "        data.append([CHAR_TO_IDX[c] for c in seq])\n",
    "        labels.append(CHAR_TO_IDX[tgt])\n",
    "    return torch.tensor(data), torch.tensor(labels)"
   ]
  },
  {
   "cell_type": "code",
   "execution_count": 339,
   "id": "ffe1dd56-431d-4e0c-9a97-2f0aaa9ac17a",
   "metadata": {},
   "outputs": [],
   "source": [
    "train_x, train_y = generate_dataset(1500)\n",
    "test_x, test_y = generate_dataset(500)"
   ]
  },
  {
   "cell_type": "code",
   "execution_count": 340,
   "id": "6eabd074-3621-4472-9e55-8118266d21a9",
   "metadata": {},
   "outputs": [
    {
     "data": {
      "text/plain": [
       "(tensor([[1, 3, 0,  ..., 2, 0, 4],\n",
       "         [2, 0, 2,  ..., 2, 1, 1],\n",
       "         [2, 3, 0,  ..., 3, 0, 2],\n",
       "         ...,\n",
       "         [2, 1, 2,  ..., 0, 2, 0],\n",
       "         [1, 3, 0,  ..., 4, 4, 1],\n",
       "         [2, 3, 4,  ..., 0, 0, 1]]),\n",
       " tensor([4, 3, 2,  ..., 0, 1, 1]))"
      ]
     },
     "execution_count": 340,
     "metadata": {},
     "output_type": "execute_result"
    }
   ],
   "source": [
    "train_x, train_y"
   ]
  },
  {
   "cell_type": "markdown",
   "id": "e4ed192c-e936-47dc-a838-470d9d02baa1",
   "metadata": {},
   "source": [
    "## Models"
   ]
  },
  {
   "cell_type": "code",
   "execution_count": 341,
   "id": "578995c2-e03a-4973-a493-4ae8e7359c29",
   "metadata": {},
   "outputs": [],
   "source": [
    "EMBED_DIM = 32  # embedding plus grand\n",
    "HIDDEN_DIM = 64"
   ]
  },
  {
   "cell_type": "code",
   "execution_count": 348,
   "id": "2d9884ab-5ad2-416d-a77b-69af5976d82e",
   "metadata": {},
   "outputs": [],
   "source": [
    "# --- Simple MLP (no attention) --- #\n",
    "\n",
    "class SimpleMLP(nn.Module):\n",
    "    def __init__(self):\n",
    "        super().__init__()\n",
    "        self.embed = nn.Embedding(VOCAB_SIZE, EMBED_DIM)\n",
    "        self.fc1 = nn.Linear(SEQ_LEN * EMBED_DIM, HIDDEN_DIM)\n",
    "        self.fc2 = nn.Linear(HIDDEN_DIM, VOCAB_SIZE)\n",
    "\n",
    "    def forward(self, x):\n",
    "        emb = self.embed(x)  # (batch, seq, emb)\n",
    "        flat = emb.view(x.size(0), -1)\n",
    "        h = F.relu(self.fc1(flat))\n",
    "        return self.fc2(h)"
   ]
  },
  {
   "cell_type": "code",
   "execution_count": 349,
   "id": "c408b92c-39aa-40ee-824c-f6c58531ec21",
   "metadata": {},
   "outputs": [],
   "source": [
    "# --- Mini Transformer Model --- #\n",
    "\n",
    "class MiniTransformer(nn.Module):\n",
    "    def __init__(self, vocab_size=VOCAB_SIZE, seq_len=SEQ_LEN, embed_dim=EMBED_DIM, heads=1): # 1 heads only\n",
    "        super().__init__()\n",
    "        self.embed = nn.Embedding(vocab_size, embed_dim)\n",
    "        self.pos_embed = nn.Embedding(seq_len, embed_dim)\n",
    "        encoder_layer = nn.TransformerEncoderLayer(embed_dim, \n",
    "                                                   heads, \n",
    "                                                   dim_feedforward=HIDDEN_DIM*2,  # augmented dim\n",
    "                                                   batch_first=True)\n",
    "        self.encoder = nn.TransformerEncoder(encoder_layer, num_layers=3)         # 3 blocks!\n",
    "        self.fc = nn.Linear(embed_dim, vocab_size)\n",
    "\n",
    "    def forward(self, x):\n",
    "        pos_ids = torch.arange(x.shape[1], device=x.device).unsqueeze(0)\n",
    "        emb = self.embed(x) + self.pos_embed(pos_ids)\n",
    "        out = self.encoder(emb)\n",
    "        pooled = out[:, -1, :]\n",
    "        return self.fc(pooled)"
   ]
  },
  {
   "cell_type": "code",
   "execution_count": 350,
   "id": "c135ef6e-f078-4d2e-86d3-f59ff1766c26",
   "metadata": {},
   "outputs": [],
   "source": [
    "# --- Training loop --- #\n",
    "\n",
    "def train_model(model, lr=1e-3, epochs=300):\n",
    "    \n",
    "    optim = torch.optim.Adam(model.parameters(), lr=lr)\n",
    "    loss_fn = nn.CrossEntropyLoss()\n",
    "    \n",
    "    for epoch in range(epochs):\n",
    "        model.train()\n",
    "        optim.zero_grad()\n",
    "        logits = model(train_x)         # full training set\n",
    "        loss = loss_fn(logits, train_y) # full training set\n",
    "        loss.backward()\n",
    "        optim.step()\n",
    "\n",
    "        if (epoch + 1) % 5 == 0:\n",
    "            model.eval()\n",
    "            with torch.no_grad():\n",
    "                pred = model(test_x).argmax(dim=1)\n",
    "                acc = (pred == test_y).float().mean().item()\n",
    "            print(f\"Époque {epoch+1:02d} | Perte = {loss.item():.3f} | Précision test = {acc*100:.1f}%\")"
   ]
  },
  {
   "cell_type": "code",
   "execution_count": 351,
   "id": "5dae5d62-68fb-407d-9bc1-f2a98f07b0d0",
   "metadata": {},
   "outputs": [],
   "source": [
    "def count_parameters(model):\n",
    "    return sum(p.numel() for p in model.parameters() if p.requires_grad)"
   ]
  },
  {
   "cell_type": "markdown",
   "id": "7ab868a5-c638-4c07-9b63-df4b0eb7d7ef",
   "metadata": {},
   "source": [
    "## Training"
   ]
  },
  {
   "cell_type": "code",
   "execution_count": 352,
   "id": "dc4442b8-fb90-4502-a0d2-991863b5464a",
   "metadata": {},
   "outputs": [
    {
     "name": "stdout",
     "output_type": "stream",
     "text": [
      "=== Entraînement du MLP ===\n",
      "\n",
      "Numer of parameters: 41509\n",
      "\n",
      "Époque 05 | Perte = 1.457 | Précision test = 36.6%\n",
      "Époque 10 | Perte = 1.289 | Précision test = 40.6%\n",
      "Époque 15 | Perte = 1.163 | Précision test = 44.2%\n",
      "Époque 20 | Perte = 1.059 | Précision test = 47.2%\n",
      "Époque 25 | Perte = 0.969 | Précision test = 51.4%\n",
      "Époque 30 | Perte = 0.889 | Précision test = 53.6%\n",
      "Époque 35 | Perte = 0.820 | Précision test = 54.8%\n",
      "Époque 40 | Perte = 0.759 | Précision test = 55.2%\n",
      "Époque 45 | Perte = 0.703 | Précision test = 55.8%\n",
      "Époque 50 | Perte = 0.649 | Précision test = 55.4%\n",
      "Époque 55 | Perte = 0.596 | Précision test = 55.0%\n",
      "Époque 60 | Perte = 0.542 | Précision test = 54.8%\n",
      "Époque 65 | Perte = 0.488 | Précision test = 56.0%\n",
      "Époque 70 | Perte = 0.436 | Précision test = 55.4%\n",
      "Époque 75 | Perte = 0.386 | Précision test = 55.6%\n",
      "Époque 80 | Perte = 0.338 | Précision test = 55.6%\n",
      "Époque 85 | Perte = 0.294 | Précision test = 54.6%\n",
      "Époque 90 | Perte = 0.254 | Précision test = 54.4%\n",
      "Époque 95 | Perte = 0.218 | Précision test = 54.0%\n",
      "Époque 100 | Perte = 0.187 | Précision test = 54.0%\n",
      "Époque 105 | Perte = 0.160 | Précision test = 53.8%\n",
      "Époque 110 | Perte = 0.137 | Précision test = 54.4%\n",
      "Époque 115 | Perte = 0.118 | Précision test = 54.2%\n",
      "Époque 120 | Perte = 0.102 | Précision test = 54.0%\n",
      "Époque 125 | Perte = 0.088 | Précision test = 54.8%\n",
      "Époque 130 | Perte = 0.077 | Précision test = 55.0%\n",
      "Époque 135 | Perte = 0.068 | Précision test = 55.0%\n",
      "Époque 140 | Perte = 0.060 | Précision test = 54.6%\n",
      "Époque 145 | Perte = 0.053 | Précision test = 54.6%\n",
      "Époque 150 | Perte = 0.047 | Précision test = 55.2%\n",
      "Époque 155 | Perte = 0.043 | Précision test = 55.4%\n",
      "Époque 160 | Perte = 0.039 | Précision test = 55.6%\n",
      "Époque 165 | Perte = 0.035 | Précision test = 55.8%\n",
      "Époque 170 | Perte = 0.032 | Précision test = 56.0%\n",
      "Époque 175 | Perte = 0.029 | Précision test = 56.0%\n",
      "Époque 180 | Perte = 0.027 | Précision test = 56.0%\n",
      "Époque 185 | Perte = 0.025 | Précision test = 56.2%\n",
      "Époque 190 | Perte = 0.023 | Précision test = 56.0%\n",
      "Époque 195 | Perte = 0.022 | Précision test = 56.0%\n",
      "Époque 200 | Perte = 0.020 | Précision test = 56.0%\n",
      "Époque 205 | Perte = 0.019 | Précision test = 56.2%\n",
      "Époque 210 | Perte = 0.018 | Précision test = 56.2%\n",
      "Époque 215 | Perte = 0.017 | Précision test = 56.2%\n",
      "Époque 220 | Perte = 0.016 | Précision test = 56.0%\n",
      "Époque 225 | Perte = 0.015 | Précision test = 55.8%\n",
      "Époque 230 | Perte = 0.014 | Précision test = 55.8%\n",
      "Époque 235 | Perte = 0.013 | Précision test = 55.8%\n",
      "Époque 240 | Perte = 0.013 | Précision test = 55.8%\n",
      "Époque 245 | Perte = 0.012 | Précision test = 55.8%\n",
      "Époque 250 | Perte = 0.011 | Précision test = 56.0%\n",
      "Époque 255 | Perte = 0.011 | Précision test = 56.0%\n",
      "Époque 260 | Perte = 0.010 | Précision test = 56.2%\n",
      "Époque 265 | Perte = 0.010 | Précision test = 56.2%\n",
      "Époque 270 | Perte = 0.010 | Précision test = 56.2%\n",
      "Époque 275 | Perte = 0.009 | Précision test = 56.2%\n",
      "Époque 280 | Perte = 0.009 | Précision test = 56.2%\n",
      "Époque 285 | Perte = 0.008 | Précision test = 56.2%\n",
      "Époque 290 | Perte = 0.008 | Précision test = 56.2%\n",
      "Époque 295 | Perte = 0.008 | Précision test = 56.4%\n",
      "Époque 300 | Perte = 0.007 | Précision test = 56.4%\n"
     ]
    }
   ],
   "source": [
    "# --- Training MLP --- #\n",
    "\n",
    "print(\"=== Entraînement du MLP ===\\n\")\n",
    "\n",
    "mlp = SimpleMLP()\n",
    "\n",
    "print(f\"Numer of parameters: {count_parameters(mlp)}\\n\")\n",
    "\n",
    "train_model(mlp)"
   ]
  },
  {
   "cell_type": "code",
   "execution_count": 353,
   "id": "4bb03925-5eb3-481a-8c02-5516af397cc6",
   "metadata": {},
   "outputs": [
    {
     "name": "stdout",
     "output_type": "stream",
     "text": [
      "\n",
      "=== Entraînement du modèle à Attention ===\n",
      "\n",
      "Numer of parameters: 39077 ~ 41509 !\n",
      "\n",
      "Époque 05 | Perte = 1.274 | Précision test = 44.6%\n",
      "Époque 10 | Perte = 1.137 | Précision test = 51.4%\n",
      "Époque 15 | Perte = 1.098 | Précision test = 52.4%\n",
      "Époque 20 | Perte = 1.082 | Précision test = 52.2%\n",
      "Époque 25 | Perte = 1.062 | Précision test = 53.8%\n",
      "Époque 30 | Perte = 1.044 | Précision test = 51.6%\n",
      "Époque 35 | Perte = 1.020 | Précision test = 53.0%\n",
      "Époque 40 | Perte = 0.999 | Précision test = 56.4%\n",
      "Époque 45 | Perte = 0.965 | Précision test = 60.2%\n",
      "Époque 50 | Perte = 0.928 | Précision test = 61.8%\n",
      "Époque 55 | Perte = 0.890 | Précision test = 62.6%\n",
      "Époque 60 | Perte = 0.833 | Précision test = 64.8%\n",
      "Époque 65 | Perte = 0.775 | Précision test = 65.2%\n",
      "Époque 70 | Perte = 0.742 | Précision test = 66.6%\n",
      "Époque 75 | Perte = 0.711 | Précision test = 67.2%\n",
      "Époque 80 | Perte = 0.660 | Précision test = 68.0%\n",
      "Époque 85 | Perte = 0.633 | Précision test = 70.4%\n",
      "Époque 90 | Perte = 0.598 | Précision test = 73.6%\n",
      "Époque 95 | Perte = 0.557 | Précision test = 78.0%\n",
      "Époque 100 | Perte = 0.521 | Précision test = 81.4%\n",
      "Époque 105 | Perte = 0.479 | Précision test = 84.6%\n",
      "Époque 110 | Perte = 0.422 | Précision test = 88.6%\n",
      "Époque 115 | Perte = 0.402 | Précision test = 88.4%\n",
      "Époque 120 | Perte = 0.336 | Précision test = 90.6%\n",
      "Époque 125 | Perte = 0.340 | Précision test = 91.0%\n",
      "Époque 130 | Perte = 0.309 | Précision test = 92.2%\n",
      "Époque 135 | Perte = 0.295 | Précision test = 92.0%\n",
      "Époque 140 | Perte = 0.265 | Précision test = 92.2%\n",
      "Époque 145 | Perte = 0.252 | Précision test = 92.6%\n",
      "Époque 150 | Perte = 0.239 | Précision test = 92.8%\n",
      "Époque 155 | Perte = 0.217 | Précision test = 94.0%\n",
      "Époque 160 | Perte = 0.215 | Précision test = 94.4%\n",
      "Époque 165 | Perte = 0.192 | Précision test = 94.6%\n",
      "Époque 170 | Perte = 0.205 | Précision test = 95.0%\n",
      "Époque 175 | Perte = 0.185 | Précision test = 95.4%\n",
      "Époque 180 | Perte = 0.172 | Précision test = 95.2%\n",
      "Époque 185 | Perte = 0.176 | Précision test = 94.8%\n",
      "Époque 190 | Perte = 0.171 | Précision test = 95.6%\n",
      "Époque 195 | Perte = 0.163 | Précision test = 95.0%\n",
      "Époque 200 | Perte = 0.162 | Précision test = 95.2%\n",
      "Époque 205 | Perte = 0.161 | Précision test = 95.6%\n",
      "Époque 210 | Perte = 0.151 | Précision test = 95.4%\n",
      "Époque 215 | Perte = 0.155 | Précision test = 95.4%\n",
      "Époque 220 | Perte = 0.149 | Précision test = 95.2%\n",
      "Époque 225 | Perte = 0.144 | Précision test = 95.6%\n",
      "Époque 230 | Perte = 0.135 | Précision test = 95.2%\n",
      "Époque 235 | Perte = 0.147 | Précision test = 95.6%\n",
      "Époque 240 | Perte = 0.142 | Précision test = 95.6%\n",
      "Époque 245 | Perte = 0.143 | Précision test = 95.8%\n",
      "Époque 250 | Perte = 0.139 | Précision test = 95.6%\n",
      "Époque 255 | Perte = 0.132 | Précision test = 95.6%\n",
      "Époque 260 | Perte = 0.136 | Précision test = 95.8%\n",
      "Époque 265 | Perte = 0.117 | Précision test = 95.4%\n",
      "Époque 270 | Perte = 0.132 | Précision test = 95.8%\n",
      "Époque 275 | Perte = 0.119 | Précision test = 95.6%\n",
      "Époque 280 | Perte = 0.125 | Précision test = 95.6%\n",
      "Époque 285 | Perte = 0.122 | Précision test = 95.4%\n",
      "Époque 290 | Perte = 0.125 | Précision test = 95.8%\n",
      "Époque 295 | Perte = 0.108 | Précision test = 95.6%\n",
      "Époque 300 | Perte = 0.112 | Précision test = 95.6%\n"
     ]
    }
   ],
   "source": [
    "# --- Training Self-Attention Model --- #\n",
    "\n",
    "print(\"\\n=== Entraînement du modèle à Attention ===\\n\")\n",
    "\n",
    "transfo = MiniTransformer()\n",
    "\n",
    "print(f\"Numer of parameters: {count_parameters(transfo)} ~ {count_parameters(mlp)} !\\n\")\n",
    "\n",
    "train_model(transfo)"
   ]
  },
  {
   "cell_type": "markdown",
   "id": "26a72728-318f-4b51-b7d7-3d7f12330d29",
   "metadata": {},
   "source": [
    "## Visualizing Attention"
   ]
  },
  {
   "cell_type": "code",
   "execution_count": 423,
   "id": "25cf099d-5b40-4d63-80f0-e9bfb1ccaaf6",
   "metadata": {},
   "outputs": [],
   "source": [
    "# Used ChatGPT...\n",
    "\n",
    "def seq_to_indices(seq, CHAR_TO_IDX):\n",
    "    \"\"\"\n",
    "    Convertit une séquence (string, liste de caractères ou liste d'indices)\n",
    "    en tenseur d'indices de forme (1, seq_len).\n",
    "    \"\"\"\n",
    "    if isinstance(seq, str):\n",
    "        return torch.tensor([[CHAR_TO_IDX[c] for c in seq]], dtype=torch.long)\n",
    "    elif isinstance(seq, list):\n",
    "        if all(isinstance(c, str) for c in seq):\n",
    "            return torch.tensor([[CHAR_TO_IDX[c] for c in seq]], dtype=torch.long)\n",
    "        else:\n",
    "            # supposons que c’est déjà une liste d’indices\n",
    "            return torch.tensor([seq], dtype=torch.long)\n",
    "    elif torch.is_tensor(seq):\n",
    "        if seq.dim() == 1:\n",
    "            return seq.unsqueeze(0)\n",
    "        return seq\n",
    "    else:\n",
    "        raise ValueError(f\"Type de séquence inattendu : {type(seq)}\")\n",
    "\n",
    "\n",
    "def get_attention_weights(model, example_seq, CHAR_TO_IDX):\n",
    "    \"\"\"\n",
    "    Récupère les cartes d'attention (poids d'attention) de chaque couche du modèle.\n",
    "    Retourne une liste de tenseurs shape: (num_heads, seq_len, seq_len)\n",
    "    \"\"\"\n",
    "    attn_maps = []\n",
    "\n",
    "    # --- Convertir la séquence en indices ---\n",
    "    seq_indices = seq_to_indices(example_seq, CHAR_TO_IDX)\n",
    "    seq_indices = seq_indices.to(next(model.parameters()).device)\n",
    "\n",
    "    # --- Embedding + positions ---\n",
    "    pos_ids = torch.arange(seq_indices.shape[1], device=seq_indices.device).unsqueeze(0)\n",
    "    emb = model.embed(seq_indices) + model.pos_embed(pos_ids)\n",
    "\n",
    "    # --- Hook sur les sous-modules MultiheadAttention ---\n",
    "    for layer in model.encoder.layers:\n",
    "        self_attn = layer.self_attn\n",
    "        with torch.no_grad():\n",
    "            # on appelle manuellement le MHA pour extraire les poids\n",
    "            _, attn_w = self_attn(\n",
    "                emb, emb, emb, need_weights=True, average_attn_weights=False\n",
    "            )\n",
    "        attn_maps.append(attn_w[0].detach().cpu())  # shape: (num_heads, seq_len, seq_len)\n",
    "\n",
    "        # passer à la sortie de la couche suivante\n",
    "        emb = layer(emb)\n",
    "\n",
    "    return attn_maps\n",
    "\n",
    "\n",
    "def get_last_attention_values(model, seq, CHAR_TO_IDX):\n",
    "    \"\"\"\n",
    "    Extracts the Value (V) tensor from the last MultiheadAttention layer.\n",
    "    \"\"\"\n",
    "    x = torch.tensor([[CHAR_TO_IDX[c] for c in seq]], dtype=torch.long)\n",
    "    pos_ids = torch.arange(x.size(1)).unsqueeze(0)\n",
    "    emb = model.embed(x) + model.pos_embed(pos_ids)\n",
    "\n",
    "    values_collected = {}\n",
    "\n",
    "    def hook_fn(module, input, output):\n",
    "        # input = (query, key, value, attn_mask, key_padding_mask)\n",
    "        _, _, V = input[:3]\n",
    "        values_collected['V'] = V.detach().cpu()\n",
    "\n",
    "    # register hook on the last encoder layer’s self_attn\n",
    "    last_layer = model.encoder.layers[-1]\n",
    "    handle = last_layer.self_attn.register_forward_hook(hook_fn)\n",
    "\n",
    "    with torch.no_grad():\n",
    "        _ = model.encoder(emb)\n",
    "\n",
    "    handle.remove()\n",
    "    return values_collected['V']\n",
    "\n",
    "\n",
    "def visualize_attention_weights(attn_maps, example_seq):\n",
    "    \"\"\"\n",
    "    Visualise les cartes d'attention pour chaque couche du modèle.\n",
    "    Suppose qu'il n'y a qu'une seule head par couche.\n",
    "    \"\"\"\n",
    "    for layer_idx, attn in enumerate(attn_maps):\n",
    "        attn = attn.squeeze(0)  # Supprime la dimension \"head\" (de 1, seq_len, seq_len → seq_len, seq_len)\n",
    "        plt.figure(figsize=(6, 5))\n",
    "        sns.heatmap(\n",
    "            attn.numpy(),\n",
    "            xticklabels=list(example_seq),\n",
    "            yticklabels=list(example_seq),\n",
    "            cmap=\"viridis\"\n",
    "        )\n",
    "        plt.title(f\"Layer {layer_idx + 1}\")\n",
    "        plt.xlabel(\"Clés (Keys)\")\n",
    "        plt.ylabel(\"Requêtes (Queries)\")\n",
    "        plt.savefig(f\"figures/attn_weights_{layer_idx + 1}.pdf\", bbox_inches='tight')\n",
    "        plt.show()\n",
    "\n",
    "\n",
    "def visualize_token_representations(model, seq, CHAR_TO_IDX):\n",
    "    \"\"\"\n",
    "    Visualise les représentations des tokens (values finales)\n",
    "    avant le pooling / la couche finale du modèle Transformer.\n",
    "    Compatible avec MiniTransformer (embed + pos_embed).\n",
    "    \"\"\"\n",
    "    # Convertir la séquence en indices\n",
    "    x = torch.tensor([[CHAR_TO_IDX[c] for c in seq]], dtype=torch.long)\n",
    "\n",
    "    with torch.no_grad():\n",
    "        # Embedding + position\n",
    "        pos_ids = torch.arange(x.size(1), device=x.device).unsqueeze(0)\n",
    "        emb = model.embed(x) + model.pos_embed(pos_ids)\n",
    "\n",
    "        # Passer dans l'encodeur seulement (sans la tête finale)\n",
    "        encoder_out = model.encoder(emb)  # (1, seq_len, d_model)\n",
    "\n",
    "    # Supprimer la dimension batch\n",
    "    encoder_out = encoder_out.squeeze(0).detach().cpu()  # (seq_len, d_model)\n",
    "\n",
    "    # Visualiser les représentations\n",
    "    plt.figure(figsize=(6, 5))\n",
    "    sns.heatmap(\n",
    "        encoder_out.numpy(),  # no transpose\n",
    "        yticklabels=list(seq),\n",
    "        cmap=\"mako\"\n",
    "    )\n",
    "    plt.title(f\"Token representations before pooling\")#\\n(sequence: {seq})\")\n",
    "    plt.xlabel(\"Input tokens\")\n",
    "    plt.ylabel(\"Hidden dimensions\")\n",
    "    plt.savefig(\"figures/token_representation.pdf\", bbox_inches='tight')\n",
    "    plt.show()\n",
    "\n",
    "\n",
    "def visualize_attention_values(V, seq):\n",
    "    \"\"\"\n",
    "    Visualize the 'Values' tensor (V) from the last attention layer.\n",
    "    Expected input: (d_model, batch, seq_len) or similar.\n",
    "    \"\"\"\n",
    "    # Make sure we get a 2D tensor: (d_model, seq_len)\n",
    "    if V.ndim == 3:\n",
    "        # Detect which dimension is the sequence\n",
    "        if V.shape[0] == len(seq):\n",
    "            V = V.permute(2, 1, 0)  # (d_model, batch, seq_len)\n",
    "        elif V.shape[-1] == len(seq):\n",
    "            V = V.squeeze(1)        # (d_model, seq_len)\n",
    "        elif V.shape[1] == len(seq):\n",
    "            V = V.permute(0, 2, 1).squeeze(1)\n",
    "        else:\n",
    "            print(\"Warning: could not infer sequence dimension, using squeeze.\")\n",
    "            V = V.squeeze()\n",
    "    elif V.ndim == 2:\n",
    "        pass  # already fine\n",
    "    else:\n",
    "        raise ValueError(f\"Unexpected V shape: {V.shape}\")\n",
    "\n",
    "    # Ensure 2D\n",
    "    V = V.detach().cpu()\n",
    "    if V.ndim > 2:\n",
    "        V = V.squeeze()\n",
    "\n",
    "    plt.figure(figsize=(6, 5))\n",
    "    sns.heatmap(V.T.numpy(), cmap=\"magma\", yticklabels=list(seq))  # transpose\n",
    "    plt.title(\"Attention 'Values' (V) from last layer\")\n",
    "    plt.ylabel(\"Sequence tokens\")\n",
    "    plt.xlabel(\"Feature dimensions\")\n",
    "    plt.savefig(\"figures/attn_values_last.pdf\", bbox_inches='tight')\n",
    "    plt.show()\n",
    "\n",
    "\n",
    "def visualize_pooled_representation(model, seq, CHAR_TO_IDX):\n",
    "    \"\"\"\n",
    "    Visualize the pooled (final token) representation vector.\n",
    "    \"\"\"\n",
    "    x = torch.tensor([[CHAR_TO_IDX[c] for c in seq]], dtype=torch.long)\n",
    "    pos_ids = torch.arange(x.size(1), device=x.device).unsqueeze(0)\n",
    "\n",
    "    with torch.no_grad():\n",
    "        emb = model.embed(x) + model.pos_embed(pos_ids)\n",
    "        out = model.encoder(emb)\n",
    "        pooled = out[:, -1, :]  # final token representation\n",
    "        pooled = pooled.squeeze(0).detach().cpu()\n",
    "\n",
    "    plt.figure(figsize=(4.75, 0.25))\n",
    "    sns.heatmap(\n",
    "        pooled.unsqueeze(0).numpy(),\n",
    "        cmap=\"magma\",\n",
    "        cbar=False,\n",
    "        # xticklabels=[f\"{i}\" for i in range(pooled.size(0))],\n",
    "        # yticklabels=[\"pooled\"]\n",
    "    )\n",
    "    plt.title(\"Pooled representation (out[:, -1, :])\")\n",
    "    plt.xlabel(\"Hidden dimensions\")\n",
    "    plt.savefig(\"figures/pooled_representation.pdf\", bbox_inches='tight')\n",
    "    plt.show()\n",
    "\n",
    "\n",
    "def visualize_model_output(model, seq, CHAR_TO_IDX):\n",
    "    \"\"\"\n",
    "    Runs the model on a sequence and plots the output activations\n",
    "    with characters on the x-axis.\n",
    "    \"\"\"\n",
    "    # Convert sequence → tensor\n",
    "    x = seq_to_indices(seq, CHAR_TO_IDX)\n",
    "    \n",
    "    # Forward pass\n",
    "    with torch.no_grad():\n",
    "        output = model(x)  # shape: (1, VOCAB_SIZE)\n",
    "    \n",
    "    output = output.squeeze(0).detach().cpu()  # shape: (VOCAB_SIZE,)\n",
    "    \n",
    "    # Get character order from CHAR_TO_IDX\n",
    "    idx_to_char = {v: k for k, v in CHAR_TO_IDX.items()}\n",
    "    chars = [idx_to_char[i] for i in range(len(idx_to_char))]\n",
    "    \n",
    "    # Plot\n",
    "    plt.figure(figsize=(5, 2))\n",
    "    sns.barplot(x=chars, y=output.numpy())\n",
    "    plt.title(f\"Model's output\")#\\n(sequence: {seq})\")\n",
    "    plt.xlabel(\"Characters (vocabulary)\")\n",
    "    plt.ylabel(\"Logits\")\n",
    "    plt.savefig(\"figures/logits.pdf\", bbox_inches='tight')\n",
    "    plt.show()"
   ]
  },
  {
   "cell_type": "code",
   "execution_count": 424,
   "id": "529f6e19-eade-4d40-b4ba-ede10f3bf9e0",
   "metadata": {},
   "outputs": [
    {
     "name": "stdout",
     "output_type": "stream",
     "text": [
      "['D', 'D', 'E', 'D', 'E', 'E', 'A', 'E', 'C', 'C', 'B', 'E', 'C', 'E', 'E', 'B', 'B', 'A', 'B', 'C'] B\n"
     ]
    },
    {
     "data": {
      "image/png": "[encoded data removed]",
      "text/plain": [
       "<Figure size 600x500 with 2 Axes>"
      ]
     },
     "metadata": {},
     "output_type": "display_data"
    },
    {
     "data": {
      "image/png": "[encoded data removed]",
      "text/plain": [
       "<Figure size 600x500 with 2 Axes>"
      ]
     },
     "metadata": {},
     "output_type": "display_data"
    },
    {
     "data": {
      "image/png": "[encoded data removed]",
      "text/plain": [
       "<Figure size 600x500 with 2 Axes>"
      ]
     },
     "metadata": {},
     "output_type": "display_data"
    },
    {
     "data": {
      "image/png": "[encoded data removed]",
      "text/plain": [
       "<Figure size 600x500 with 2 Axes>"
      ]
     },
     "metadata": {},
     "output_type": "display_data"
    },
    {
     "data": {
      "image/png": "[encoded data removed]",
      "text/plain": [
       "<Figure size 475x25 with 1 Axes>"
      ]
     },
     "metadata": {},
     "output_type": "display_data"
    },
    {
     "data": {
      "image/png": "[encoded data removed]",
      "text/plain": [
       "<Figure size 500x200 with 1 Axes>"
      ]
     },
     "metadata": {},
     "output_type": "display_data"
    }
   ],
   "source": [
    "example_seq, label = ['D', 'D', 'E', 'D', 'E', 'E', 'A', 'E', 'C', 'C', 'B', 'E', 'C', 'E', 'E', 'B', 'B', 'A', 'B', 'C'], \"B\"\n",
    "print(example_seq, label)\n",
    "\n",
    "attn_maps = get_attention_weights(transfo, example_seq, CHAR_TO_IDX)\n",
    "visualize_attention_weights(attn_maps, example_seq)\n",
    "\n",
    "# visualize_token_representations(transfo, example_seq, CHAR_TO_IDX)\n",
    "\n",
    "V = get_last_attention_values(transfo, example_seq, CHAR_TO_IDX)\n",
    "visualize_attention_values(V, example_seq)\n",
    "\n",
    "visualize_pooled_representation(transfo, example_seq, CHAR_TO_IDX)\n",
    "\n",
    "visualize_model_output(transfo, example_seq, CHAR_TO_IDX)"
   ]
  },
  {
   "cell_type": "code",
   "execution_count": 393,
   "id": "a8d61083-297e-4b43-a5c9-8a9daedc7c98",
   "metadata": {},
   "outputs": [
    {
     "data": {
      "text/plain": [
       "tensor([[-0.2453,  6.1232, -1.2044, -2.4754, -1.6606]],\n",
       "       grad_fn=<AddmmBackward0>)"
      ]
     },
     "execution_count": 393,
     "metadata": {},
     "output_type": "execute_result"
    }
   ],
   "source": [
    "transfo(seq_to_indices(example_seq, CHAR_TO_IDX))"
   ]
  },
  {
   "cell_type": "code",
   "execution_count": null,
   "id": "bc4b21d9-520f-4c08-a1a6-57c94bf44188",
   "metadata": {},
   "outputs": [],
   "source": []
  },
  {
   "cell_type": "markdown",
   "id": "3c53aa35-eec8-4737-802f-3dd79967269a",
   "metadata": {},
   "source": [
    "La matrice affichée représente les poids d'attention :\n",
    "$$A = \\mathrm{softmax} \\left( \\frac{Q K^T}{\\sqrt{d_k}} \\right)$$\n",
    "- chaque ligne représente une **query** ou **requête** (token qui \"regarde\");\n",
    "- chaque colonne une **key** ou **clé** (token \"regardé\").\n",
    "- chaque case $A_{ij}$ représente le **poids d’attention** de la query $i$ sur la key $j$.\n",
    "\n",
    "> **La tête d’attention a appris à pointer directement sur le token D, car c’est lui qui détermine la réponse.**\n",
    "> \n",
    "> **Dans ce cas, c'est la première requête (token B) qui contribue à la réponse.**\n",
    ">\n",
    "\n",
    "le modèle n’a pas besoin de \"mémoriser\" séquentiellement la position du dernier A, il apprend à \"attendre\" le dernier A et output le D qui vient après (dans ce cas)."
   ]
  },
  {
   "cell_type": "code",
   "execution_count": null,
   "id": "034b3d23-04d8-4bcc-92a6-b8ba128ae212",
   "metadata": {},
   "outputs": [],
   "source": []
  }
 ],
 "metadata": {
  "kernelspec": {
   "display_name": "base",
   "language": "python",
   "name": "base"
  },
  "language_info": {
   "codemirror_mode": {
    "name": "ipython",
    "version": 3
   },
   "file_extension": ".py",
   "mimetype": "text/x-python",
   "name": "python",
   "nbconvert_exporter": "python",
   "pygments_lexer": "ipython3",
   "version": "3.13.2"
  }
 },
 "nbformat": 4,
 "nbformat_minor": 5
}
